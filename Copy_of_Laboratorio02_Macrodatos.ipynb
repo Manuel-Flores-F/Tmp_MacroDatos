{
  "nbformat": 4,
  "nbformat_minor": 0,
  "metadata": {
    "colab": {
      "name": "Copy of Laboratorio02_Macrodatos.ipynb",
      "provenance": [],
      "collapsed_sections": [],
      "toc_visible": true,
      "include_colab_link": true
    },
    "kernelspec": {
      "display_name": "Python 3",
      "name": "python3"
    },
    "language_info": {
      "name": "python"
    }
  },
  "cells": [
    {
      "cell_type": "markdown",
      "metadata": {
        "id": "view-in-github",
        "colab_type": "text"
      },
      "source": [
        "<a href=\"https://colab.research.google.com/github/Manuel-Flores-F/Tmp_MacroDatos/blob/main/Copy_of_Laboratorio02_Macrodatos.ipynb\" target=\"_parent\"><img src=\"https://colab.research.google.com/assets/colab-badge.svg\" alt=\"Open In Colab\"/></a>"
      ]
    },
    {
      "cell_type": "code",
      "metadata": {
        "colab": {
          "base_uri": "https://localhost:8080/"
        },
        "id": "aoy2oOLkGFJR",
        "outputId": "149997a0-1176-4c20-921b-11cdfee9bd53"
      },
      "source": [
        "from google.colab import drive\n",
        "drive.mount('/content/drive')\n",
        "\n",
        "#from google.colab import files\n",
        "#files.upload()"
      ],
      "execution_count": 1,
      "outputs": [
        {
          "output_type": "stream",
          "text": [
            "Mounted at /content/drive\n"
          ],
          "name": "stdout"
        }
      ]
    },
    {
      "cell_type": "code",
      "metadata": {
        "id": "QPMHL7s1ISTS",
        "colab": {
          "base_uri": "https://localhost:8080/",
          "height": 367
        },
        "outputId": "d682faba-1041-49d2-9977-ffac5566c6d9"
      },
      "source": [
        "import os\n",
        "from os import makedirs\n",
        "print(os.getcwd())\n",
        "\n",
        "########################## W A R N I N G !\n",
        "\n",
        "#Crear el directorio para tener todos lo mismo (uwu)\n",
        "#Ejecutar solo 1 vez\n",
        "makedirs(\"drive/MyDrive/Curso_Macrodatos/Laboratorio_02/\")\n",
        "# Falla silenciosamente.\n",
        "makedirs(\"drive/MyDrive/Curso_Macrodatos/Laboratorio_02/\", exist_ok=True)\n"
      ],
      "execution_count": 3,
      "outputs": [
        {
          "output_type": "stream",
          "text": [
            "/content\n"
          ],
          "name": "stdout"
        },
        {
          "output_type": "error",
          "ename": "FileExistsError",
          "evalue": "ignored",
          "traceback": [
            "\u001b[0;31m---------------------------------------------------------------------------\u001b[0m",
            "\u001b[0;31mFileExistsError\u001b[0m                           Traceback (most recent call last)",
            "\u001b[0;32m<ipython-input-3-b42f3d6c5816>\u001b[0m in \u001b[0;36m<module>\u001b[0;34m()\u001b[0m\n\u001b[1;32m      7\u001b[0m \u001b[0;31m#Crear el directorio para tener todos lo mismo (uwu)\u001b[0m\u001b[0;34m\u001b[0m\u001b[0;34m\u001b[0m\u001b[0;34m\u001b[0m\u001b[0m\n\u001b[1;32m      8\u001b[0m \u001b[0;31m#Ejecutar solo 1 vez\u001b[0m\u001b[0;34m\u001b[0m\u001b[0;34m\u001b[0m\u001b[0;34m\u001b[0m\u001b[0m\n\u001b[0;32m----> 9\u001b[0;31m \u001b[0mmakedirs\u001b[0m\u001b[0;34m(\u001b[0m\u001b[0;34m\"drive/MyDrive/Curso_Macrodatos/Laboratorio_02/\"\u001b[0m\u001b[0;34m)\u001b[0m\u001b[0;34m\u001b[0m\u001b[0;34m\u001b[0m\u001b[0m\n\u001b[0m\u001b[1;32m     10\u001b[0m \u001b[0;31m# Falla silenciosamente.\u001b[0m\u001b[0;34m\u001b[0m\u001b[0;34m\u001b[0m\u001b[0;34m\u001b[0m\u001b[0m\n\u001b[1;32m     11\u001b[0m \u001b[0mmakedirs\u001b[0m\u001b[0;34m(\u001b[0m\u001b[0;34m\"drive/MyDrive/Curso_Macrodatos/Laboratorio_02/\"\u001b[0m\u001b[0;34m,\u001b[0m \u001b[0mexist_ok\u001b[0m\u001b[0;34m=\u001b[0m\u001b[0;32mTrue\u001b[0m\u001b[0;34m)\u001b[0m\u001b[0;34m\u001b[0m\u001b[0;34m\u001b[0m\u001b[0m\n",
            "\u001b[0;32m/usr/lib/python3.7/os.py\u001b[0m in \u001b[0;36mmakedirs\u001b[0;34m(name, mode, exist_ok)\u001b[0m\n\u001b[1;32m    221\u001b[0m             \u001b[0;32mreturn\u001b[0m\u001b[0;34m\u001b[0m\u001b[0;34m\u001b[0m\u001b[0m\n\u001b[1;32m    222\u001b[0m     \u001b[0;32mtry\u001b[0m\u001b[0;34m:\u001b[0m\u001b[0;34m\u001b[0m\u001b[0;34m\u001b[0m\u001b[0m\n\u001b[0;32m--> 223\u001b[0;31m         \u001b[0mmkdir\u001b[0m\u001b[0;34m(\u001b[0m\u001b[0mname\u001b[0m\u001b[0;34m,\u001b[0m \u001b[0mmode\u001b[0m\u001b[0;34m)\u001b[0m\u001b[0;34m\u001b[0m\u001b[0;34m\u001b[0m\u001b[0m\n\u001b[0m\u001b[1;32m    224\u001b[0m     \u001b[0;32mexcept\u001b[0m \u001b[0mOSError\u001b[0m\u001b[0;34m:\u001b[0m\u001b[0;34m\u001b[0m\u001b[0;34m\u001b[0m\u001b[0m\n\u001b[1;32m    225\u001b[0m         \u001b[0;31m# Cannot rely on checking for EEXIST, since the operating system\u001b[0m\u001b[0;34m\u001b[0m\u001b[0;34m\u001b[0m\u001b[0;34m\u001b[0m\u001b[0m\n",
            "\u001b[0;31mFileExistsError\u001b[0m: [Errno 17] File exists: 'drive/MyDrive/Curso_Macrodatos/Laboratorio_02/'"
          ]
        }
      ]
    },
    {
      "cell_type": "code",
      "metadata": {
        "colab": {
          "base_uri": "https://localhost:8080/"
        },
        "id": "DSg5_C-upz7Q",
        "outputId": "f6594409-7d1c-44f4-dbbc-34760d096944"
      },
      "source": [
        "import os\n",
        "\n",
        "dir=\"drive/MyDrive/Curso_Macrodatos/Laboratorio_02/\"\n",
        "\n",
        "os.chdir(dir)\n",
        "print(os.getcwd())"
      ],
      "execution_count": 5,
      "outputs": [
        {
          "output_type": "stream",
          "text": [
            "/content/drive/MyDrive/Curso_Macrodatos/Laboratorio_02\n"
          ],
          "name": "stdout"
        }
      ]
    },
    {
      "cell_type": "code",
      "metadata": {
        "id": "RCvSWU0sIz7u",
        "colab": {
          "base_uri": "https://localhost:8080/"
        },
        "outputId": "6b2599d3-1f70-4324-9eea-5242a74eeaae"
      },
      "source": [
        "%ls"
      ],
      "execution_count": 6,
      "outputs": [
        {
          "output_type": "stream",
          "text": [
            "peru_departamental_simple.geojson  vacunas_covid.csv\n",
            "peru_provincial_simple.geojson\n"
          ],
          "name": "stdout"
        }
      ]
    },
    {
      "cell_type": "markdown",
      "metadata": {
        "id": "IrVbST7DJl-0"
      },
      "source": [
        "### Librerias"
      ]
    },
    {
      "cell_type": "code",
      "metadata": {
        "id": "yg8A0awXJwjE"
      },
      "source": [
        "import pandas as pd\n",
        "import matplotlib.pyplot as plt\n",
        "import seaborn as sb\n"
      ],
      "execution_count": 7,
      "outputs": []
    },
    {
      "cell_type": "code",
      "metadata": {
        "id": "r7iJR7YXJGTN"
      },
      "source": [
        "df=pd.read_csv('vacunas_covid.csv', encoding='utf-8')"
      ],
      "execution_count": 8,
      "outputs": []
    },
    {
      "cell_type": "code",
      "metadata": {
        "colab": {
          "base_uri": "https://localhost:8080/"
        },
        "id": "bdLmCjSJiGJw",
        "outputId": "32d9eeb4-c81f-4b65-85b6-90bef1336e9c"
      },
      "source": [
        "from google.colab import drive\n",
        "drive.mount('/content/drive')"
      ],
      "execution_count": 9,
      "outputs": [
        {
          "output_type": "stream",
          "text": [
            "Drive already mounted at /content/drive; to attempt to forcibly remount, call drive.mount(\"/content/drive\", force_remount=True).\n"
          ],
          "name": "stdout"
        }
      ]
    },
    {
      "cell_type": "markdown",
      "metadata": {
        "id": "OFzgFlIWuaLw"
      },
      "source": [
        "#**Descripción General de la Data**"
      ]
    },
    {
      "cell_type": "code",
      "metadata": {
        "colab": {
          "base_uri": "https://localhost:8080/",
          "height": 272
        },
        "id": "UL6_q-O-CufZ",
        "outputId": "35e99cd9-3737-4007-d410-1b2b0ec0cb2e"
      },
      "source": [
        "df.head()"
      ],
      "execution_count": 10,
      "outputs": [
        {
          "output_type": "execute_result",
          "data": {
            "text/html": [
              "<div>\n",
              "<style scoped>\n",
              "    .dataframe tbody tr th:only-of-type {\n",
              "        vertical-align: middle;\n",
              "    }\n",
              "\n",
              "    .dataframe tbody tr th {\n",
              "        vertical-align: top;\n",
              "    }\n",
              "\n",
              "    .dataframe thead th {\n",
              "        text-align: right;\n",
              "    }\n",
              "</style>\n",
              "<table border=\"1\" class=\"dataframe\">\n",
              "  <thead>\n",
              "    <tr style=\"text-align: right;\">\n",
              "      <th></th>\n",
              "      <th>FECHA_CORTE</th>\n",
              "      <th>UUID</th>\n",
              "      <th>GRUPO_RIESGO</th>\n",
              "      <th>EDAD</th>\n",
              "      <th>SEXO</th>\n",
              "      <th>FECHA_VACUNACION</th>\n",
              "      <th>DOSIS</th>\n",
              "      <th>FABRICANTE</th>\n",
              "      <th>DIRESA</th>\n",
              "      <th>DEPARTAMENTO</th>\n",
              "      <th>PROVINCIA</th>\n",
              "      <th>DISTRITO</th>\n",
              "    </tr>\n",
              "  </thead>\n",
              "  <tbody>\n",
              "    <tr>\n",
              "      <th>0</th>\n",
              "      <td>20210504</td>\n",
              "      <td>04cd9264959046894f4235d5c8b62794</td>\n",
              "      <td>PERSONAL DE SALUD</td>\n",
              "      <td>NaN</td>\n",
              "      <td>MASCULINO</td>\n",
              "      <td>20210222</td>\n",
              "      <td>1</td>\n",
              "      <td>SINOPHARM</td>\n",
              "      <td>LIMA CENTRO</td>\n",
              "      <td>LIMA</td>\n",
              "      <td>LIMA</td>\n",
              "      <td>LA VICTORIA</td>\n",
              "    </tr>\n",
              "    <tr>\n",
              "      <th>1</th>\n",
              "      <td>20210504</td>\n",
              "      <td>14fd8ec748ba82a72a4c5556ee8e6372</td>\n",
              "      <td>PERSONAL DE SALUD</td>\n",
              "      <td>NaN</td>\n",
              "      <td>MASCULINO</td>\n",
              "      <td>20210310</td>\n",
              "      <td>1</td>\n",
              "      <td>SINOPHARM</td>\n",
              "      <td>LA LIBERTAD</td>\n",
              "      <td>LA LIBERTAD</td>\n",
              "      <td>TRUJILLO</td>\n",
              "      <td>VICTOR LARCO HERRERA</td>\n",
              "    </tr>\n",
              "    <tr>\n",
              "      <th>2</th>\n",
              "      <td>20210504</td>\n",
              "      <td>b17ceddbbde5df1c082e09dc076421fb</td>\n",
              "      <td>PERSONAL DE SALUD</td>\n",
              "      <td>NaN</td>\n",
              "      <td>MASCULINO</td>\n",
              "      <td>20210227</td>\n",
              "      <td>1</td>\n",
              "      <td>SINOPHARM</td>\n",
              "      <td>HUANUCO</td>\n",
              "      <td>HUANUCO</td>\n",
              "      <td>LEONCIO PRADO</td>\n",
              "      <td>RUPA-RUPA</td>\n",
              "    </tr>\n",
              "    <tr>\n",
              "      <th>3</th>\n",
              "      <td>20210504</td>\n",
              "      <td>e5e67a589a53167d365e3de4373c419d</td>\n",
              "      <td>ADULTO MAYOR</td>\n",
              "      <td>NaN</td>\n",
              "      <td>FEMENINO</td>\n",
              "      <td>20210417</td>\n",
              "      <td>1</td>\n",
              "      <td>PFIZER</td>\n",
              "      <td>LIMA SUR</td>\n",
              "      <td>LIMA</td>\n",
              "      <td>LIMA</td>\n",
              "      <td>CHORRILLOS</td>\n",
              "    </tr>\n",
              "    <tr>\n",
              "      <th>4</th>\n",
              "      <td>20210504</td>\n",
              "      <td>103ae79bc8e63d82e78c754ae5c78e75</td>\n",
              "      <td>ADULTO MAYOR</td>\n",
              "      <td>81.0</td>\n",
              "      <td>FEMENINO</td>\n",
              "      <td>20210422</td>\n",
              "      <td>1</td>\n",
              "      <td>ASTRAZENECA</td>\n",
              "      <td>UCAYALI</td>\n",
              "      <td>UCAYALI</td>\n",
              "      <td>CORONEL PORTILLO</td>\n",
              "      <td>CALLERIA</td>\n",
              "    </tr>\n",
              "  </tbody>\n",
              "</table>\n",
              "</div>"
            ],
            "text/plain": [
              "   FECHA_CORTE  ...              DISTRITO\n",
              "0     20210504  ...           LA VICTORIA\n",
              "1     20210504  ...  VICTOR LARCO HERRERA\n",
              "2     20210504  ...             RUPA-RUPA\n",
              "3     20210504  ...            CHORRILLOS\n",
              "4     20210504  ...              CALLERIA\n",
              "\n",
              "[5 rows x 12 columns]"
            ]
          },
          "metadata": {
            "tags": []
          },
          "execution_count": 10
        }
      ]
    },
    {
      "cell_type": "code",
      "metadata": {
        "colab": {
          "base_uri": "https://localhost:8080/",
          "height": 555
        },
        "id": "Ct9_oBlsgDkj",
        "outputId": "a530a7c4-a60d-4da7-cd93-d7b81af6ce62"
      },
      "source": [
        "df"
      ],
      "execution_count": null,
      "outputs": [
        {
          "output_type": "execute_result",
          "data": {
            "text/html": [
              "<div>\n",
              "<style scoped>\n",
              "    .dataframe tbody tr th:only-of-type {\n",
              "        vertical-align: middle;\n",
              "    }\n",
              "\n",
              "    .dataframe tbody tr th {\n",
              "        vertical-align: top;\n",
              "    }\n",
              "\n",
              "    .dataframe thead th {\n",
              "        text-align: right;\n",
              "    }\n",
              "</style>\n",
              "<table border=\"1\" class=\"dataframe\">\n",
              "  <thead>\n",
              "    <tr style=\"text-align: right;\">\n",
              "      <th></th>\n",
              "      <th>FECHA_CORTE</th>\n",
              "      <th>UUID</th>\n",
              "      <th>GRUPO_RIESGO</th>\n",
              "      <th>EDAD</th>\n",
              "      <th>SEXO</th>\n",
              "      <th>FECHA_VACUNACION</th>\n",
              "      <th>DOSIS</th>\n",
              "      <th>FABRICANTE</th>\n",
              "      <th>DIRESA</th>\n",
              "      <th>DEPARTAMENTO</th>\n",
              "      <th>PROVINCIA</th>\n",
              "      <th>DISTRITO</th>\n",
              "    </tr>\n",
              "  </thead>\n",
              "  <tbody>\n",
              "    <tr>\n",
              "      <th>0</th>\n",
              "      <td>20210504</td>\n",
              "      <td>04cd9264959046894f4235d5c8b62794</td>\n",
              "      <td>PERSONAL DE SALUD</td>\n",
              "      <td>NaN</td>\n",
              "      <td>MASCULINO</td>\n",
              "      <td>20210222</td>\n",
              "      <td>1</td>\n",
              "      <td>SINOPHARM</td>\n",
              "      <td>LIMA CENTRO</td>\n",
              "      <td>LIMA</td>\n",
              "      <td>LIMA</td>\n",
              "      <td>LA VICTORIA</td>\n",
              "    </tr>\n",
              "    <tr>\n",
              "      <th>1</th>\n",
              "      <td>20210504</td>\n",
              "      <td>14fd8ec748ba82a72a4c5556ee8e6372</td>\n",
              "      <td>PERSONAL DE SALUD</td>\n",
              "      <td>NaN</td>\n",
              "      <td>MASCULINO</td>\n",
              "      <td>20210310</td>\n",
              "      <td>1</td>\n",
              "      <td>SINOPHARM</td>\n",
              "      <td>LA LIBERTAD</td>\n",
              "      <td>LA LIBERTAD</td>\n",
              "      <td>TRUJILLO</td>\n",
              "      <td>VICTOR LARCO HERRERA</td>\n",
              "    </tr>\n",
              "    <tr>\n",
              "      <th>2</th>\n",
              "      <td>20210504</td>\n",
              "      <td>b17ceddbbde5df1c082e09dc076421fb</td>\n",
              "      <td>PERSONAL DE SALUD</td>\n",
              "      <td>NaN</td>\n",
              "      <td>MASCULINO</td>\n",
              "      <td>20210227</td>\n",
              "      <td>1</td>\n",
              "      <td>SINOPHARM</td>\n",
              "      <td>HUANUCO</td>\n",
              "      <td>HUANUCO</td>\n",
              "      <td>LEONCIO PRADO</td>\n",
              "      <td>RUPA-RUPA</td>\n",
              "    </tr>\n",
              "    <tr>\n",
              "      <th>3</th>\n",
              "      <td>20210504</td>\n",
              "      <td>e5e67a589a53167d365e3de4373c419d</td>\n",
              "      <td>ADULTO MAYOR</td>\n",
              "      <td>NaN</td>\n",
              "      <td>FEMENINO</td>\n",
              "      <td>20210417</td>\n",
              "      <td>1</td>\n",
              "      <td>PFIZER</td>\n",
              "      <td>LIMA SUR</td>\n",
              "      <td>LIMA</td>\n",
              "      <td>LIMA</td>\n",
              "      <td>CHORRILLOS</td>\n",
              "    </tr>\n",
              "    <tr>\n",
              "      <th>4</th>\n",
              "      <td>20210504</td>\n",
              "      <td>103ae79bc8e63d82e78c754ae5c78e75</td>\n",
              "      <td>ADULTO MAYOR</td>\n",
              "      <td>81.0</td>\n",
              "      <td>FEMENINO</td>\n",
              "      <td>20210422</td>\n",
              "      <td>1</td>\n",
              "      <td>ASTRAZENECA</td>\n",
              "      <td>UCAYALI</td>\n",
              "      <td>UCAYALI</td>\n",
              "      <td>CORONEL PORTILLO</td>\n",
              "      <td>CALLERIA</td>\n",
              "    </tr>\n",
              "    <tr>\n",
              "      <th>...</th>\n",
              "      <td>...</td>\n",
              "      <td>...</td>\n",
              "      <td>...</td>\n",
              "      <td>...</td>\n",
              "      <td>...</td>\n",
              "      <td>...</td>\n",
              "      <td>...</td>\n",
              "      <td>...</td>\n",
              "      <td>...</td>\n",
              "      <td>...</td>\n",
              "      <td>...</td>\n",
              "      <td>...</td>\n",
              "    </tr>\n",
              "    <tr>\n",
              "      <th>1856959</th>\n",
              "      <td>20210504</td>\n",
              "      <td>b4ee21f5c2f78bb163e4e645ab1b6373</td>\n",
              "      <td>PERSONAL DE SALUD</td>\n",
              "      <td>31.0</td>\n",
              "      <td>MASCULINO</td>\n",
              "      <td>20210225</td>\n",
              "      <td>1</td>\n",
              "      <td>SINOPHARM</td>\n",
              "      <td>LIMA CENTRO</td>\n",
              "      <td>LIMA</td>\n",
              "      <td>LIMA</td>\n",
              "      <td>MAGDALENA DEL MAR</td>\n",
              "    </tr>\n",
              "    <tr>\n",
              "      <th>1856960</th>\n",
              "      <td>20210504</td>\n",
              "      <td>05f18908536fcbf526210efa198e1aa5</td>\n",
              "      <td>PERSONAL DE SALUD</td>\n",
              "      <td>30.0</td>\n",
              "      <td>FEMENINO</td>\n",
              "      <td>20210225</td>\n",
              "      <td>1</td>\n",
              "      <td>SINOPHARM</td>\n",
              "      <td>LIMA CENTRO</td>\n",
              "      <td>LIMA</td>\n",
              "      <td>LIMA</td>\n",
              "      <td>MAGDALENA DEL MAR</td>\n",
              "    </tr>\n",
              "    <tr>\n",
              "      <th>1856961</th>\n",
              "      <td>20210504</td>\n",
              "      <td>7e35f5777815eb8c474483c3270c6aa5</td>\n",
              "      <td>PERSONAL DE SALUD</td>\n",
              "      <td>22.0</td>\n",
              "      <td>MASCULINO</td>\n",
              "      <td>20210225</td>\n",
              "      <td>1</td>\n",
              "      <td>SINOPHARM</td>\n",
              "      <td>LIMA CENTRO</td>\n",
              "      <td>LIMA</td>\n",
              "      <td>LIMA</td>\n",
              "      <td>MAGDALENA DEL MAR</td>\n",
              "    </tr>\n",
              "    <tr>\n",
              "      <th>1856962</th>\n",
              "      <td>20210504</td>\n",
              "      <td>dad115c390dd0af157002a555e6013e4</td>\n",
              "      <td>PERSONAL DE SALUD</td>\n",
              "      <td>22.0</td>\n",
              "      <td>MASCULINO</td>\n",
              "      <td>20210225</td>\n",
              "      <td>1</td>\n",
              "      <td>SINOPHARM</td>\n",
              "      <td>LIMA CENTRO</td>\n",
              "      <td>LIMA</td>\n",
              "      <td>LIMA</td>\n",
              "      <td>MAGDALENA DEL MAR</td>\n",
              "    </tr>\n",
              "    <tr>\n",
              "      <th>1856963</th>\n",
              "      <td>20210504</td>\n",
              "      <td>05ea529a3aaa3d4e420b826bc3b5250c</td>\n",
              "      <td>ADULTO MAYOR</td>\n",
              "      <td>70.0</td>\n",
              "      <td>FEMENINO</td>\n",
              "      <td>20210429</td>\n",
              "      <td>1</td>\n",
              "      <td>ASTRAZENECA</td>\n",
              "      <td>HUANUCO</td>\n",
              "      <td>HUANUCO</td>\n",
              "      <td>HUAMALIES</td>\n",
              "      <td>LLATA</td>\n",
              "    </tr>\n",
              "  </tbody>\n",
              "</table>\n",
              "<p>1856964 rows × 12 columns</p>\n",
              "</div>"
            ],
            "text/plain": [
              "         FECHA_CORTE  ...              DISTRITO\n",
              "0           20210504  ...           LA VICTORIA\n",
              "1           20210504  ...  VICTOR LARCO HERRERA\n",
              "2           20210504  ...             RUPA-RUPA\n",
              "3           20210504  ...            CHORRILLOS\n",
              "4           20210504  ...              CALLERIA\n",
              "...              ...  ...                   ...\n",
              "1856959     20210504  ...     MAGDALENA DEL MAR\n",
              "1856960     20210504  ...     MAGDALENA DEL MAR\n",
              "1856961     20210504  ...     MAGDALENA DEL MAR\n",
              "1856962     20210504  ...     MAGDALENA DEL MAR\n",
              "1856963     20210504  ...                 LLATA\n",
              "\n",
              "[1856964 rows x 12 columns]"
            ]
          },
          "metadata": {
            "tags": []
          },
          "execution_count": 72
        }
      ]
    },
    {
      "cell_type": "code",
      "metadata": {
        "colab": {
          "base_uri": "https://localhost:8080/",
          "height": 297
        },
        "id": "eOypMpdAKDxs",
        "outputId": "18285bbd-e5d4-435f-e95f-a57140d1328f"
      },
      "source": [
        "df.describe()"
      ],
      "execution_count": 11,
      "outputs": [
        {
          "output_type": "execute_result",
          "data": {
            "text/html": [
              "<div>\n",
              "<style scoped>\n",
              "    .dataframe tbody tr th:only-of-type {\n",
              "        vertical-align: middle;\n",
              "    }\n",
              "\n",
              "    .dataframe tbody tr th {\n",
              "        vertical-align: top;\n",
              "    }\n",
              "\n",
              "    .dataframe thead th {\n",
              "        text-align: right;\n",
              "    }\n",
              "</style>\n",
              "<table border=\"1\" class=\"dataframe\">\n",
              "  <thead>\n",
              "    <tr style=\"text-align: right;\">\n",
              "      <th></th>\n",
              "      <th>FECHA_CORTE</th>\n",
              "      <th>EDAD</th>\n",
              "      <th>FECHA_VACUNACION</th>\n",
              "      <th>DOSIS</th>\n",
              "    </tr>\n",
              "  </thead>\n",
              "  <tbody>\n",
              "    <tr>\n",
              "      <th>count</th>\n",
              "      <td>1856964.0</td>\n",
              "      <td>1.735385e+06</td>\n",
              "      <td>1.856964e+06</td>\n",
              "      <td>1.856964e+06</td>\n",
              "    </tr>\n",
              "    <tr>\n",
              "      <th>mean</th>\n",
              "      <td>20210504.0</td>\n",
              "      <td>5.233137e+01</td>\n",
              "      <td>2.021035e+07</td>\n",
              "      <td>1.347082e+00</td>\n",
              "    </tr>\n",
              "    <tr>\n",
              "      <th>std</th>\n",
              "      <td>0.0</td>\n",
              "      <td>2.139495e+01</td>\n",
              "      <td>8.378827e+01</td>\n",
              "      <td>4.760423e-01</td>\n",
              "    </tr>\n",
              "    <tr>\n",
              "      <th>min</th>\n",
              "      <td>20210504.0</td>\n",
              "      <td>1.800000e+01</td>\n",
              "      <td>2.021021e+07</td>\n",
              "      <td>1.000000e+00</td>\n",
              "    </tr>\n",
              "    <tr>\n",
              "      <th>25%</th>\n",
              "      <td>20210504.0</td>\n",
              "      <td>3.300000e+01</td>\n",
              "      <td>2.021031e+07</td>\n",
              "      <td>1.000000e+00</td>\n",
              "    </tr>\n",
              "    <tr>\n",
              "      <th>50%</th>\n",
              "      <td>20210504.0</td>\n",
              "      <td>4.800000e+01</td>\n",
              "      <td>2.021033e+07</td>\n",
              "      <td>1.000000e+00</td>\n",
              "    </tr>\n",
              "    <tr>\n",
              "      <th>75%</th>\n",
              "      <td>20210504.0</td>\n",
              "      <td>7.300000e+01</td>\n",
              "      <td>2.021042e+07</td>\n",
              "      <td>2.000000e+00</td>\n",
              "    </tr>\n",
              "    <tr>\n",
              "      <th>max</th>\n",
              "      <td>20210504.0</td>\n",
              "      <td>1.210000e+02</td>\n",
              "      <td>2.021050e+07</td>\n",
              "      <td>2.000000e+00</td>\n",
              "    </tr>\n",
              "  </tbody>\n",
              "</table>\n",
              "</div>"
            ],
            "text/plain": [
              "       FECHA_CORTE          EDAD  FECHA_VACUNACION         DOSIS\n",
              "count    1856964.0  1.735385e+06      1.856964e+06  1.856964e+06\n",
              "mean    20210504.0  5.233137e+01      2.021035e+07  1.347082e+00\n",
              "std            0.0  2.139495e+01      8.378827e+01  4.760423e-01\n",
              "min     20210504.0  1.800000e+01      2.021021e+07  1.000000e+00\n",
              "25%     20210504.0  3.300000e+01      2.021031e+07  1.000000e+00\n",
              "50%     20210504.0  4.800000e+01      2.021033e+07  1.000000e+00\n",
              "75%     20210504.0  7.300000e+01      2.021042e+07  2.000000e+00\n",
              "max     20210504.0  1.210000e+02      2.021050e+07  2.000000e+00"
            ]
          },
          "metadata": {
            "tags": []
          },
          "execution_count": 11
        }
      ]
    },
    {
      "cell_type": "code",
      "metadata": {
        "colab": {
          "base_uri": "https://localhost:8080/",
          "height": 500
        },
        "id": "LGAXyfK2C1fD",
        "outputId": "2c30af79-1676-4196-b703-db673d7a8092"
      },
      "source": [
        "plt.figure(figsize=(15,8))\n",
        "\n",
        "ax = plt.axes()\n",
        "sb.heatmap(df.isna(),cbar=False, cmap='viridis',yticklabels=False)\n",
        "ax.set_title('Mapa de calor de datos faltantes')\n",
        "plt.savefig(\"data_faltante.jpg\", bbox_inches='tight')\n",
        "plt.show()"
      ],
      "execution_count": 12,
      "outputs": [
        {
          "output_type": "display_data",
          "data": {
            "image/png": "[encoded data removed]",
            "text/plain": [
              "<Figure size 1080x576 with 1 Axes>"
            ]
          },
          "metadata": {
            "tags": [],
            "needs_background": "light"
          }
        }
      ]
    },
    {
      "cell_type": "code",
      "metadata": {
        "colab": {
          "base_uri": "https://localhost:8080/"
        },
        "id": "6Ls-GSJgdB2W",
        "outputId": "a1de754d-a743-4b55-9d8b-3173dbff0243"
      },
      "source": [
        "# Porcentaje de datos nan\n",
        "(df.EDAD.isna().sum() / len(df.EDAD))*100"
      ],
      "execution_count": 13,
      "outputs": [
        {
          "output_type": "execute_result",
          "data": {
            "text/plain": [
              "6.547192083422187"
            ]
          },
          "metadata": {
            "tags": []
          },
          "execution_count": 13
        }
      ]
    },
    {
      "cell_type": "markdown",
      "metadata": {
        "id": "QnV5vx95RL5f"
      },
      "source": [
        "## Limpieza de Datos"
      ]
    },
    {
      "cell_type": "code",
      "metadata": {
        "colab": {
          "base_uri": "https://localhost:8080/"
        },
        "id": "GxF7B1k4RP9W",
        "outputId": "da852a66-a331-4398-8b67-c35d3e90da1f"
      },
      "source": [
        "#metodo visual para ver que columnas contienen algún missing\n",
        "df.isnull().any()"
      ],
      "execution_count": 14,
      "outputs": [
        {
          "output_type": "execute_result",
          "data": {
            "text/plain": [
              "FECHA_CORTE         False\n",
              "UUID                False\n",
              "GRUPO_RIESGO        False\n",
              "EDAD                 True\n",
              "SEXO                False\n",
              "FECHA_VACUNACION    False\n",
              "DOSIS               False\n",
              "FABRICANTE          False\n",
              "DIRESA              False\n",
              "DEPARTAMENTO        False\n",
              "PROVINCIA           False\n",
              "DISTRITO            False\n",
              "dtype: bool"
            ]
          },
          "metadata": {
            "tags": []
          },
          "execution_count": 14
        }
      ]
    },
    {
      "cell_type": "code",
      "metadata": {
        "id": "nvyl72iRgCVb"
      },
      "source": [
        ""
      ],
      "execution_count": null,
      "outputs": []
    },
    {
      "cell_type": "code",
      "metadata": {
        "colab": {
          "base_uri": "https://localhost:8080/"
        },
        "id": "Q0COulppRiQv",
        "outputId": "8305df8e-5347-45cb-a3a2-6123033c4227"
      },
      "source": [
        "# Verificamos que las columnas DEPARTAMENTO, GRUPO_RIESGO y SEXO tengan los valores indicados\n",
        "print(df['DEPARTAMENTO'].unique())\n",
        "print(df['GRUPO_RIESGO'].unique())\n",
        "print(df['SEXO'].unique())\n",
        "print(df['EDAD'].unique())"
      ],
      "execution_count": 15,
      "outputs": [
        {
          "output_type": "stream",
          "text": [
            "['LIMA' 'LA LIBERTAD' 'HUANUCO' 'UCAYALI' 'LORETO' 'CALLAO' 'ICA' 'PASCO'\n",
            " 'CAJAMARCA' 'PIURA' 'AREQUIPA' 'AYACUCHO' 'ANCASH' 'LAMBAYEQUE'\n",
            " 'MADRE DE DIOS' 'SAN MARTIN' 'APURIMAC' 'CUSCO' 'AMAZONAS' 'JUNIN'\n",
            " 'TACNA' 'HUANCAVELICA' 'TUMBES' 'MOQUEGUA' 'PUNO']\n",
            "['PERSONAL DE SALUD' 'ADULTO MAYOR' 'PERSONAL MILITAR Ó FF AA'\n",
            " 'BRIGADISTAS' 'POLICIA NACIONAL DEL PERU' 'PERSONAL DE SEGURIDAD'\n",
            " 'TRABAJADOR Ó PERSONAL DE LIMPIEZA' 'BOMBERO'\n",
            " 'ESTUDIANTES DE CIENCIAS DE LA SALUD']\n",
            "['MASCULINO' 'FEMENINO']\n",
            "[ nan  81.  69.  73.  72.  62.  75.  86.  78.  71.  77.  74.  87.  95.\n",
            "  60.  80.  70.  76.  92.  85.  84.  65.  61.  83.  79.  58.  90.  56.\n",
            "  66.  82.  59.  94.  91.  89.  64.  68.  63.  55.  57.  54.  88.  96.\n",
            "  67.  97.  53.  93. 100.  98.  52.  50.  99. 101.  32.  51.  26.  49.\n",
            "  48. 105.  47.  44.  46.  45.  43.  42. 102. 104.  33.  31.  28.  36.\n",
            "  30.  35.  41. 103.  37.  34.  39. 110.  20. 107. 116. 106. 109. 111.\n",
            " 112.  19. 108. 117.  40. 119. 114.  29. 118.  22. 113.  38.  24.  21.\n",
            "  27.  25.  23. 121.  18.]\n"
          ],
          "name": "stdout"
        }
      ]
    },
    {
      "cell_type": "code",
      "metadata": {
        "id": "HpoSUjmZRV43"
      },
      "source": [
        "# Filtramos las filas que no tienen valor en las columnas EDAD o SEXO\n",
        "df = df[df['EDAD'].notnull() & df['SEXO'].notnull()]"
      ],
      "execution_count": 16,
      "outputs": []
    },
    {
      "cell_type": "markdown",
      "metadata": {
        "id": "-S0FZYu7YJBP"
      },
      "source": [
        "## 1.- Vacunación por Genero"
      ]
    },
    {
      "cell_type": "code",
      "metadata": {
        "id": "WXteSpysvDTQ"
      },
      "source": [
        "#plt.bar(df['DEPARTAMENTO'], df['DOSIS'])\n",
        "\n",
        "cont_pais_gen = df.groupby(['SEXO']).count().reset_index()\n",
        "cont_pais_gen['Conteo'] = cont_pais_gen['DOSIS']\n",
        "\n",
        "cont_f = cont_pais_gen[cont_pais_gen['SEXO'] == 'FEMENINO']\n",
        "cont_m = cont_pais_gen[cont_pais_gen['SEXO'] == 'MASCULINO']\n",
        "#cont_m.head()"
      ],
      "execution_count": 17,
      "outputs": []
    },
    {
      "cell_type": "markdown",
      "metadata": {
        "id": "yyc8Pej21oHo"
      },
      "source": [
        "###1.1.- Por Genero a nivel de pais"
      ]
    },
    {
      "cell_type": "code",
      "metadata": {
        "colab": {
          "base_uri": "https://localhost:8080/",
          "height": 309
        },
        "id": "lz28ip4FvWED",
        "outputId": "9a94c6b4-8dd7-4970-fb0e-ce6cdc553328"
      },
      "source": [
        "#Barras comparadas Dosis por sexo en cada departamento\n",
        "import numpy as np\n",
        "width = 0.5 #ancho\n",
        "labels = cont_m['DOSIS']\n",
        "x = np.arange(len(labels))\n",
        "\n",
        "labels = 'Masculino', 'Femenino'\n",
        "sizes = [cont_m['Conteo'],cont_f['Conteo']]\n",
        " \n",
        "fig1, ax1 = plt.subplots()\n",
        "ax1.pie(sizes, labels=labels, autopct='%1.1f%%')\n",
        "ax1.axis('equal')  \n",
        "plt.savefig(\"porcentaje_genero.jpg\", bbox_inches='tight')\n",
        "plt.show()"
      ],
      "execution_count": 18,
      "outputs": [
        {
          "output_type": "stream",
          "text": [
            "/usr/local/lib/python3.7/dist-packages/ipykernel_launcher.py:11: MatplotlibDeprecationWarning: Non-1D inputs to pie() are currently squeeze()d, but this behavior is deprecated since 3.1 and will be removed in 3.3; pass a 1D array instead.\n",
            "  # This is added back by InteractiveShellApp.init_path()\n"
          ],
          "name": "stderr"
        },
        {
          "output_type": "display_data",
          "data": {
            "image/png": "[encoded data removed]",
            "text/plain": [
              "<Figure size 432x288 with 1 Axes>"
            ]
          },
          "metadata": {
            "tags": []
          }
        }
      ]
    },
    {
      "cell_type": "code",
      "metadata": {
        "id": "7vNSyMg9LLTb"
      },
      "source": [
        "#plt.bar(df['DEPARTAMENTO'], df['DOSIS'])\n",
        "\n",
        "cont_pais_gen = df.groupby(['SEXO','DEPARTAMENTO']).count().reset_index()\n",
        "cont_pais_gen['Conteo'] = cont_pais_gen['DOSIS']\n",
        "\n",
        "cont_f = cont_pais_gen[cont_pais_gen['SEXO'] == 'FEMENINO']\n",
        "cont_m = cont_pais_gen[cont_pais_gen['SEXO'] == 'MASCULINO']\n",
        "#cont_m.head(5)"
      ],
      "execution_count": 20,
      "outputs": []
    },
    {
      "cell_type": "markdown",
      "metadata": {
        "id": "uZdbilDN1-U9"
      },
      "source": [
        "###1.2.- Por Genero a nivel de departamento"
      ]
    },
    {
      "cell_type": "code",
      "metadata": {
        "colab": {
          "base_uri": "https://localhost:8080/",
          "height": 532
        },
        "id": "1yj5Tu3LRjgU",
        "outputId": "14f36129-8a7c-478f-bfc8-fc972d1fa716"
      },
      "source": [
        "#Barras comparadas Dosis por sexo en cada departamento\n",
        "import numpy as np\n",
        "width = 0.35 #ancho\n",
        "labels = cont_m['DEPARTAMENTO']\n",
        "x = np.arange(len(labels))\n",
        "\n",
        "f, ax = plt.subplots(figsize=(20,9)) # set the size that you'd like (width, height)\n",
        "plt.bar(x - width/2, cont_f['Conteo'],width,label='F')\n",
        "plt.bar(x + width/2, cont_m['Conteo'],width,label='M')\n",
        "\n",
        "plt.xticks(x,labels, fontsize=6)\n",
        "ax.legend(fontsize = 14)\n",
        "plt.savefig(\"porcentaje_dpt.jpg\", bbox_inches='tight')\n",
        "plt.show()"
      ],
      "execution_count": 21,
      "outputs": [
        {
          "output_type": "display_data",
          "data": {
            "image/png": "[encoded data removed]",
            "text/plain": [
              "<Figure size 1440x648 with 1 Axes>"
            ]
          },
          "metadata": {
            "tags": [],
            "needs_background": "light"
          }
        }
      ]
    },
    {
      "cell_type": "markdown",
      "metadata": {
        "id": "YcGiEFXh35nN"
      },
      "source": [
        "##2.- Vacunación por Edad"
      ]
    },
    {
      "cell_type": "markdown",
      "metadata": {
        "id": "tbd9kYEm4BOX"
      },
      "source": [
        "### 2.1.- Vacunación por Edad General\n",
        "\n",
        "1.   Primera Infancia (0-5 años)\n",
        "2.   Infancia (6 - 11 años)\n",
        "3.   Adolescencia (12 - 18 años)\n",
        "4.   Juventud (19 - 26 años)\n",
        "5.   Adultez (27- 59 años)\n",
        "6.   Persona Mayor (60 años o mas) envejecimiento y vejez\n"
      ]
    },
    {
      "cell_type": "code",
      "metadata": {
        "id": "WX59hRHB4LYN"
      },
      "source": [
        "#plt.bar(df['DEPARTAMENTO'], df['DOSIS'])\n",
        "\n",
        "cont_pais_gen = df.groupby(['EDAD']).count().reset_index()\n",
        "cont_pais_gen['Conteo'] = cont_pais_gen['DOSIS']\n",
        "\n",
        "cont_04 = cont_pais_gen[cont_pais_gen['EDAD'].between(19, 26)]\n",
        "cont_05 = cont_pais_gen[cont_pais_gen['EDAD'].between(27, 59)]\n",
        "cont_06 = cont_pais_gen[cont_pais_gen['EDAD'].between(60, 110)]\n",
        "#cont_05.Conteo.sum()\n",
        "#cont_04.count()\n"
      ],
      "execution_count": 22,
      "outputs": []
    },
    {
      "cell_type": "code",
      "metadata": {
        "colab": {
          "base_uri": "https://localhost:8080/",
          "height": 248
        },
        "id": "i7NMTAel94pn",
        "outputId": "e7a2a8c8-3062-4eb6-a219-c487bd5a61c4"
      },
      "source": [
        "#Barras comparadas Dosis por sexo en cada departamento\n",
        "import numpy as np\n",
        "width = 0.35 #ancho\n",
        "x = np.arange(len(labels))\n",
        "\n",
        "labels = 'Joven', 'Adulto','Adulto Mayor'\n",
        "sizes = [cont_04.Conteo.sum(),cont_05.Conteo.sum(),cont_06.Conteo.sum()]\n",
        " \n",
        "fig1, ax1 = plt.subplots()\n",
        "ax1.pie(sizes, labels=labels, autopct='%1.3f%%')\n",
        "ax1.axis('equal')  \n",
        "plt.savefig(\"porcentaje_edad.jpg\", bbox_inches='tight')\n",
        "plt.show()"
      ],
      "execution_count": 23,
      "outputs": [
        {
          "output_type": "display_data",
          "data": {
            "image/png": "[encoded data removed]",
            "text/plain": [
              "<Figure size 432x288 with 1 Axes>"
            ]
          },
          "metadata": {
            "tags": []
          }
        }
      ]
    },
    {
      "cell_type": "code",
      "metadata": {
        "id": "BZVO5V0kVHd4"
      },
      "source": [
        "#Contar por pais y Genero \n",
        "cont_pais_gen = df.groupby(['SEXO','FABRICANTE']).count().reset_index()\n",
        "cont_pais_gen['Conteo'] = cont_pais_gen['DOSIS']\n",
        "#cont_pais_gen = cont_pais_gen.drop(['edad','gasto','dia'],axis=1)\n",
        "cont_f = cont_pais_gen[cont_pais_gen['SEXO'] == 'FEMENINO']\n",
        "cont_m = cont_pais_gen[cont_pais_gen['SEXO'] == 'MASCULINO']"
      ],
      "execution_count": 42,
      "outputs": []
    },
    {
      "cell_type": "markdown",
      "metadata": {
        "id": "6L9u8A_T3eHK"
      },
      "source": [
        "## Dosis totales por Fabricante\n",
        "\n"
      ]
    },
    {
      "cell_type": "code",
      "metadata": {
        "colab": {
          "base_uri": "https://localhost:8080/",
          "height": 320
        },
        "id": "JHTZobV5VMDb",
        "outputId": "efae37bd-c84a-4aed-8e46-5db50aef62c7"
      },
      "source": [
        "#Barras comparadas #Dosis por sexo en cada fabricante\n",
        "import numpy as np\n",
        "width = 0.35 #ancho\n",
        "labels = cont_m['FABRICANTE']\n",
        "x = np.arange(len(labels))\n",
        "\n",
        "f, ax = plt.subplots(figsize=(12,5)) # set the size that you'd like (width, height)\n",
        "plt.bar(x + width/2, cont_m['Conteo'],width,label='M')\n",
        "plt.bar(x - width/2, cont_f['Conteo'],width,label='F')\n",
        "plt.xticks(x,labels, fontsize=10)\n",
        "ax.legend(fontsize = 10)\n",
        "plt.savefig(\"porcentaje_fabricantes.jpg\", bbox_inches='tight')\n",
        "plt.show()"
      ],
      "execution_count": 43,
      "outputs": [
        {
          "output_type": "display_data",
          "data": {
            "image/png": "[encoded data removed]",
            "text/plain": [
              "<Figure size 864x360 with 1 Axes>"
            ]
          },
          "metadata": {
            "tags": [],
            "needs_background": "light"
          }
        }
      ]
    },
    {
      "cell_type": "markdown",
      "metadata": {
        "id": "L7jJbprEJZHR"
      },
      "source": [
        "## Dosis totales por Grupo de riesgo y genero"
      ]
    },
    {
      "cell_type": "code",
      "metadata": {
        "id": "Tb34PCjlNMa3"
      },
      "source": [
        "#Contar por grupo de riesgo y Genero \n",
        "cont_pais_gen = df.groupby(['SEXO','GRUPO_RIESGO']).count().reset_index()\n",
        "cont_pais_gen['Conteo'] = cont_pais_gen['DOSIS']\n",
        "#cont_pais_gen = cont_pais_gen.drop(['edad','gasto','dia'],axis=1)\n",
        "cont_f = cont_pais_gen[cont_pais_gen['SEXO'] == 'FEMENINO']\n",
        "cont_m = cont_pais_gen[cont_pais_gen['SEXO'] == 'MASCULINO']"
      ],
      "execution_count": 44,
      "outputs": []
    },
    {
      "cell_type": "code",
      "metadata": {
        "colab": {
          "base_uri": "https://localhost:8080/",
          "height": 315
        },
        "id": "SssF_QEsNl4X",
        "outputId": "2d6e8125-e8ba-473e-b737-57106e1c8081"
      },
      "source": [
        "import numpy as np\n",
        "width = 0.20 #ancho\n",
        "labels = cont_m['GRUPO_RIESGO']\n",
        "x = np.arange(len(labels))\n",
        "\n",
        "f, ax = plt.subplots(figsize=(26,5)) # set the size that you'd like (width, height)\n",
        "plt.bar(x + width, cont_m['Conteo'],width,label='M')\n",
        "plt.bar(x - width, cont_f['Conteo'],width,label='F')\n",
        "plt.xticks(x,labels, fontsize=7)\n",
        "ax.legend(fontsize = 10)\n",
        "plt.savefig(\"porcentaje_grupoDeRiesgo.jpg\", bbox_inches='tight')\n",
        "plt.show()"
      ],
      "execution_count": 49,
      "outputs": [
        {
          "output_type": "display_data",
          "data": {
            "image/png": "[encoded data removed]",
            "text/plain": [
              "<Figure size 1872x360 with 1 Axes>"
            ]
          },
          "metadata": {
            "tags": [],
            "needs_background": "light"
          }
        }
      ]
    },
    {
      "cell_type": "markdown",
      "metadata": {
        "id": "nXjvMK9JYOE9"
      },
      "source": [
        "### Evolución de las Dosis de Vacunas diarias y acumuladas"
      ]
    },
    {
      "cell_type": "code",
      "metadata": {
        "id": "LB01TZzqV2Ff"
      },
      "source": [
        "format='%Y%m%d'\n",
        "\n",
        "df['FECHA_VACUNACION'] = pd.to_datetime(df['FECHA_VACUNACION'], format=format)"
      ],
      "execution_count": 50,
      "outputs": []
    },
    {
      "cell_type": "code",
      "metadata": {
        "colab": {
          "base_uri": "https://localhost:8080/",
          "height": 904
        },
        "id": "GxTZ-Nr3TOh-",
        "outputId": "594766c8-c0fb-482b-f476-ac468350f4d7"
      },
      "source": [
        "#Graficando #Dosis por fecha de vacunacion\n",
        "suma_edad_df = df.groupby(['FECHA_VACUNACION']).sum().reset_index()\n",
        "\n",
        "plt.figure(figsize=(18,12))\n",
        "# Primera grafica\n",
        "plt.subplot(2,1,1)\n",
        "\n",
        "plt.plot(suma_edad_df['FECHA_VACUNACION'],suma_edad_df['DOSIS'], '-', label=\"Dosis Diarias\")\n",
        "\n",
        "plt.title(\"Evolución - Dosis de las Vacunas\")\n",
        "plt.ylabel('#Dosis')\n",
        "plt.xlabel('Mediciones Diarias')\n",
        "plt.legend()\n",
        "plt.grid()\n",
        "plt.tight_layout()\n",
        "\n",
        "# Segunda grafica\n",
        "plt.subplot(2,1,2)\n",
        "\n",
        "plt.plot(suma_edad_df['FECHA_VACUNACION'],np.cumsum(suma_edad_df['DOSIS']), '-', label=\"Dosis Acumulado\")\n",
        "\n",
        "plt.ylabel('#Dosis')\n",
        "plt.xlabel('Mediciones Diarias')\n",
        "plt.legend()\n",
        "plt.grid()\n",
        "plt.savefig(\"historial_dosis_fecha.jpg\", bbox_inches='tight')\n",
        "plt.show()"
      ],
      "execution_count": 51,
      "outputs": [
        {
          "output_type": "display_data",
          "data": {
            "image/png": "[encoded data removed]",
            "text/plain": [
              "<Figure size 1296x864 with 2 Axes>"
            ]
          },
          "metadata": {
            "tags": [],
            "needs_background": "light"
          }
        }
      ]
    },
    {
      "cell_type": "markdown",
      "metadata": {
        "id": "ltobJ02USbkI"
      },
      "source": [
        "## Distribución porcentual de individuos según Dosis"
      ]
    },
    {
      "cell_type": "code",
      "metadata": {
        "id": "ZgDUjzKPHiwE"
      },
      "source": [
        "# Nos quedamos con los datos que correspondan solo a la primera dosis\n",
        "UnaDosis = df[df['DOSIS'] == 1]\n",
        "DosDosis = df[df['DOSIS'] == 2]\n"
      ],
      "execution_count": 52,
      "outputs": []
    },
    {
      "cell_type": "code",
      "metadata": {
        "colab": {
          "base_uri": "https://localhost:8080/",
          "height": 248
        },
        "id": "wtQnsCbhTFrr",
        "outputId": "daaf157b-125b-46c4-d97c-e80996130420"
      },
      "source": [
        "#Barras comparadas Dosis por sexo en cada departamento\n",
        "import numpy as np\n",
        "width = 0.5 #ancho\n",
        "labels = cont_m['DOSIS']\n",
        "x = np.arange(len(labels))\n",
        "\n",
        "labels = 'Primera Dosis', 'Segunda Dosis'\n",
        "sizes = [UnaDosis['DOSIS'].shape[0], DosDosis['DOSIS'].shape[0]]\n",
        " \n",
        "fig1, ax1 = plt.subplots()\n",
        "ax1.pie(sizes, labels=labels, autopct='%1.1f%%')\n",
        "ax1.axis('equal')  \n",
        "plt.savefig(\"porcentaje_SegunDosis.jpg\", bbox_inches='tight')\n",
        "plt.show()"
      ],
      "execution_count": 53,
      "outputs": [
        {
          "output_type": "display_data",
          "data": {
            "image/png": "[encoded data removed]",
            "text/plain": [
              "<Figure size 432x288 with 1 Axes>"
            ]
          },
          "metadata": {
            "tags": []
          }
        }
      ]
    },
    {
      "cell_type": "markdown",
      "metadata": {
        "id": "ZU4Urfd2Lm2j"
      },
      "source": [
        "Comparando la población que ha recibido solo 1 Vacuna"
      ]
    },
    {
      "cell_type": "code",
      "metadata": {
        "colab": {
          "base_uri": "https://localhost:8080/",
          "height": 258
        },
        "id": "6W3mYv0WL1Al",
        "outputId": "5de11fe7-dff7-458a-8714-9fe6baf523c2"
      },
      "source": [
        "#Barras comparadas Dosis por sexo en cada departamento\n",
        "import numpy as np\n",
        "width = 0.5 #ancho\n",
        "labels = cont_m['DOSIS']\n",
        "x = np.arange(len(labels))\n",
        "\n",
        "labels = 'Una_Dosis', 'Dos_Dosis'\n",
        "sizes = [UnaDosis['DOSIS'].shape[0] - DosDosis['DOSIS'].shape[0], DosDosis['DOSIS'].shape[0]]\n",
        " \n",
        "fig1, ax1 = plt.subplots()\n",
        "ax1.pie(sizes, labels=labels, autopct='%1.1f%%')\n",
        "ax1.axis('equal')  \n",
        "plt.savefig(\"porcentaje_SegunDosis.jpg\", bbox_inches='tight')\n",
        "plt.show()"
      ],
      "execution_count": 54,
      "outputs": [
        {
          "output_type": "display_data",
          "data": {
            "image/png": "[encoded data removed]",
            "text/plain": [
              "<Figure size 432x288 with 1 Axes>"
            ]
          },
          "metadata": {
            "tags": []
          }
        }
      ]
    },
    {
      "cell_type": "markdown",
      "metadata": {
        "id": "sXObE9GSWovG"
      },
      "source": [
        "## Distribucion de vacunados - segunda dosis - Distrito"
      ]
    },
    {
      "cell_type": "markdown",
      "metadata": {
        "id": "OglzZ1JIIHmJ"
      },
      "source": [
        "#Mapa de Calor"
      ]
    },
    {
      "cell_type": "code",
      "metadata": {
        "colab": {
          "base_uri": "https://localhost:8080/"
        },
        "id": "EQ1hQBITYiiI",
        "outputId": "a583d055-9560-4ac6-e7c7-08809a059892"
      },
      "source": [
        "!pip install geopandas"
      ],
      "execution_count": 25,
      "outputs": [
        {
          "output_type": "stream",
          "text": [
            "Collecting geopandas\n",
            "\u001b[?25l  Downloading https://files.pythonhosted.org/packages/d7/bf/e9cefb69d39155d122b6ddca53893b61535fa6ffdad70bf5ef708977f53f/geopandas-0.9.0-py2.py3-none-any.whl (994kB)\n",
            "\u001b[K     |████████████████████████████████| 1.0MB 5.5MB/s \n",
            "\u001b[?25hRequirement already satisfied: shapely>=1.6 in /usr/local/lib/python3.7/dist-packages (from geopandas) (1.7.1)\n",
            "Collecting pyproj>=2.2.0\n",
            "\u001b[?25l  Downloading https://files.pythonhosted.org/packages/b1/72/d52e9ca81caef056062d71991b0e9b1d16af042245627c5d0e4916a36c4f/pyproj-3.0.1-cp37-cp37m-manylinux2010_x86_64.whl (6.5MB)\n",
            "\u001b[K     |████████████████████████████████| 6.5MB 12.3MB/s \n",
            "\u001b[?25hCollecting fiona>=1.8\n",
            "\u001b[?25l  Downloading https://files.pythonhosted.org/packages/ea/2a/404b22883298a3efe9c6ef8d67acbf2c38443fa366ee9cd4cd34e17626ea/Fiona-1.8.19-cp37-cp37m-manylinux1_x86_64.whl (15.3MB)\n",
            "\u001b[K     |████████████████████████████████| 15.3MB 253kB/s \n",
            "\u001b[?25hRequirement already satisfied: pandas>=0.24.0 in /usr/local/lib/python3.7/dist-packages (from geopandas) (1.1.5)\n",
            "Requirement already satisfied: certifi in /usr/local/lib/python3.7/dist-packages (from pyproj>=2.2.0->geopandas) (2020.12.5)\n",
            "Collecting cligj>=0.5\n",
            "  Downloading https://files.pythonhosted.org/packages/42/1e/947eadf10d6804bf276eb8a038bd5307996dceaaa41cfd21b7a15ec62f5d/cligj-0.7.1-py3-none-any.whl\n",
            "Requirement already satisfied: attrs>=17 in /usr/local/lib/python3.7/dist-packages (from fiona>=1.8->geopandas) (20.3.0)\n",
            "Collecting click-plugins>=1.0\n",
            "  Downloading https://files.pythonhosted.org/packages/e9/da/824b92d9942f4e472702488857914bdd50f73021efea15b4cad9aca8ecef/click_plugins-1.1.1-py2.py3-none-any.whl\n",
            "Requirement already satisfied: click<8,>=4.0 in /usr/local/lib/python3.7/dist-packages (from fiona>=1.8->geopandas) (7.1.2)\n",
            "Requirement already satisfied: six>=1.7 in /usr/local/lib/python3.7/dist-packages (from fiona>=1.8->geopandas) (1.15.0)\n",
            "Collecting munch\n",
            "  Downloading https://files.pythonhosted.org/packages/cc/ab/85d8da5c9a45e072301beb37ad7f833cd344e04c817d97e0cc75681d248f/munch-2.5.0-py2.py3-none-any.whl\n",
            "Requirement already satisfied: pytz>=2017.2 in /usr/local/lib/python3.7/dist-packages (from pandas>=0.24.0->geopandas) (2018.9)\n",
            "Requirement already satisfied: numpy>=1.15.4 in /usr/local/lib/python3.7/dist-packages (from pandas>=0.24.0->geopandas) (1.19.5)\n",
            "Requirement already satisfied: python-dateutil>=2.7.3 in /usr/local/lib/python3.7/dist-packages (from pandas>=0.24.0->geopandas) (2.8.1)\n",
            "Installing collected packages: pyproj, cligj, click-plugins, munch, fiona, geopandas\n",
            "Successfully installed click-plugins-1.1.1 cligj-0.7.1 fiona-1.8.19 geopandas-0.9.0 munch-2.5.0 pyproj-3.0.1\n"
          ],
          "name": "stdout"
        }
      ]
    },
    {
      "cell_type": "code",
      "metadata": {
        "colab": {
          "base_uri": "https://localhost:8080/",
          "height": 204
        },
        "id": "KFohKYOIYtTp",
        "outputId": "49506d2d-bbcd-430b-d02e-6bce26277c14"
      },
      "source": [
        "import geopandas as gpd\n",
        "\n",
        "url_geojson = \"peru_departamental_simple.geojson\"\n",
        "\n",
        "region_geojson = gpd.read_file(url_geojson)\n",
        "region_geojson.head()\n"
      ],
      "execution_count": 26,
      "outputs": [
        {
          "output_type": "execute_result",
          "data": {
            "text/html": [
              "<div>\n",
              "<style scoped>\n",
              "    .dataframe tbody tr th:only-of-type {\n",
              "        vertical-align: middle;\n",
              "    }\n",
              "\n",
              "    .dataframe tbody tr th {\n",
              "        vertical-align: top;\n",
              "    }\n",
              "\n",
              "    .dataframe thead th {\n",
              "        text-align: right;\n",
              "    }\n",
              "</style>\n",
              "<table border=\"1\" class=\"dataframe\">\n",
              "  <thead>\n",
              "    <tr style=\"text-align: right;\">\n",
              "      <th></th>\n",
              "      <th>NOMBDEP</th>\n",
              "      <th>COUNT</th>\n",
              "      <th>FIRST_IDDP</th>\n",
              "      <th>HECTARES</th>\n",
              "      <th>geometry</th>\n",
              "    </tr>\n",
              "  </thead>\n",
              "  <tbody>\n",
              "    <tr>\n",
              "      <th>0</th>\n",
              "      <td>AMAZONAS</td>\n",
              "      <td>84</td>\n",
              "      <td>01</td>\n",
              "      <td>3930646.567</td>\n",
              "      <td>POLYGON ((-77.75893 -6.96451, -77.84586 -6.976...</td>\n",
              "    </tr>\n",
              "    <tr>\n",
              "      <th>1</th>\n",
              "      <td>ANCASH</td>\n",
              "      <td>166</td>\n",
              "      <td>02</td>\n",
              "      <td>3596224.600</td>\n",
              "      <td>POLYGON ((-77.31749 -8.53015, -77.28903 -8.589...</td>\n",
              "    </tr>\n",
              "    <tr>\n",
              "      <th>2</th>\n",
              "      <td>APURIMAC</td>\n",
              "      <td>80</td>\n",
              "      <td>03</td>\n",
              "      <td>2111415.170</td>\n",
              "      <td>POLYGON ((-72.47177 -14.66140, -72.57725 -14.6...</td>\n",
              "    </tr>\n",
              "    <tr>\n",
              "      <th>3</th>\n",
              "      <td>AREQUIPA</td>\n",
              "      <td>109</td>\n",
              "      <td>04</td>\n",
              "      <td>6325588.935</td>\n",
              "      <td>POLYGON ((-75.07333 -15.44294, -75.04965 -15.4...</td>\n",
              "    </tr>\n",
              "    <tr>\n",
              "      <th>4</th>\n",
              "      <td>AYACUCHO</td>\n",
              "      <td>111</td>\n",
              "      <td>05</td>\n",
              "      <td>4350381.783</td>\n",
              "      <td>POLYGON ((-74.34595 -12.17374, -74.32187 -12.2...</td>\n",
              "    </tr>\n",
              "  </tbody>\n",
              "</table>\n",
              "</div>"
            ],
            "text/plain": [
              "    NOMBDEP  ...                                           geometry\n",
              "0  AMAZONAS  ...  POLYGON ((-77.75893 -6.96451, -77.84586 -6.976...\n",
              "1    ANCASH  ...  POLYGON ((-77.31749 -8.53015, -77.28903 -8.589...\n",
              "2  APURIMAC  ...  POLYGON ((-72.47177 -14.66140, -72.57725 -14.6...\n",
              "3  AREQUIPA  ...  POLYGON ((-75.07333 -15.44294, -75.04965 -15.4...\n",
              "4  AYACUCHO  ...  POLYGON ((-74.34595 -12.17374, -74.32187 -12.2...\n",
              "\n",
              "[5 rows x 5 columns]"
            ]
          },
          "metadata": {
            "tags": []
          },
          "execution_count": 26
        }
      ]
    },
    {
      "cell_type": "code",
      "metadata": {
        "colab": {
          "base_uri": "https://localhost:8080/",
          "height": 824
        },
        "id": "QzMrK087hb31",
        "outputId": "0b7e4b99-5e5d-47be-cbbc-a3af8ff7e841"
      },
      "source": [
        "#DOSIS POR REGION\n",
        "suma_edad_df = df.groupby(['DEPARTAMENTO']).sum().reset_index() \n",
        "\n",
        "region_geojson['COUNT']=suma_edad_df['DOSIS']\n",
        "region_geojson"
      ],
      "execution_count": 27,
      "outputs": [
        {
          "output_type": "execute_result",
          "data": {
            "text/html": [
              "<div>\n",
              "<style scoped>\n",
              "    .dataframe tbody tr th:only-of-type {\n",
              "        vertical-align: middle;\n",
              "    }\n",
              "\n",
              "    .dataframe tbody tr th {\n",
              "        vertical-align: top;\n",
              "    }\n",
              "\n",
              "    .dataframe thead th {\n",
              "        text-align: right;\n",
              "    }\n",
              "</style>\n",
              "<table border=\"1\" class=\"dataframe\">\n",
              "  <thead>\n",
              "    <tr style=\"text-align: right;\">\n",
              "      <th></th>\n",
              "      <th>NOMBDEP</th>\n",
              "      <th>COUNT</th>\n",
              "      <th>FIRST_IDDP</th>\n",
              "      <th>HECTARES</th>\n",
              "      <th>geometry</th>\n",
              "    </tr>\n",
              "  </thead>\n",
              "  <tbody>\n",
              "    <tr>\n",
              "      <th>0</th>\n",
              "      <td>AMAZONAS</td>\n",
              "      <td>23713</td>\n",
              "      <td>01</td>\n",
              "      <td>3.930647e+06</td>\n",
              "      <td>POLYGON ((-77.75893 -6.96451, -77.84586 -6.976...</td>\n",
              "    </tr>\n",
              "    <tr>\n",
              "      <th>1</th>\n",
              "      <td>ANCASH</td>\n",
              "      <td>60064</td>\n",
              "      <td>02</td>\n",
              "      <td>3.596225e+06</td>\n",
              "      <td>POLYGON ((-77.31749 -8.53015, -77.28903 -8.589...</td>\n",
              "    </tr>\n",
              "    <tr>\n",
              "      <th>2</th>\n",
              "      <td>APURIMAC</td>\n",
              "      <td>39507</td>\n",
              "      <td>03</td>\n",
              "      <td>2.111415e+06</td>\n",
              "      <td>POLYGON ((-72.47177 -14.66140, -72.57725 -14.6...</td>\n",
              "    </tr>\n",
              "    <tr>\n",
              "      <th>3</th>\n",
              "      <td>AREQUIPA</td>\n",
              "      <td>108373</td>\n",
              "      <td>04</td>\n",
              "      <td>6.325589e+06</td>\n",
              "      <td>POLYGON ((-75.07333 -15.44294, -75.04965 -15.4...</td>\n",
              "    </tr>\n",
              "    <tr>\n",
              "      <th>4</th>\n",
              "      <td>AYACUCHO</td>\n",
              "      <td>53380</td>\n",
              "      <td>05</td>\n",
              "      <td>4.350382e+06</td>\n",
              "      <td>POLYGON ((-74.34595 -12.17374, -74.32187 -12.2...</td>\n",
              "    </tr>\n",
              "    <tr>\n",
              "      <th>5</th>\n",
              "      <td>CAJAMARCA</td>\n",
              "      <td>50724</td>\n",
              "      <td>06</td>\n",
              "      <td>3.304466e+06</td>\n",
              "      <td>POLYGON ((-79.32259 -7.02568, -79.29663 -6.999...</td>\n",
              "    </tr>\n",
              "    <tr>\n",
              "      <th>6</th>\n",
              "      <td>CALLAO</td>\n",
              "      <td>201290</td>\n",
              "      <td>07</td>\n",
              "      <td>1.414095e+04</td>\n",
              "      <td>POLYGON ((-77.18710 -11.82836, -77.12605 -11.8...</td>\n",
              "    </tr>\n",
              "    <tr>\n",
              "      <th>7</th>\n",
              "      <td>CUSCO</td>\n",
              "      <td>48952</td>\n",
              "      <td>08</td>\n",
              "      <td>7.207614e+06</td>\n",
              "      <td>POLYGON ((-72.47177 -14.66140, -72.46170 -14.6...</td>\n",
              "    </tr>\n",
              "    <tr>\n",
              "      <th>8</th>\n",
              "      <td>HUANCAVELICA</td>\n",
              "      <td>34647</td>\n",
              "      <td>09</td>\n",
              "      <td>2.206504e+06</td>\n",
              "      <td>POLYGON ((-75.05905 -14.12962, -75.10884 -14.0...</td>\n",
              "    </tr>\n",
              "    <tr>\n",
              "      <th>9</th>\n",
              "      <td>HUANUCO</td>\n",
              "      <td>43571</td>\n",
              "      <td>10</td>\n",
              "      <td>3.720053e+06</td>\n",
              "      <td>POLYGON ((-77.31749 -8.53015, -77.26408 -8.467...</td>\n",
              "    </tr>\n",
              "    <tr>\n",
              "      <th>10</th>\n",
              "      <td>ICA</td>\n",
              "      <td>57179</td>\n",
              "      <td>11</td>\n",
              "      <td>2.108077e+06</td>\n",
              "      <td>POLYGON ((-74.76230 -15.09805, -74.81592 -15.1...</td>\n",
              "    </tr>\n",
              "    <tr>\n",
              "      <th>11</th>\n",
              "      <td>JUNIN</td>\n",
              "      <td>59001</td>\n",
              "      <td>12</td>\n",
              "      <td>4.399729e+06</td>\n",
              "      <td>POLYGON ((-74.57300 -10.91260, -74.50838 -10.9...</td>\n",
              "    </tr>\n",
              "    <tr>\n",
              "      <th>12</th>\n",
              "      <td>LA LIBERTAD</td>\n",
              "      <td>97709</td>\n",
              "      <td>13</td>\n",
              "      <td>2.529597e+06</td>\n",
              "      <td>POLYGON ((-78.64492 -8.96923, -78.65166 -8.914...</td>\n",
              "    </tr>\n",
              "    <tr>\n",
              "      <th>13</th>\n",
              "      <td>LAMBAYEQUE</td>\n",
              "      <td>48403</td>\n",
              "      <td>14</td>\n",
              "      <td>1.434231e+06</td>\n",
              "      <td>POLYGON ((-80.62713 -6.37208, -80.37622 -6.006...</td>\n",
              "    </tr>\n",
              "    <tr>\n",
              "      <th>14</th>\n",
              "      <td>LIMA</td>\n",
              "      <td>1070585</td>\n",
              "      <td>15</td>\n",
              "      <td>3.498999e+06</td>\n",
              "      <td>POLYGON ((-76.90625 -10.27419, -76.85639 -10.3...</td>\n",
              "    </tr>\n",
              "    <tr>\n",
              "      <th>15</th>\n",
              "      <td>LORETO</td>\n",
              "      <td>57124</td>\n",
              "      <td>16</td>\n",
              "      <td>3.751160e+07</td>\n",
              "      <td>POLYGON ((-73.98303 -7.53436, -74.03380 -7.484...</td>\n",
              "    </tr>\n",
              "    <tr>\n",
              "      <th>16</th>\n",
              "      <td>MADRE DE DIOS</td>\n",
              "      <td>9760</td>\n",
              "      <td>17</td>\n",
              "      <td>8.504587e+06</td>\n",
              "      <td>POLYGON ((-70.38847 -13.19239, -70.46425 -13.1...</td>\n",
              "    </tr>\n",
              "    <tr>\n",
              "      <th>17</th>\n",
              "      <td>MOQUEGUA</td>\n",
              "      <td>14811</td>\n",
              "      <td>18</td>\n",
              "      <td>1.580731e+06</td>\n",
              "      <td>POLYGON ((-71.13944 -17.82148, -71.20565 -17.7...</td>\n",
              "    </tr>\n",
              "    <tr>\n",
              "      <th>18</th>\n",
              "      <td>PASCO</td>\n",
              "      <td>17059</td>\n",
              "      <td>19</td>\n",
              "      <td>2.411395e+06</td>\n",
              "      <td>POLYGON ((-76.27886 -10.92345, -76.24117 -11.0...</td>\n",
              "    </tr>\n",
              "    <tr>\n",
              "      <th>19</th>\n",
              "      <td>PIURA</td>\n",
              "      <td>73301</td>\n",
              "      <td>20</td>\n",
              "      <td>3.606507e+06</td>\n",
              "      <td>POLYGON ((-79.21007 -4.96524, -79.24509 -5.001...</td>\n",
              "    </tr>\n",
              "    <tr>\n",
              "      <th>20</th>\n",
              "      <td>PUNO</td>\n",
              "      <td>38927</td>\n",
              "      <td>21</td>\n",
              "      <td>6.796282e+06</td>\n",
              "      <td>MULTIPOLYGON (((-68.91839 -16.40372, -68.91840...</td>\n",
              "    </tr>\n",
              "    <tr>\n",
              "      <th>21</th>\n",
              "      <td>SAN MARTIN</td>\n",
              "      <td>44362</td>\n",
              "      <td>22</td>\n",
              "      <td>5.096126e+06</td>\n",
              "      <td>POLYGON ((-75.98496 -8.32215, -76.08718 -8.336...</td>\n",
              "    </tr>\n",
              "    <tr>\n",
              "      <th>22</th>\n",
              "      <td>TACNA</td>\n",
              "      <td>22970</td>\n",
              "      <td>23</td>\n",
              "      <td>1.608307e+06</td>\n",
              "      <td>POLYGON ((-69.64132 -17.28745, -69.57522 -17.2...</td>\n",
              "    </tr>\n",
              "    <tr>\n",
              "      <th>23</th>\n",
              "      <td>TUMBES</td>\n",
              "      <td>21271</td>\n",
              "      <td>24</td>\n",
              "      <td>4.690260e+05</td>\n",
              "      <td>POLYGON ((-80.48733 -4.08313, -80.52435 -4.107...</td>\n",
              "    </tr>\n",
              "    <tr>\n",
              "      <th>24</th>\n",
              "      <td>UCAYALI</td>\n",
              "      <td>26668</td>\n",
              "      <td>25</td>\n",
              "      <td>1.053418e+07</td>\n",
              "      <td>POLYGON ((-70.61388 -9.91686, -70.66763 -9.972...</td>\n",
              "    </tr>\n",
              "  </tbody>\n",
              "</table>\n",
              "</div>"
            ],
            "text/plain": [
              "          NOMBDEP  ...                                           geometry\n",
              "0        AMAZONAS  ...  POLYGON ((-77.75893 -6.96451, -77.84586 -6.976...\n",
              "1          ANCASH  ...  POLYGON ((-77.31749 -8.53015, -77.28903 -8.589...\n",
              "2        APURIMAC  ...  POLYGON ((-72.47177 -14.66140, -72.57725 -14.6...\n",
              "3        AREQUIPA  ...  POLYGON ((-75.07333 -15.44294, -75.04965 -15.4...\n",
              "4        AYACUCHO  ...  POLYGON ((-74.34595 -12.17374, -74.32187 -12.2...\n",
              "5       CAJAMARCA  ...  POLYGON ((-79.32259 -7.02568, -79.29663 -6.999...\n",
              "6          CALLAO  ...  POLYGON ((-77.18710 -11.82836, -77.12605 -11.8...\n",
              "7           CUSCO  ...  POLYGON ((-72.47177 -14.66140, -72.46170 -14.6...\n",
              "8    HUANCAVELICA  ...  POLYGON ((-75.05905 -14.12962, -75.10884 -14.0...\n",
              "9         HUANUCO  ...  POLYGON ((-77.31749 -8.53015, -77.26408 -8.467...\n",
              "10            ICA  ...  POLYGON ((-74.76230 -15.09805, -74.81592 -15.1...\n",
              "11          JUNIN  ...  POLYGON ((-74.57300 -10.91260, -74.50838 -10.9...\n",
              "12    LA LIBERTAD  ...  POLYGON ((-78.64492 -8.96923, -78.65166 -8.914...\n",
              "13     LAMBAYEQUE  ...  POLYGON ((-80.62713 -6.37208, -80.37622 -6.006...\n",
              "14           LIMA  ...  POLYGON ((-76.90625 -10.27419, -76.85639 -10.3...\n",
              "15         LORETO  ...  POLYGON ((-73.98303 -7.53436, -74.03380 -7.484...\n",
              "16  MADRE DE DIOS  ...  POLYGON ((-70.38847 -13.19239, -70.46425 -13.1...\n",
              "17       MOQUEGUA  ...  POLYGON ((-71.13944 -17.82148, -71.20565 -17.7...\n",
              "18          PASCO  ...  POLYGON ((-76.27886 -10.92345, -76.24117 -11.0...\n",
              "19          PIURA  ...  POLYGON ((-79.21007 -4.96524, -79.24509 -5.001...\n",
              "20           PUNO  ...  MULTIPOLYGON (((-68.91839 -16.40372, -68.91840...\n",
              "21     SAN MARTIN  ...  POLYGON ((-75.98496 -8.32215, -76.08718 -8.336...\n",
              "22          TACNA  ...  POLYGON ((-69.64132 -17.28745, -69.57522 -17.2...\n",
              "23         TUMBES  ...  POLYGON ((-80.48733 -4.08313, -80.52435 -4.107...\n",
              "24        UCAYALI  ...  POLYGON ((-70.61388 -9.91686, -70.66763 -9.972...\n",
              "\n",
              "[25 rows x 5 columns]"
            ]
          },
          "metadata": {
            "tags": []
          },
          "execution_count": 27
        }
      ]
    },
    {
      "cell_type": "markdown",
      "metadata": {
        "id": "k1-vYLAYIWc-"
      },
      "source": [
        "##Mapa de Calor Por Region / Departamento"
      ]
    },
    {
      "cell_type": "code",
      "metadata": {
        "colab": {
          "base_uri": "https://localhost:8080/",
          "height": 531
        },
        "id": "e92j7t6NkTvl",
        "outputId": "a3c7d8fb-979c-4c57-f78f-123506734ad6"
      },
      "source": [
        "title = 'Mapa de calor de vacunación Perú'\n",
        "col = 'COUNT'\n",
        "source = 'Elaboracion Propia'\n",
        "vmin = region_geojson[col].min()\n",
        "vmax = region_geojson[col].max()\n",
        "cmap = 'tab20'\n",
        "\n",
        "# Create figure and axes for Matplotlib\n",
        "fig, ax = plt.subplots(1, figsize=(15, 8))\n",
        "\n",
        "# Remove the axis\n",
        "ax.axis('off')\n",
        "region_geojson.plot(column=col, ax=ax, edgecolor='0.8', linewidth=1, cmap=cmap)\n",
        "\n",
        "# Add a title\n",
        "loc='left'\n",
        "ax.set_title(title, fontdict={'fontsize': '20', 'fontweight': '3', 'horizontalalignment': loc})\n",
        "\n",
        "# Create an annotation for the data source\n",
        "ax.annotate(source, xy=(0.1, .08), xycoords='figure fraction', horizontalalignment='left', \n",
        "            verticalalignment='bottom', fontsize=10)\n",
        "            \n",
        "# Create colorbar as a legend\n",
        "sm = plt.cm.ScalarMappable(norm=plt.Normalize(vmin=vmin, vmax=vmax), cmap=cmap)\n",
        "\n",
        "# Empty array for the data range\n",
        "sm._A = []\n",
        "\n",
        "# Add the colorbar to the figure\n",
        "cbaxes = fig.add_axes([0.15, 0.25, 0.01, 0.4])\n",
        "cbar = fig.colorbar(sm, cax=cbaxes)\n",
        "plt.savefig(\"mapa.jpg\", bbox_inches='tight')\n",
        "plt.show"
      ],
      "execution_count": 28,
      "outputs": [
        {
          "output_type": "execute_result",
          "data": {
            "text/plain": [
              "<function matplotlib.pyplot.show>"
            ]
          },
          "metadata": {
            "tags": []
          },
          "execution_count": 28
        },
        {
          "output_type": "display_data",
          "data": {
            "image/png": "[encoded data removed]",
            "text/plain": [
              "<Figure size 1080x576 with 2 Axes>"
            ]
          },
          "metadata": {
            "tags": [],
            "needs_background": "light"
          }
        }
      ]
    },
    {
      "cell_type": "markdown",
      "metadata": {
        "id": "ny4soLvAInu6"
      },
      "source": [
        ""
      ]
    },
    {
      "cell_type": "markdown",
      "metadata": {
        "id": "597XdO6vIn-_"
      },
      "source": [
        "##Mapa de Calor Por Provincia"
      ]
    },
    {
      "cell_type": "code",
      "metadata": {
        "colab": {
          "base_uri": "https://localhost:8080/",
          "height": 204
        },
        "id": "18zDyr8sWyTQ",
        "outputId": "3a8b781a-a33a-4af8-ce36-29b0f8bab5b3"
      },
      "source": [
        "url_geojson = \"peru_provincial_simple.geojson\"\n",
        "\n",
        "provincial_geojson = gpd.read_file(url_geojson)\n",
        "provincial_geojson.head()"
      ],
      "execution_count": 29,
      "outputs": [
        {
          "output_type": "execute_result",
          "data": {
            "text/html": [
              "<div>\n",
              "<style scoped>\n",
              "    .dataframe tbody tr th:only-of-type {\n",
              "        vertical-align: middle;\n",
              "    }\n",
              "\n",
              "    .dataframe tbody tr th {\n",
              "        vertical-align: top;\n",
              "    }\n",
              "\n",
              "    .dataframe thead th {\n",
              "        text-align: right;\n",
              "    }\n",
              "</style>\n",
              "<table border=\"1\" class=\"dataframe\">\n",
              "  <thead>\n",
              "    <tr style=\"text-align: right;\">\n",
              "      <th></th>\n",
              "      <th>COUNT</th>\n",
              "      <th>FIRST_IDPR</th>\n",
              "      <th>NOMBPROV</th>\n",
              "      <th>FIRST_NOMB</th>\n",
              "      <th>LAST_DCTO</th>\n",
              "      <th>LAST_LEY</th>\n",
              "      <th>FIRST_FECH</th>\n",
              "      <th>LAST_FECHA</th>\n",
              "      <th>MIN_SHAPE_</th>\n",
              "      <th>ha</th>\n",
              "      <th>geometry</th>\n",
              "    </tr>\n",
              "  </thead>\n",
              "  <tbody>\n",
              "    <tr>\n",
              "      <th>0</th>\n",
              "      <td>9</td>\n",
              "      <td>0301</td>\n",
              "      <td>ABANCAY</td>\n",
              "      <td>APURIMAC</td>\n",
              "      <td>LEY</td>\n",
              "      <td>S/N</td>\n",
              "      <td>28/12/1961</td>\n",
              "      <td>21/11/1893</td>\n",
              "      <td>3.458273e+05</td>\n",
              "      <td>345827.34</td>\n",
              "      <td>POLYGON ((-72.77286 -13.44888, -72.74545 -13.4...</td>\n",
              "    </tr>\n",
              "    <tr>\n",
              "      <th>1</th>\n",
              "      <td>8</td>\n",
              "      <td>0902</td>\n",
              "      <td>ACOBAMBA</td>\n",
              "      <td>HUANCAVELICA</td>\n",
              "      <td>LEY</td>\n",
              "      <td>5292</td>\n",
              "      <td>23/11/1925</td>\n",
              "      <td>23/11/1925</td>\n",
              "      <td>9.263674e+04</td>\n",
              "      <td>92636.74</td>\n",
              "      <td>POLYGON ((-74.32362 -12.83251, -74.31945 -12.8...</td>\n",
              "    </tr>\n",
              "    <tr>\n",
              "      <th>2</th>\n",
              "      <td>7</td>\n",
              "      <td>0802</td>\n",
              "      <td>ACOMAYO</td>\n",
              "      <td>CUSCO</td>\n",
              "      <td>LEY</td>\n",
              "      <td>S/N</td>\n",
              "      <td>11/11/1964</td>\n",
              "      <td>02/01/1857</td>\n",
              "      <td>9.328581e+04</td>\n",
              "      <td>93285.81</td>\n",
              "      <td>POLYGON ((-71.51688 -13.96722, -71.44034 -14.1...</td>\n",
              "    </tr>\n",
              "    <tr>\n",
              "      <th>3</th>\n",
              "      <td>5</td>\n",
              "      <td>0202</td>\n",
              "      <td>AIJA</td>\n",
              "      <td>ANCASH</td>\n",
              "      <td>LEY</td>\n",
              "      <td>8188</td>\n",
              "      <td>21/12/1907</td>\n",
              "      <td>05/03/1936</td>\n",
              "      <td>6.963963e+04</td>\n",
              "      <td>69639.63</td>\n",
              "      <td>POLYGON ((-77.96140 -9.78024, -77.86786 -9.763...</td>\n",
              "    </tr>\n",
              "    <tr>\n",
              "      <th>4</th>\n",
              "      <td>6</td>\n",
              "      <td>1602</td>\n",
              "      <td>ALTO AMAZONAS</td>\n",
              "      <td>LORETO</td>\n",
              "      <td>LEY</td>\n",
              "      <td>S/N</td>\n",
              "      <td>08/09/1964</td>\n",
              "      <td>02/01/1857</td>\n",
              "      <td>1.917213e+06</td>\n",
              "      <td>1917212.66</td>\n",
              "      <td>POLYGON ((-76.28970 -3.69122, -76.24529 -3.751...</td>\n",
              "    </tr>\n",
              "  </tbody>\n",
              "</table>\n",
              "</div>"
            ],
            "text/plain": [
              "   COUNT  ...                                           geometry\n",
              "0      9  ...  POLYGON ((-72.77286 -13.44888, -72.74545 -13.4...\n",
              "1      8  ...  POLYGON ((-74.32362 -12.83251, -74.31945 -12.8...\n",
              "2      7  ...  POLYGON ((-71.51688 -13.96722, -71.44034 -14.1...\n",
              "3      5  ...  POLYGON ((-77.96140 -9.78024, -77.86786 -9.763...\n",
              "4      6  ...  POLYGON ((-76.28970 -3.69122, -76.24529 -3.751...\n",
              "\n",
              "[5 rows x 11 columns]"
            ]
          },
          "metadata": {
            "tags": []
          },
          "execution_count": 29
        }
      ]
    },
    {
      "cell_type": "code",
      "metadata": {
        "colab": {
          "base_uri": "https://localhost:8080/",
          "height": 419
        },
        "id": "lG_O-MxnXAc3",
        "outputId": "ad044b91-29bf-4fbc-874d-14e60b5eab41"
      },
      "source": [
        "#DOSIS POR Provincia\n",
        "suma_edad_df = df.groupby(['PROVINCIA']).sum().reset_index() \n",
        "\n",
        "provincial_geojson['COUNT']=suma_edad_df['DOSIS']\n",
        "provincial_geojson"
      ],
      "execution_count": 33,
      "outputs": [
        {
          "output_type": "execute_result",
          "data": {
            "text/html": [
              "<div>\n",
              "<style scoped>\n",
              "    .dataframe tbody tr th:only-of-type {\n",
              "        vertical-align: middle;\n",
              "    }\n",
              "\n",
              "    .dataframe tbody tr th {\n",
              "        vertical-align: top;\n",
              "    }\n",
              "\n",
              "    .dataframe thead th {\n",
              "        text-align: right;\n",
              "    }\n",
              "</style>\n",
              "<table border=\"1\" class=\"dataframe\">\n",
              "  <thead>\n",
              "    <tr style=\"text-align: right;\">\n",
              "      <th></th>\n",
              "      <th>COUNT</th>\n",
              "      <th>FIRST_IDPR</th>\n",
              "      <th>NOMBPROV</th>\n",
              "      <th>FIRST_NOMB</th>\n",
              "      <th>LAST_DCTO</th>\n",
              "      <th>LAST_LEY</th>\n",
              "      <th>FIRST_FECH</th>\n",
              "      <th>LAST_FECHA</th>\n",
              "      <th>MIN_SHAPE_</th>\n",
              "      <th>ha</th>\n",
              "      <th>geometry</th>\n",
              "    </tr>\n",
              "  </thead>\n",
              "  <tbody>\n",
              "    <tr>\n",
              "      <th>0</th>\n",
              "      <td>13587.0</td>\n",
              "      <td>0301</td>\n",
              "      <td>ABANCAY</td>\n",
              "      <td>APURIMAC</td>\n",
              "      <td>LEY</td>\n",
              "      <td>S/N</td>\n",
              "      <td>28/12/1961</td>\n",
              "      <td>21/11/1893</td>\n",
              "      <td>3.458273e+05</td>\n",
              "      <td>345827.34</td>\n",
              "      <td>POLYGON ((-72.77286 -13.44888, -72.74545 -13.4...</td>\n",
              "    </tr>\n",
              "    <tr>\n",
              "      <th>1</th>\n",
              "      <td>3062.0</td>\n",
              "      <td>0902</td>\n",
              "      <td>ACOBAMBA</td>\n",
              "      <td>HUANCAVELICA</td>\n",
              "      <td>LEY</td>\n",
              "      <td>5292</td>\n",
              "      <td>23/11/1925</td>\n",
              "      <td>23/11/1925</td>\n",
              "      <td>9.263674e+04</td>\n",
              "      <td>92636.74</td>\n",
              "      <td>POLYGON ((-74.32362 -12.83251, -74.31945 -12.8...</td>\n",
              "    </tr>\n",
              "    <tr>\n",
              "      <th>2</th>\n",
              "      <td>351.0</td>\n",
              "      <td>0802</td>\n",
              "      <td>ACOMAYO</td>\n",
              "      <td>CUSCO</td>\n",
              "      <td>LEY</td>\n",
              "      <td>S/N</td>\n",
              "      <td>11/11/1964</td>\n",
              "      <td>02/01/1857</td>\n",
              "      <td>9.328581e+04</td>\n",
              "      <td>93285.81</td>\n",
              "      <td>POLYGON ((-71.51688 -13.96722, -71.44034 -14.1...</td>\n",
              "    </tr>\n",
              "    <tr>\n",
              "      <th>3</th>\n",
              "      <td>150.0</td>\n",
              "      <td>0202</td>\n",
              "      <td>AIJA</td>\n",
              "      <td>ANCASH</td>\n",
              "      <td>LEY</td>\n",
              "      <td>8188</td>\n",
              "      <td>21/12/1907</td>\n",
              "      <td>05/03/1936</td>\n",
              "      <td>6.963963e+04</td>\n",
              "      <td>69639.63</td>\n",
              "      <td>POLYGON ((-77.96140 -9.78024, -77.86786 -9.763...</td>\n",
              "    </tr>\n",
              "    <tr>\n",
              "      <th>4</th>\n",
              "      <td>4007.0</td>\n",
              "      <td>1602</td>\n",
              "      <td>ALTO AMAZONAS</td>\n",
              "      <td>LORETO</td>\n",
              "      <td>LEY</td>\n",
              "      <td>S/N</td>\n",
              "      <td>08/09/1964</td>\n",
              "      <td>02/01/1857</td>\n",
              "      <td>1.917213e+06</td>\n",
              "      <td>1917212.66</td>\n",
              "      <td>POLYGON ((-76.28970 -3.69122, -76.24529 -3.751...</td>\n",
              "    </tr>\n",
              "    <tr>\n",
              "      <th>...</th>\n",
              "      <td>...</td>\n",
              "      <td>...</td>\n",
              "      <td>...</td>\n",
              "      <td>...</td>\n",
              "      <td>...</td>\n",
              "      <td>...</td>\n",
              "      <td>...</td>\n",
              "      <td>...</td>\n",
              "      <td>...</td>\n",
              "      <td>...</td>\n",
              "      <td>...</td>\n",
              "    </tr>\n",
              "    <tr>\n",
              "      <th>192</th>\n",
              "      <td>911.0</td>\n",
              "      <td>1510</td>\n",
              "      <td>YAUYOS</td>\n",
              "      <td>LIMA</td>\n",
              "      <td>LEY</td>\n",
              "      <td>12644</td>\n",
              "      <td>26/03/1965</td>\n",
              "      <td>02/02/1956</td>\n",
              "      <td>6.990514e+05</td>\n",
              "      <td>699051.38</td>\n",
              "      <td>POLYGON ((-75.96140 -13.00138, -75.95743 -12.9...</td>\n",
              "    </tr>\n",
              "    <tr>\n",
              "      <th>193</th>\n",
              "      <td>1167.0</td>\n",
              "      <td>0220</td>\n",
              "      <td>YUNGAY</td>\n",
              "      <td>ANCASH</td>\n",
              "      <td>L.R.</td>\n",
              "      <td>176</td>\n",
              "      <td>02/01/1857</td>\n",
              "      <td>02/08/1920</td>\n",
              "      <td>1.364843e+05</td>\n",
              "      <td>136484.28</td>\n",
              "      <td>POLYGON ((-78.05610 -9.27470, -78.03717 -9.243...</td>\n",
              "    </tr>\n",
              "    <tr>\n",
              "      <th>194</th>\n",
              "      <td>1730.0</td>\n",
              "      <td>2113</td>\n",
              "      <td>YUNGUYO</td>\n",
              "      <td>PUNO</td>\n",
              "      <td>LEY</td>\n",
              "      <td>24042</td>\n",
              "      <td>28/12/1984</td>\n",
              "      <td>28/12/1984</td>\n",
              "      <td>4.206501e+04</td>\n",
              "      <td>42065.01</td>\n",
              "      <td>MULTIPOLYGON (((-68.91839 -16.40372, -68.91840...</td>\n",
              "    </tr>\n",
              "    <tr>\n",
              "      <th>195</th>\n",
              "      <td>NaN</td>\n",
              "      <td>2403</td>\n",
              "      <td>ZARUMILLA</td>\n",
              "      <td>TUMBES</td>\n",
              "      <td>LEY</td>\n",
              "      <td>S/N</td>\n",
              "      <td>25/11/1942</td>\n",
              "      <td>12/01/1871</td>\n",
              "      <td>7.581930e+04</td>\n",
              "      <td>75819.30</td>\n",
              "      <td>POLYGON ((-80.18074 -3.92583, -80.24359 -3.897...</td>\n",
              "    </tr>\n",
              "    <tr>\n",
              "      <th>196</th>\n",
              "      <td>NaN</td>\n",
              "      <td>0104</td>\n",
              "      <td>CONDORCANQUI</td>\n",
              "      <td>AMAZONAS</td>\n",
              "      <td>LEY</td>\n",
              "      <td>23832</td>\n",
              "      <td>18/05/1984</td>\n",
              "      <td>18/05/1984</td>\n",
              "      <td>1.792724e+06</td>\n",
              "      <td>1792723.85</td>\n",
              "      <td>POLYGON ((-77.74529 -5.13302, -77.95552 -5.399...</td>\n",
              "    </tr>\n",
              "  </tbody>\n",
              "</table>\n",
              "<p>197 rows × 11 columns</p>\n",
              "</div>"
            ],
            "text/plain": [
              "       COUNT  ...                                           geometry\n",
              "0    13587.0  ...  POLYGON ((-72.77286 -13.44888, -72.74545 -13.4...\n",
              "1     3062.0  ...  POLYGON ((-74.32362 -12.83251, -74.31945 -12.8...\n",
              "2      351.0  ...  POLYGON ((-71.51688 -13.96722, -71.44034 -14.1...\n",
              "3      150.0  ...  POLYGON ((-77.96140 -9.78024, -77.86786 -9.763...\n",
              "4     4007.0  ...  POLYGON ((-76.28970 -3.69122, -76.24529 -3.751...\n",
              "..       ...  ...                                                ...\n",
              "192    911.0  ...  POLYGON ((-75.96140 -13.00138, -75.95743 -12.9...\n",
              "193   1167.0  ...  POLYGON ((-78.05610 -9.27470, -78.03717 -9.243...\n",
              "194   1730.0  ...  MULTIPOLYGON (((-68.91839 -16.40372, -68.91840...\n",
              "195      NaN  ...  POLYGON ((-80.18074 -3.92583, -80.24359 -3.897...\n",
              "196      NaN  ...  POLYGON ((-77.74529 -5.13302, -77.95552 -5.399...\n",
              "\n",
              "[197 rows x 11 columns]"
            ]
          },
          "metadata": {
            "tags": []
          },
          "execution_count": 33
        }
      ]
    },
    {
      "cell_type": "code",
      "metadata": {
        "colab": {
          "base_uri": "https://localhost:8080/",
          "height": 531
        },
        "id": "t8d5Dx3SXFsk",
        "outputId": "359dba14-19d3-49a3-bf09-f963f3834f33"
      },
      "source": [
        "title = 'Mapa de calor de vacunación Perú - Provincias'\n",
        "col = 'COUNT'\n",
        "source = 'Elaboracion Propia'\n",
        "vmin = provincial_geojson[col].min()\n",
        "vmax = provincial_geojson[col].max()\n",
        "cmap = 'tab20'\n",
        "\n",
        "# Create figure and axes for Matplotlib\n",
        "fig, ax = plt.subplots(1, figsize=(15, 8))\n",
        "\n",
        "# Remove the axis\n",
        "ax.axis('off')\n",
        "provincial_geojson.plot(column=col, ax=ax, edgecolor='0.8', linewidth=1, cmap=cmap)\n",
        "\n",
        "# Add a title\n",
        "loc='left'\n",
        "ax.set_title(title, fontdict={'fontsize': '20', 'fontweight': '3', 'horizontalalignment': loc})\n",
        "\n",
        "# Create an annotation for the data source\n",
        "ax.annotate(source, xy=(0.1, .08), xycoords='figure fraction', horizontalalignment='left', \n",
        "            verticalalignment='bottom', fontsize=10)\n",
        "            \n",
        "# Create colorbar as a legend\n",
        "sm = plt.cm.ScalarMappable(norm=plt.Normalize(vmin=vmin, vmax=vmax), cmap=cmap)\n",
        "\n",
        "# Empty array for the data range\n",
        "sm._A = []\n",
        "\n",
        "# Add the colorbar to the figure\n",
        "cbaxes = fig.add_axes([0.15, 0.25, 0.01, 0.4])\n",
        "cbar = fig.colorbar(sm, cax=cbaxes)\n",
        "#plt.savefig(\"mapa.jpg\", bbox_inches='tight')\n",
        "plt.show"
      ],
      "execution_count": 34,
      "outputs": [
        {
          "output_type": "execute_result",
          "data": {
            "text/plain": [
              "<function matplotlib.pyplot.show>"
            ]
          },
          "metadata": {
            "tags": []
          },
          "execution_count": 34
        },
        {
          "output_type": "display_data",
          "data": {
            "image/png": "[encoded data removed]",
            "text/plain": [
              "<Figure size 1080x576 with 2 Axes>"
            ]
          },
          "metadata": {
            "tags": [],
            "needs_background": "light"
          }
        }
      ]
    },
    {
      "cell_type": "markdown",
      "metadata": {
        "id": "X_AQkhohJvnF"
      },
      "source": [
        "Perú tiene 196 provincias"
      ]
    }
  ]
}