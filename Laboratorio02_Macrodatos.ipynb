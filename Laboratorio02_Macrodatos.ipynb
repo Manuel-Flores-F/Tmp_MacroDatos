{
  "nbformat": 4,
  "nbformat_minor": 0,
  "metadata": {
    "colab": {
      "name": "Laboratorio02_Macrodatos.ipynb",
      "provenance": [],
      "collapsed_sections": [],
      "toc_visible": true,
      "include_colab_link": true
    },
    "kernelspec": {
      "display_name": "Python 3",
      "name": "python3"
    },
    "language_info": {
      "name": "python"
    }
  },
  "cells": [
    {
      "cell_type": "markdown",
      "metadata": {
        "id": "view-in-github",
        "colab_type": "text"
      },
      "source": [
        "<a href=\"https://colab.research.google.com/github/Manuel-Flores-F/Tmp_MacroDatos/blob/main/Laboratorio02_Macrodatos.ipynb\" target=\"_parent\"><img src=\"https://colab.research.google.com/assets/colab-badge.svg\" alt=\"Open In Colab\"/></a>"
      ]
    },
    {
      "cell_type": "code",
      "metadata": {
        "colab": {
          "base_uri": "https://localhost:8080/"
        },
        "id": "aoy2oOLkGFJR",
        "outputId": "d43e9d63-dfef-4631-d419-ddcc33101e13"
      },
      "source": [
        "from google.colab import drive\n",
        "drive.mount('/content/drive')\n",
        "\n",
        "#from google.colab import files\n",
        "#files.upload()"
      ],
      "execution_count": null,
      "outputs": [
        {
          "output_type": "stream",
          "text": [
            "Drive already mounted at /content/drive; to attempt to forcibly remount, call drive.mount(\"/content/drive\", force_remount=True).\n"
          ],
          "name": "stdout"
        }
      ]
    },
    {
      "cell_type": "code",
      "metadata": {
        "id": "QPMHL7s1ISTS"
      },
      "source": [
        "import os\n",
        "from os import makedirs\n",
        "print(os.getcwd())\n",
        "\n",
        "########################## W A R N I N G !\n",
        "\n",
        "#Crear el directorio para tener todos lo mismo (uwu)\n",
        "#Ejecutar solo 1 vez\n",
        "makedirs(\"content/drive/MyDrive/Curso_Macrodatos/Laboratorio_02/\")\n",
        "# Falla silenciosamente.\n",
        "makedirs(\"content/drive/MyDrive/Curso_Macrodatos/Laboratorio_02/\", exist_ok=True)\n"
      ],
      "execution_count": null,
      "outputs": []
    },
    {
      "cell_type": "code",
      "metadata": {
        "colab": {
          "base_uri": "https://localhost:8080/"
        },
        "id": "DSg5_C-upz7Q",
        "outputId": "4798ed63-d766-491e-9b22-2a7a49a52e40"
      },
      "source": [
        "import os\n",
        "\n",
        "#dir=\"content/drive/MyDrive/Curso_Macrodatos/Laboratorio_02/\"\n",
        "\n",
        "#os.chdir(dir)\n",
        "print(os.getcwd())"
      ],
      "execution_count": null,
      "outputs": [
        {
          "output_type": "stream",
          "text": [
            "/content/content/drive/MyDrive/Curso_Macrodatos/Laboratorio_02/content/drive/MyDrive/Curso_Macrodatos/Laboratorio_02\n"
          ],
          "name": "stdout"
        }
      ]
    },
    {
      "cell_type": "code",
      "metadata": {
        "id": "RCvSWU0sIz7u"
      },
      "source": [
        "%ls"
      ],
      "execution_count": null,
      "outputs": []
    },
    {
      "cell_type": "markdown",
      "metadata": {
        "id": "IrVbST7DJl-0"
      },
      "source": [
        "### Librerias"
      ]
    },
    {
      "cell_type": "code",
      "metadata": {
        "id": "yg8A0awXJwjE"
      },
      "source": [
        "import pandas as pd\n",
        "import matplotlib.pyplot as plt\n",
        "import seaborn as sb\n"
      ],
      "execution_count": null,
      "outputs": []
    },
    {
      "cell_type": "code",
      "metadata": {
        "id": "r7iJR7YXJGTN"
      },
      "source": [
        "df=pd.read_csv('vacunas_covid.csv', encoding='utf-8')"
      ],
      "execution_count": null,
      "outputs": []
    },
    {
      "cell_type": "code",
      "metadata": {
        "colab": {
          "base_uri": "https://localhost:8080/"
        },
        "id": "bdLmCjSJiGJw",
        "outputId": "7f8549ae-429c-45ce-aee6-81c0ccb8ad97"
      },
      "source": [
        "from google.colab import drive\n",
        "drive.mount('/content/drive')"
      ],
      "execution_count": null,
      "outputs": [
        {
          "output_type": "stream",
          "text": [
            "Drive already mounted at /content/drive; to attempt to forcibly remount, call drive.mount(\"/content/drive\", force_remount=True).\n"
          ],
          "name": "stdout"
        }
      ]
    },
    {
      "cell_type": "markdown",
      "metadata": {
        "id": "OFzgFlIWuaLw"
      },
      "source": [
        "#**Descripción General de la Data**"
      ]
    },
    {
      "cell_type": "code",
      "metadata": {
        "colab": {
          "base_uri": "https://localhost:8080/",
          "height": 272
        },
        "id": "UL6_q-O-CufZ",
        "outputId": "ede6e959-819c-4195-8bf6-d41e378bd499"
      },
      "source": [
        "df.head()"
      ],
      "execution_count": null,
      "outputs": [
        {
          "output_type": "execute_result",
          "data": {
            "text/html": [
              "<div>\n",
              "<style scoped>\n",
              "    .dataframe tbody tr th:only-of-type {\n",
              "        vertical-align: middle;\n",
              "    }\n",
              "\n",
              "    .dataframe tbody tr th {\n",
              "        vertical-align: top;\n",
              "    }\n",
              "\n",
              "    .dataframe thead th {\n",
              "        text-align: right;\n",
              "    }\n",
              "</style>\n",
              "<table border=\"1\" class=\"dataframe\">\n",
              "  <thead>\n",
              "    <tr style=\"text-align: right;\">\n",
              "      <th></th>\n",
              "      <th>FECHA_CORTE</th>\n",
              "      <th>UUID</th>\n",
              "      <th>GRUPO_RIESGO</th>\n",
              "      <th>EDAD</th>\n",
              "      <th>SEXO</th>\n",
              "      <th>FECHA_VACUNACION</th>\n",
              "      <th>DOSIS</th>\n",
              "      <th>FABRICANTE</th>\n",
              "      <th>DIRESA</th>\n",
              "      <th>DEPARTAMENTO</th>\n",
              "      <th>PROVINCIA</th>\n",
              "      <th>DISTRITO</th>\n",
              "    </tr>\n",
              "  </thead>\n",
              "  <tbody>\n",
              "    <tr>\n",
              "      <th>0</th>\n",
              "      <td>20210504</td>\n",
              "      <td>04cd9264959046894f4235d5c8b62794</td>\n",
              "      <td>PERSONAL DE SALUD</td>\n",
              "      <td>NaN</td>\n",
              "      <td>MASCULINO</td>\n",
              "      <td>20210222</td>\n",
              "      <td>1</td>\n",
              "      <td>SINOPHARM</td>\n",
              "      <td>LIMA CENTRO</td>\n",
              "      <td>LIMA</td>\n",
              "      <td>LIMA</td>\n",
              "      <td>LA VICTORIA</td>\n",
              "    </tr>\n",
              "    <tr>\n",
              "      <th>1</th>\n",
              "      <td>20210504</td>\n",
              "      <td>14fd8ec748ba82a72a4c5556ee8e6372</td>\n",
              "      <td>PERSONAL DE SALUD</td>\n",
              "      <td>NaN</td>\n",
              "      <td>MASCULINO</td>\n",
              "      <td>20210310</td>\n",
              "      <td>1</td>\n",
              "      <td>SINOPHARM</td>\n",
              "      <td>LA LIBERTAD</td>\n",
              "      <td>LA LIBERTAD</td>\n",
              "      <td>TRUJILLO</td>\n",
              "      <td>VICTOR LARCO HERRERA</td>\n",
              "    </tr>\n",
              "    <tr>\n",
              "      <th>2</th>\n",
              "      <td>20210504</td>\n",
              "      <td>b17ceddbbde5df1c082e09dc076421fb</td>\n",
              "      <td>PERSONAL DE SALUD</td>\n",
              "      <td>NaN</td>\n",
              "      <td>MASCULINO</td>\n",
              "      <td>20210227</td>\n",
              "      <td>1</td>\n",
              "      <td>SINOPHARM</td>\n",
              "      <td>HUANUCO</td>\n",
              "      <td>HUANUCO</td>\n",
              "      <td>LEONCIO PRADO</td>\n",
              "      <td>RUPA-RUPA</td>\n",
              "    </tr>\n",
              "    <tr>\n",
              "      <th>3</th>\n",
              "      <td>20210504</td>\n",
              "      <td>e5e67a589a53167d365e3de4373c419d</td>\n",
              "      <td>ADULTO MAYOR</td>\n",
              "      <td>NaN</td>\n",
              "      <td>FEMENINO</td>\n",
              "      <td>20210417</td>\n",
              "      <td>1</td>\n",
              "      <td>PFIZER</td>\n",
              "      <td>LIMA SUR</td>\n",
              "      <td>LIMA</td>\n",
              "      <td>LIMA</td>\n",
              "      <td>CHORRILLOS</td>\n",
              "    </tr>\n",
              "    <tr>\n",
              "      <th>4</th>\n",
              "      <td>20210504</td>\n",
              "      <td>103ae79bc8e63d82e78c754ae5c78e75</td>\n",
              "      <td>ADULTO MAYOR</td>\n",
              "      <td>81.0</td>\n",
              "      <td>FEMENINO</td>\n",
              "      <td>20210422</td>\n",
              "      <td>1</td>\n",
              "      <td>ASTRAZENECA</td>\n",
              "      <td>UCAYALI</td>\n",
              "      <td>UCAYALI</td>\n",
              "      <td>CORONEL PORTILLO</td>\n",
              "      <td>CALLERIA</td>\n",
              "    </tr>\n",
              "  </tbody>\n",
              "</table>\n",
              "</div>"
            ],
            "text/plain": [
              "   FECHA_CORTE  ...              DISTRITO\n",
              "0     20210504  ...           LA VICTORIA\n",
              "1     20210504  ...  VICTOR LARCO HERRERA\n",
              "2     20210504  ...             RUPA-RUPA\n",
              "3     20210504  ...            CHORRILLOS\n",
              "4     20210504  ...              CALLERIA\n",
              "\n",
              "[5 rows x 12 columns]"
            ]
          },
          "metadata": {
            "tags": []
          },
          "execution_count": 71
        }
      ]
    },
    {
      "cell_type": "code",
      "metadata": {
        "colab": {
          "base_uri": "https://localhost:8080/",
          "height": 555
        },
        "id": "Ct9_oBlsgDkj",
        "outputId": "a530a7c4-a60d-4da7-cd93-d7b81af6ce62"
      },
      "source": [
        "df"
      ],
      "execution_count": null,
      "outputs": [
        {
          "output_type": "execute_result",
          "data": {
            "text/html": [
              "<div>\n",
              "<style scoped>\n",
              "    .dataframe tbody tr th:only-of-type {\n",
              "        vertical-align: middle;\n",
              "    }\n",
              "\n",
              "    .dataframe tbody tr th {\n",
              "        vertical-align: top;\n",
              "    }\n",
              "\n",
              "    .dataframe thead th {\n",
              "        text-align: right;\n",
              "    }\n",
              "</style>\n",
              "<table border=\"1\" class=\"dataframe\">\n",
              "  <thead>\n",
              "    <tr style=\"text-align: right;\">\n",
              "      <th></th>\n",
              "      <th>FECHA_CORTE</th>\n",
              "      <th>UUID</th>\n",
              "      <th>GRUPO_RIESGO</th>\n",
              "      <th>EDAD</th>\n",
              "      <th>SEXO</th>\n",
              "      <th>FECHA_VACUNACION</th>\n",
              "      <th>DOSIS</th>\n",
              "      <th>FABRICANTE</th>\n",
              "      <th>DIRESA</th>\n",
              "      <th>DEPARTAMENTO</th>\n",
              "      <th>PROVINCIA</th>\n",
              "      <th>DISTRITO</th>\n",
              "    </tr>\n",
              "  </thead>\n",
              "  <tbody>\n",
              "    <tr>\n",
              "      <th>0</th>\n",
              "      <td>20210504</td>\n",
              "      <td>04cd9264959046894f4235d5c8b62794</td>\n",
              "      <td>PERSONAL DE SALUD</td>\n",
              "      <td>NaN</td>\n",
              "      <td>MASCULINO</td>\n",
              "      <td>20210222</td>\n",
              "      <td>1</td>\n",
              "      <td>SINOPHARM</td>\n",
              "      <td>LIMA CENTRO</td>\n",
              "      <td>LIMA</td>\n",
              "      <td>LIMA</td>\n",
              "      <td>LA VICTORIA</td>\n",
              "    </tr>\n",
              "    <tr>\n",
              "      <th>1</th>\n",
              "      <td>20210504</td>\n",
              "      <td>14fd8ec748ba82a72a4c5556ee8e6372</td>\n",
              "      <td>PERSONAL DE SALUD</td>\n",
              "      <td>NaN</td>\n",
              "      <td>MASCULINO</td>\n",
              "      <td>20210310</td>\n",
              "      <td>1</td>\n",
              "      <td>SINOPHARM</td>\n",
              "      <td>LA LIBERTAD</td>\n",
              "      <td>LA LIBERTAD</td>\n",
              "      <td>TRUJILLO</td>\n",
              "      <td>VICTOR LARCO HERRERA</td>\n",
              "    </tr>\n",
              "    <tr>\n",
              "      <th>2</th>\n",
              "      <td>20210504</td>\n",
              "      <td>b17ceddbbde5df1c082e09dc076421fb</td>\n",
              "      <td>PERSONAL DE SALUD</td>\n",
              "      <td>NaN</td>\n",
              "      <td>MASCULINO</td>\n",
              "      <td>20210227</td>\n",
              "      <td>1</td>\n",
              "      <td>SINOPHARM</td>\n",
              "      <td>HUANUCO</td>\n",
              "      <td>HUANUCO</td>\n",
              "      <td>LEONCIO PRADO</td>\n",
              "      <td>RUPA-RUPA</td>\n",
              "    </tr>\n",
              "    <tr>\n",
              "      <th>3</th>\n",
              "      <td>20210504</td>\n",
              "      <td>e5e67a589a53167d365e3de4373c419d</td>\n",
              "      <td>ADULTO MAYOR</td>\n",
              "      <td>NaN</td>\n",
              "      <td>FEMENINO</td>\n",
              "      <td>20210417</td>\n",
              "      <td>1</td>\n",
              "      <td>PFIZER</td>\n",
              "      <td>LIMA SUR</td>\n",
              "      <td>LIMA</td>\n",
              "      <td>LIMA</td>\n",
              "      <td>CHORRILLOS</td>\n",
              "    </tr>\n",
              "    <tr>\n",
              "      <th>4</th>\n",
              "      <td>20210504</td>\n",
              "      <td>103ae79bc8e63d82e78c754ae5c78e75</td>\n",
              "      <td>ADULTO MAYOR</td>\n",
              "      <td>81.0</td>\n",
              "      <td>FEMENINO</td>\n",
              "      <td>20210422</td>\n",
              "      <td>1</td>\n",
              "      <td>ASTRAZENECA</td>\n",
              "      <td>UCAYALI</td>\n",
              "      <td>UCAYALI</td>\n",
              "      <td>CORONEL PORTILLO</td>\n",
              "      <td>CALLERIA</td>\n",
              "    </tr>\n",
              "    <tr>\n",
              "      <th>...</th>\n",
              "      <td>...</td>\n",
              "      <td>...</td>\n",
              "      <td>...</td>\n",
              "      <td>...</td>\n",
              "      <td>...</td>\n",
              "      <td>...</td>\n",
              "      <td>...</td>\n",
              "      <td>...</td>\n",
              "      <td>...</td>\n",
              "      <td>...</td>\n",
              "      <td>...</td>\n",
              "      <td>...</td>\n",
              "    </tr>\n",
              "    <tr>\n",
              "      <th>1856959</th>\n",
              "      <td>20210504</td>\n",
              "      <td>b4ee21f5c2f78bb163e4e645ab1b6373</td>\n",
              "      <td>PERSONAL DE SALUD</td>\n",
              "      <td>31.0</td>\n",
              "      <td>MASCULINO</td>\n",
              "      <td>20210225</td>\n",
              "      <td>1</td>\n",
              "      <td>SINOPHARM</td>\n",
              "      <td>LIMA CENTRO</td>\n",
              "      <td>LIMA</td>\n",
              "      <td>LIMA</td>\n",
              "      <td>MAGDALENA DEL MAR</td>\n",
              "    </tr>\n",
              "    <tr>\n",
              "      <th>1856960</th>\n",
              "      <td>20210504</td>\n",
              "      <td>05f18908536fcbf526210efa198e1aa5</td>\n",
              "      <td>PERSONAL DE SALUD</td>\n",
              "      <td>30.0</td>\n",
              "      <td>FEMENINO</td>\n",
              "      <td>20210225</td>\n",
              "      <td>1</td>\n",
              "      <td>SINOPHARM</td>\n",
              "      <td>LIMA CENTRO</td>\n",
              "      <td>LIMA</td>\n",
              "      <td>LIMA</td>\n",
              "      <td>MAGDALENA DEL MAR</td>\n",
              "    </tr>\n",
              "    <tr>\n",
              "      <th>1856961</th>\n",
              "      <td>20210504</td>\n",
              "      <td>7e35f5777815eb8c474483c3270c6aa5</td>\n",
              "      <td>PERSONAL DE SALUD</td>\n",
              "      <td>22.0</td>\n",
              "      <td>MASCULINO</td>\n",
              "      <td>20210225</td>\n",
              "      <td>1</td>\n",
              "      <td>SINOPHARM</td>\n",
              "      <td>LIMA CENTRO</td>\n",
              "      <td>LIMA</td>\n",
              "      <td>LIMA</td>\n",
              "      <td>MAGDALENA DEL MAR</td>\n",
              "    </tr>\n",
              "    <tr>\n",
              "      <th>1856962</th>\n",
              "      <td>20210504</td>\n",
              "      <td>dad115c390dd0af157002a555e6013e4</td>\n",
              "      <td>PERSONAL DE SALUD</td>\n",
              "      <td>22.0</td>\n",
              "      <td>MASCULINO</td>\n",
              "      <td>20210225</td>\n",
              "      <td>1</td>\n",
              "      <td>SINOPHARM</td>\n",
              "      <td>LIMA CENTRO</td>\n",
              "      <td>LIMA</td>\n",
              "      <td>LIMA</td>\n",
              "      <td>MAGDALENA DEL MAR</td>\n",
              "    </tr>\n",
              "    <tr>\n",
              "      <th>1856963</th>\n",
              "      <td>20210504</td>\n",
              "      <td>05ea529a3aaa3d4e420b826bc3b5250c</td>\n",
              "      <td>ADULTO MAYOR</td>\n",
              "      <td>70.0</td>\n",
              "      <td>FEMENINO</td>\n",
              "      <td>20210429</td>\n",
              "      <td>1</td>\n",
              "      <td>ASTRAZENECA</td>\n",
              "      <td>HUANUCO</td>\n",
              "      <td>HUANUCO</td>\n",
              "      <td>HUAMALIES</td>\n",
              "      <td>LLATA</td>\n",
              "    </tr>\n",
              "  </tbody>\n",
              "</table>\n",
              "<p>1856964 rows × 12 columns</p>\n",
              "</div>"
            ],
            "text/plain": [
              "         FECHA_CORTE  ...              DISTRITO\n",
              "0           20210504  ...           LA VICTORIA\n",
              "1           20210504  ...  VICTOR LARCO HERRERA\n",
              "2           20210504  ...             RUPA-RUPA\n",
              "3           20210504  ...            CHORRILLOS\n",
              "4           20210504  ...              CALLERIA\n",
              "...              ...  ...                   ...\n",
              "1856959     20210504  ...     MAGDALENA DEL MAR\n",
              "1856960     20210504  ...     MAGDALENA DEL MAR\n",
              "1856961     20210504  ...     MAGDALENA DEL MAR\n",
              "1856962     20210504  ...     MAGDALENA DEL MAR\n",
              "1856963     20210504  ...                 LLATA\n",
              "\n",
              "[1856964 rows x 12 columns]"
            ]
          },
          "metadata": {
            "tags": []
          },
          "execution_count": 72
        }
      ]
    },
    {
      "cell_type": "code",
      "metadata": {
        "colab": {
          "base_uri": "https://localhost:8080/",
          "height": 297
        },
        "id": "eOypMpdAKDxs",
        "outputId": "2871fac2-9b5f-448f-ae53-36821dd00a34"
      },
      "source": [
        "df.describe()"
      ],
      "execution_count": null,
      "outputs": [
        {
          "output_type": "execute_result",
          "data": {
            "text/html": [
              "<div>\n",
              "<style scoped>\n",
              "    .dataframe tbody tr th:only-of-type {\n",
              "        vertical-align: middle;\n",
              "    }\n",
              "\n",
              "    .dataframe tbody tr th {\n",
              "        vertical-align: top;\n",
              "    }\n",
              "\n",
              "    .dataframe thead th {\n",
              "        text-align: right;\n",
              "    }\n",
              "</style>\n",
              "<table border=\"1\" class=\"dataframe\">\n",
              "  <thead>\n",
              "    <tr style=\"text-align: right;\">\n",
              "      <th></th>\n",
              "      <th>FECHA_CORTE</th>\n",
              "      <th>EDAD</th>\n",
              "      <th>FECHA_VACUNACION</th>\n",
              "      <th>DOSIS</th>\n",
              "    </tr>\n",
              "  </thead>\n",
              "  <tbody>\n",
              "    <tr>\n",
              "      <th>count</th>\n",
              "      <td>1856964.0</td>\n",
              "      <td>1.735385e+06</td>\n",
              "      <td>1.856964e+06</td>\n",
              "      <td>1.856964e+06</td>\n",
              "    </tr>\n",
              "    <tr>\n",
              "      <th>mean</th>\n",
              "      <td>20210504.0</td>\n",
              "      <td>5.233137e+01</td>\n",
              "      <td>2.021035e+07</td>\n",
              "      <td>1.347082e+00</td>\n",
              "    </tr>\n",
              "    <tr>\n",
              "      <th>std</th>\n",
              "      <td>0.0</td>\n",
              "      <td>2.139495e+01</td>\n",
              "      <td>8.378827e+01</td>\n",
              "      <td>4.760423e-01</td>\n",
              "    </tr>\n",
              "    <tr>\n",
              "      <th>min</th>\n",
              "      <td>20210504.0</td>\n",
              "      <td>1.800000e+01</td>\n",
              "      <td>2.021021e+07</td>\n",
              "      <td>1.000000e+00</td>\n",
              "    </tr>\n",
              "    <tr>\n",
              "      <th>25%</th>\n",
              "      <td>20210504.0</td>\n",
              "      <td>3.300000e+01</td>\n",
              "      <td>2.021031e+07</td>\n",
              "      <td>1.000000e+00</td>\n",
              "    </tr>\n",
              "    <tr>\n",
              "      <th>50%</th>\n",
              "      <td>20210504.0</td>\n",
              "      <td>4.800000e+01</td>\n",
              "      <td>2.021033e+07</td>\n",
              "      <td>1.000000e+00</td>\n",
              "    </tr>\n",
              "    <tr>\n",
              "      <th>75%</th>\n",
              "      <td>20210504.0</td>\n",
              "      <td>7.300000e+01</td>\n",
              "      <td>2.021042e+07</td>\n",
              "      <td>2.000000e+00</td>\n",
              "    </tr>\n",
              "    <tr>\n",
              "      <th>max</th>\n",
              "      <td>20210504.0</td>\n",
              "      <td>1.210000e+02</td>\n",
              "      <td>2.021050e+07</td>\n",
              "      <td>2.000000e+00</td>\n",
              "    </tr>\n",
              "  </tbody>\n",
              "</table>\n",
              "</div>"
            ],
            "text/plain": [
              "       FECHA_CORTE          EDAD  FECHA_VACUNACION         DOSIS\n",
              "count    1856964.0  1.735385e+06      1.856964e+06  1.856964e+06\n",
              "mean    20210504.0  5.233137e+01      2.021035e+07  1.347082e+00\n",
              "std            0.0  2.139495e+01      8.378827e+01  4.760423e-01\n",
              "min     20210504.0  1.800000e+01      2.021021e+07  1.000000e+00\n",
              "25%     20210504.0  3.300000e+01      2.021031e+07  1.000000e+00\n",
              "50%     20210504.0  4.800000e+01      2.021033e+07  1.000000e+00\n",
              "75%     20210504.0  7.300000e+01      2.021042e+07  2.000000e+00\n",
              "max     20210504.0  1.210000e+02      2.021050e+07  2.000000e+00"
            ]
          },
          "metadata": {
            "tags": []
          },
          "execution_count": 73
        }
      ]
    },
    {
      "cell_type": "code",
      "metadata": {
        "colab": {
          "base_uri": "https://localhost:8080/",
          "height": 500
        },
        "id": "LGAXyfK2C1fD",
        "outputId": "b464c41f-38f7-42fb-a145-bc283aa296e5"
      },
      "source": [
        "plt.figure(figsize=(15,8))\n",
        "\n",
        "ax = plt.axes()\n",
        "sb.heatmap(df.isna(),cbar=False, cmap='viridis',yticklabels=False)\n",
        "ax.set_title('Mapa de calor de datos faltantes')\n",
        "plt.savefig(\"data_faltante.jpg\", bbox_inches='tight')\n",
        "plt.show()"
      ],
      "execution_count": null,
      "outputs": [
        {
          "output_type": "display_data",
          "data": {
            "image/png": "[encoded data removed]",
            "text/plain": [
              "<Figure size 1080x576 with 1 Axes>"
            ]
          },
          "metadata": {
            "tags": [],
            "needs_background": "light"
          }
        }
      ]
    },
    {
      "cell_type": "code",
      "metadata": {
        "colab": {
          "base_uri": "https://localhost:8080/"
        },
        "id": "6Ls-GSJgdB2W",
        "outputId": "18711180-0128-49ff-b5a7-a72288afb92b"
      },
      "source": [
        "# Cantidad de datos nan\n",
        "(df.EDAD.isna().sum() / len(df.EDAD))*100"
      ],
      "execution_count": null,
      "outputs": [
        {
          "output_type": "execute_result",
          "data": {
            "text/plain": [
              "6.547192083422187"
            ]
          },
          "metadata": {
            "tags": []
          },
          "execution_count": 75
        }
      ]
    },
    {
      "cell_type": "markdown",
      "metadata": {
        "id": "QnV5vx95RL5f"
      },
      "source": [
        "## Limpieza de Datos"
      ]
    },
    {
      "cell_type": "code",
      "metadata": {
        "colab": {
          "base_uri": "https://localhost:8080/"
        },
        "id": "GxF7B1k4RP9W",
        "outputId": "07df1439-efbf-4a46-a148-f76f6fdbf892"
      },
      "source": [
        "#metodo visual para ver que columnas contienen algún missing\n",
        "df.isnull().any()"
      ],
      "execution_count": null,
      "outputs": [
        {
          "output_type": "execute_result",
          "data": {
            "text/plain": [
              "FECHA_CORTE         False\n",
              "UUID                False\n",
              "GRUPO_RIESGO        False\n",
              "EDAD                 True\n",
              "SEXO                False\n",
              "FECHA_VACUNACION    False\n",
              "DOSIS               False\n",
              "FABRICANTE          False\n",
              "DIRESA              False\n",
              "DEPARTAMENTO        False\n",
              "PROVINCIA           False\n",
              "DISTRITO            False\n",
              "dtype: bool"
            ]
          },
          "metadata": {
            "tags": []
          },
          "execution_count": 76
        }
      ]
    },
    {
      "cell_type": "code",
      "metadata": {
        "id": "nvyl72iRgCVb"
      },
      "source": [
        ""
      ],
      "execution_count": null,
      "outputs": []
    },
    {
      "cell_type": "code",
      "metadata": {
        "colab": {
          "base_uri": "https://localhost:8080/"
        },
        "id": "Q0COulppRiQv",
        "outputId": "3a722634-58a0-4382-d671-908764e1708d"
      },
      "source": [
        "# Verificamos que las columnas DEPARTAMENTO, GRUPO_RIESGO y SEXO tengan los valores indicados\n",
        "print(df['DEPARTAMENTO'].unique())\n",
        "print(df['GRUPO_RIESGO'].unique())\n",
        "print(df['SEXO'].unique())\n",
        "print(df['EDAD'].unique())"
      ],
      "execution_count": null,
      "outputs": [
        {
          "output_type": "stream",
          "text": [
            "['LIMA' 'LA LIBERTAD' 'HUANUCO' 'UCAYALI' 'LORETO' 'CALLAO' 'ICA' 'PASCO'\n",
            " 'CAJAMARCA' 'PIURA' 'AREQUIPA' 'AYACUCHO' 'ANCASH' 'LAMBAYEQUE'\n",
            " 'MADRE DE DIOS' 'SAN MARTIN' 'APURIMAC' 'CUSCO' 'AMAZONAS' 'JUNIN'\n",
            " 'TACNA' 'HUANCAVELICA' 'TUMBES' 'MOQUEGUA' 'PUNO']\n",
            "['PERSONAL DE SALUD' 'ADULTO MAYOR' 'PERSONAL MILITAR Ó FF AA'\n",
            " 'BRIGADISTAS' 'POLICIA NACIONAL DEL PERU' 'PERSONAL DE SEGURIDAD'\n",
            " 'TRABAJADOR Ó PERSONAL DE LIMPIEZA' 'BOMBERO'\n",
            " 'ESTUDIANTES DE CIENCIAS DE LA SALUD']\n",
            "['MASCULINO' 'FEMENINO']\n",
            "[ nan  81.  69.  73.  72.  62.  75.  86.  78.  71.  77.  74.  87.  95.\n",
            "  60.  80.  70.  76.  92.  85.  84.  65.  61.  83.  79.  58.  90.  56.\n",
            "  66.  82.  59.  94.  91.  89.  64.  68.  63.  55.  57.  54.  88.  96.\n",
            "  67.  97.  53.  93. 100.  98.  52.  50.  99. 101.  32.  51.  26.  49.\n",
            "  48. 105.  47.  44.  46.  45.  43.  42. 102. 104.  33.  31.  28.  36.\n",
            "  30.  35.  41. 103.  37.  34.  39. 110.  20. 107. 116. 106. 109. 111.\n",
            " 112.  19. 108. 117.  40. 119. 114.  29. 118.  22. 113.  38.  24.  21.\n",
            "  27.  25.  23. 121.  18.]\n"
          ],
          "name": "stdout"
        }
      ]
    },
    {
      "cell_type": "code",
      "metadata": {
        "id": "HpoSUjmZRV43"
      },
      "source": [
        "# Filtramos las filas que no tienen valor en las columnas EDAD o SEXO\n",
        "df = df[df['EDAD'].notnull() & df['SEXO'].notnull()]"
      ],
      "execution_count": null,
      "outputs": []
    },
    {
      "cell_type": "markdown",
      "metadata": {
        "id": "-S0FZYu7YJBP"
      },
      "source": [
        "## 1.- Vacunación por Genero"
      ]
    },
    {
      "cell_type": "code",
      "metadata": {
        "colab": {
          "base_uri": "https://localhost:8080/",
          "height": 80
        },
        "id": "WXteSpysvDTQ",
        "outputId": "5e99e1ba-5bd1-4973-a153-01dccf1ebb4e"
      },
      "source": [
        "#plt.bar(df['DEPARTAMENTO'], df['DOSIS'])\n",
        "\n",
        "cont_pais_gen = df.groupby(['SEXO']).count().reset_index()\n",
        "cont_pais_gen['Conteo'] = cont_pais_gen['DOSIS']\n",
        "\n",
        "cont_f = cont_pais_gen[cont_pais_gen['SEXO'] == 'FEMENINO']\n",
        "cont_m = cont_pais_gen[cont_pais_gen['SEXO'] == 'MASCULINO']\n",
        "cont_m.head()"
      ],
      "execution_count": null,
      "outputs": [
        {
          "output_type": "execute_result",
          "data": {
            "text/html": [
              "<div>\n",
              "<style scoped>\n",
              "    .dataframe tbody tr th:only-of-type {\n",
              "        vertical-align: middle;\n",
              "    }\n",
              "\n",
              "    .dataframe tbody tr th {\n",
              "        vertical-align: top;\n",
              "    }\n",
              "\n",
              "    .dataframe thead th {\n",
              "        text-align: right;\n",
              "    }\n",
              "</style>\n",
              "<table border=\"1\" class=\"dataframe\">\n",
              "  <thead>\n",
              "    <tr style=\"text-align: right;\">\n",
              "      <th></th>\n",
              "      <th>SEXO</th>\n",
              "      <th>FECHA_CORTE</th>\n",
              "      <th>UUID</th>\n",
              "      <th>GRUPO_RIESGO</th>\n",
              "      <th>EDAD</th>\n",
              "      <th>FECHA_VACUNACION</th>\n",
              "      <th>DOSIS</th>\n",
              "      <th>FABRICANTE</th>\n",
              "      <th>DIRESA</th>\n",
              "      <th>DEPARTAMENTO</th>\n",
              "      <th>PROVINCIA</th>\n",
              "      <th>DISTRITO</th>\n",
              "      <th>Conteo</th>\n",
              "    </tr>\n",
              "  </thead>\n",
              "  <tbody>\n",
              "    <tr>\n",
              "      <th>1</th>\n",
              "      <td>MASCULINO</td>\n",
              "      <td>882394</td>\n",
              "      <td>882394</td>\n",
              "      <td>882394</td>\n",
              "      <td>824253</td>\n",
              "      <td>882394</td>\n",
              "      <td>882394</td>\n",
              "      <td>882394</td>\n",
              "      <td>882394</td>\n",
              "      <td>882394</td>\n",
              "      <td>882394</td>\n",
              "      <td>882394</td>\n",
              "      <td>882394</td>\n",
              "    </tr>\n",
              "  </tbody>\n",
              "</table>\n",
              "</div>"
            ],
            "text/plain": [
              "        SEXO  FECHA_CORTE    UUID  ...  PROVINCIA  DISTRITO  Conteo\n",
              "1  MASCULINO       882394  882394  ...     882394    882394  882394\n",
              "\n",
              "[1 rows x 13 columns]"
            ]
          },
          "metadata": {
            "tags": []
          },
          "execution_count": 78
        }
      ]
    },
    {
      "cell_type": "markdown",
      "metadata": {
        "id": "yyc8Pej21oHo"
      },
      "source": [
        "###1.1.- Por Genero a nivel de pais"
      ]
    },
    {
      "cell_type": "code",
      "metadata": {
        "colab": {
          "base_uri": "https://localhost:8080/",
          "height": 309
        },
        "id": "lz28ip4FvWED",
        "outputId": "499220c9-3265-4d51-9184-2724994dca4c"
      },
      "source": [
        "#Barras comparadas Dosis por sexo en cada departamento\n",
        "import numpy as np\n",
        "width = 0.5 #ancho\n",
        "labels = cont_m['DOSIS']\n",
        "x = np.arange(len(labels))\n",
        "\n",
        "labels = 'Masculino', 'Femenino'\n",
        "sizes = [cont_m['Conteo'],cont_f['Conteo']]\n",
        " \n",
        "fig1, ax1 = plt.subplots()\n",
        "ax1.pie(sizes, labels=labels, autopct='%1.1f%%')\n",
        "ax1.axis('equal')  \n",
        "plt.savefig(\"porcentaje_genero.jpg\", bbox_inches='tight')\n",
        "plt.show()"
      ],
      "execution_count": null,
      "outputs": [
        {
          "output_type": "stream",
          "text": [
            "/usr/local/lib/python3.7/dist-packages/ipykernel_launcher.py:11: MatplotlibDeprecationWarning: Non-1D inputs to pie() are currently squeeze()d, but this behavior is deprecated since 3.1 and will be removed in 3.3; pass a 1D array instead.\n",
            "  # This is added back by InteractiveShellApp.init_path()\n"
          ],
          "name": "stderr"
        },
        {
          "output_type": "display_data",
          "data": {
            "image/png": "[encoded data removed]",
            "text/plain": [
              "<Figure size 432x288 with 1 Axes>"
            ]
          },
          "metadata": {
            "tags": []
          }
        }
      ]
    },
    {
      "cell_type": "code",
      "metadata": {
        "id": "7vNSyMg9LLTb",
        "colab": {
          "base_uri": "https://localhost:8080/",
          "height": 204
        },
        "outputId": "8d1a6c25-30af-4d60-8f70-5be38be35437"
      },
      "source": [
        "#plt.bar(df['DEPARTAMENTO'], df['DOSIS'])\n",
        "\n",
        "cont_pais_gen = df.groupby(['SEXO','DEPARTAMENTO']).count().reset_index()\n",
        "cont_pais_gen['Conteo'] = cont_pais_gen['DOSIS']\n",
        "\n",
        "cont_f = cont_pais_gen[cont_pais_gen['SEXO'] == 'FEMENINO']\n",
        "cont_m = cont_pais_gen[cont_pais_gen['SEXO'] == 'MASCULINO']\n",
        "cont_m.head(5)"
      ],
      "execution_count": null,
      "outputs": [
        {
          "output_type": "execute_result",
          "data": {
            "text/html": [
              "<div>\n",
              "<style scoped>\n",
              "    .dataframe tbody tr th:only-of-type {\n",
              "        vertical-align: middle;\n",
              "    }\n",
              "\n",
              "    .dataframe tbody tr th {\n",
              "        vertical-align: top;\n",
              "    }\n",
              "\n",
              "    .dataframe thead th {\n",
              "        text-align: right;\n",
              "    }\n",
              "</style>\n",
              "<table border=\"1\" class=\"dataframe\">\n",
              "  <thead>\n",
              "    <tr style=\"text-align: right;\">\n",
              "      <th></th>\n",
              "      <th>SEXO</th>\n",
              "      <th>DEPARTAMENTO</th>\n",
              "      <th>FECHA_CORTE</th>\n",
              "      <th>UUID</th>\n",
              "      <th>GRUPO_RIESGO</th>\n",
              "      <th>EDAD</th>\n",
              "      <th>FECHA_VACUNACION</th>\n",
              "      <th>DOSIS</th>\n",
              "      <th>FABRICANTE</th>\n",
              "      <th>DIRESA</th>\n",
              "      <th>PROVINCIA</th>\n",
              "      <th>DISTRITO</th>\n",
              "      <th>Conteo</th>\n",
              "    </tr>\n",
              "  </thead>\n",
              "  <tbody>\n",
              "    <tr>\n",
              "      <th>25</th>\n",
              "      <td>MASCULINO</td>\n",
              "      <td>AMAZONAS</td>\n",
              "      <td>8449</td>\n",
              "      <td>8449</td>\n",
              "      <td>8449</td>\n",
              "      <td>8409</td>\n",
              "      <td>8449</td>\n",
              "      <td>8449</td>\n",
              "      <td>8449</td>\n",
              "      <td>8449</td>\n",
              "      <td>8449</td>\n",
              "      <td>8449</td>\n",
              "      <td>8449</td>\n",
              "    </tr>\n",
              "    <tr>\n",
              "      <th>26</th>\n",
              "      <td>MASCULINO</td>\n",
              "      <td>ANCASH</td>\n",
              "      <td>20627</td>\n",
              "      <td>20627</td>\n",
              "      <td>20627</td>\n",
              "      <td>20364</td>\n",
              "      <td>20627</td>\n",
              "      <td>20627</td>\n",
              "      <td>20627</td>\n",
              "      <td>20627</td>\n",
              "      <td>20627</td>\n",
              "      <td>20627</td>\n",
              "      <td>20627</td>\n",
              "    </tr>\n",
              "    <tr>\n",
              "      <th>27</th>\n",
              "      <td>MASCULINO</td>\n",
              "      <td>APURIMAC</td>\n",
              "      <td>13717</td>\n",
              "      <td>13717</td>\n",
              "      <td>13717</td>\n",
              "      <td>13689</td>\n",
              "      <td>13717</td>\n",
              "      <td>13717</td>\n",
              "      <td>13717</td>\n",
              "      <td>13717</td>\n",
              "      <td>13717</td>\n",
              "      <td>13717</td>\n",
              "      <td>13717</td>\n",
              "    </tr>\n",
              "    <tr>\n",
              "      <th>28</th>\n",
              "      <td>MASCULINO</td>\n",
              "      <td>AREQUIPA</td>\n",
              "      <td>37217</td>\n",
              "      <td>37217</td>\n",
              "      <td>37217</td>\n",
              "      <td>36803</td>\n",
              "      <td>37217</td>\n",
              "      <td>37217</td>\n",
              "      <td>37217</td>\n",
              "      <td>37217</td>\n",
              "      <td>37217</td>\n",
              "      <td>37217</td>\n",
              "      <td>37217</td>\n",
              "    </tr>\n",
              "    <tr>\n",
              "      <th>29</th>\n",
              "      <td>MASCULINO</td>\n",
              "      <td>AYACUCHO</td>\n",
              "      <td>18752</td>\n",
              "      <td>18752</td>\n",
              "      <td>18752</td>\n",
              "      <td>18658</td>\n",
              "      <td>18752</td>\n",
              "      <td>18752</td>\n",
              "      <td>18752</td>\n",
              "      <td>18752</td>\n",
              "      <td>18752</td>\n",
              "      <td>18752</td>\n",
              "      <td>18752</td>\n",
              "    </tr>\n",
              "  </tbody>\n",
              "</table>\n",
              "</div>"
            ],
            "text/plain": [
              "         SEXO DEPARTAMENTO  FECHA_CORTE  ...  PROVINCIA  DISTRITO  Conteo\n",
              "25  MASCULINO     AMAZONAS         8449  ...       8449      8449    8449\n",
              "26  MASCULINO       ANCASH        20627  ...      20627     20627   20627\n",
              "27  MASCULINO     APURIMAC        13717  ...      13717     13717   13717\n",
              "28  MASCULINO     AREQUIPA        37217  ...      37217     37217   37217\n",
              "29  MASCULINO     AYACUCHO        18752  ...      18752     18752   18752\n",
              "\n",
              "[5 rows x 13 columns]"
            ]
          },
          "metadata": {
            "tags": []
          },
          "execution_count": 80
        }
      ]
    },
    {
      "cell_type": "markdown",
      "metadata": {
        "id": "uZdbilDN1-U9"
      },
      "source": [
        "###1.2.- Por Genero a nivel de departamento"
      ]
    },
    {
      "cell_type": "code",
      "metadata": {
        "colab": {
          "base_uri": "https://localhost:8080/",
          "height": 533
        },
        "id": "1yj5Tu3LRjgU",
        "outputId": "2dbfd091-46e1-4c66-fa77-ab6073e5c5a5"
      },
      "source": [
        "#Barras comparadas Dosis por sexo en cada departamento\n",
        "import numpy as np\n",
        "width = 0.35 #ancho\n",
        "labels = cont_m['DEPARTAMENTO']\n",
        "x = np.arange(len(labels))\n",
        "\n",
        "f, ax = plt.subplots(figsize=(20,9)) # set the size that you'd like (width, height)\n",
        "plt.bar(x - width/2, cont_f['Conteo'],width,label='F')\n",
        "plt.bar(x + width/2, cont_m['Conteo'],width,label='M')\n",
        "\n",
        "plt.xticks(x,labels, fontsize=6)\n",
        "ax.legend(fontsize = 14)\n",
        "plt.savefig(\"porcentaje_dpt.jpg\", bbox_inches='tight')\n",
        "plt.show()"
      ],
      "execution_count": null,
      "outputs": [
        {
          "output_type": "display_data",
          "data": {
            "image/png": "[encoded data removed]",
            "text/plain": [
              "<Figure size 1440x648 with 1 Axes>"
            ]
          },
          "metadata": {
            "tags": [],
            "needs_background": "light"
          }
        }
      ]
    },
    {
      "cell_type": "markdown",
      "metadata": {
        "id": "YcGiEFXh35nN"
      },
      "source": [
        "##2.- Vacunación por Edad"
      ]
    },
    {
      "cell_type": "markdown",
      "metadata": {
        "id": "tbd9kYEm4BOX"
      },
      "source": [
        "### 2.1.- Vacunación por Edad General\n",
        "\n",
        "1.   Primera Infancia (0-5 años)\n",
        "2.   Infancia (6 - 11 años)\n",
        "3.   Adolescencia (12 - 18 años)\n",
        "4.   Juventud (19 - 26 años)\n",
        "5.   Adultez (27- 59 años)\n",
        "6.   Persona Mayor (60 años o mas) envejecimiento y vejez\n"
      ]
    },
    {
      "cell_type": "code",
      "metadata": {
        "id": "WX59hRHB4LYN"
      },
      "source": [
        "#plt.bar(df['DEPARTAMENTO'], df['DOSIS'])\n",
        "\n",
        "cont_pais_gen = df.groupby(['EDAD']).count().reset_index()\n",
        "cont_pais_gen['Conteo'] = cont_pais_gen['DOSIS']\n",
        "\n",
        "cont_04 = cont_pais_gen[cont_pais_gen['EDAD'].between(19, 26)]\n",
        "cont_05 = cont_pais_gen[cont_pais_gen['EDAD'].between(27, 59)]\n",
        "cont_06 = cont_pais_gen[cont_pais_gen['EDAD'].between(60, 110)]\n",
        "#cont_05.Conteo.sum()\n",
        "#cont_04.count()\n"
      ],
      "execution_count": null,
      "outputs": []
    },
    {
      "cell_type": "code",
      "metadata": {
        "colab": {
          "base_uri": "https://localhost:8080/",
          "height": 248
        },
        "id": "i7NMTAel94pn",
        "outputId": "d234a204-e3a1-48bf-cd2d-d4e66fc73f84"
      },
      "source": [
        "#Barras comparadas Dosis por sexo en cada departamento\n",
        "import numpy as np\n",
        "width = 0.35 #ancho\n",
        "x = np.arange(len(labels))\n",
        "\n",
        "labels = 'Joven', 'Adulto','Adulto Mayor'\n",
        "sizes = [cont_04.Conteo.sum(),cont_05.Conteo.sum(),cont_06.Conteo.sum()]\n",
        " \n",
        "fig1, ax1 = plt.subplots()\n",
        "ax1.pie(sizes, labels=labels, autopct='%1.3f%%')\n",
        "ax1.axis('equal')  \n",
        "plt.savefig(\"porcentaje_edad.jpg\", bbox_inches='tight')\n",
        "plt.show()"
      ],
      "execution_count": null,
      "outputs": [
        {
          "output_type": "display_data",
          "data": {
            "image/png": "[encoded data removed]",
            "text/plain": [
              "<Figure size 432x288 with 1 Axes>"
            ]
          },
          "metadata": {
            "tags": []
          }
        }
      ]
    },
    {
      "cell_type": "code",
      "metadata": {
        "colab": {
          "base_uri": "https://localhost:8080/"
        },
        "id": "EQ1hQBITYiiI",
        "outputId": "7b6ec90e-ba44-4124-cbe9-ca227e6f3222"
      },
      "source": [
        "!pip install geopandas"
      ],
      "execution_count": null,
      "outputs": [
        {
          "output_type": "stream",
          "text": [
            "Collecting geopandas\n",
            "\u001b[?25l  Downloading https://files.pythonhosted.org/packages/d7/bf/e9cefb69d39155d122b6ddca53893b61535fa6ffdad70bf5ef708977f53f/geopandas-0.9.0-py2.py3-none-any.whl (994kB)\n",
            "\u001b[K     |████████████████████████████████| 1.0MB 4.9MB/s \n",
            "\u001b[?25hCollecting pyproj>=2.2.0\n",
            "\u001b[?25l  Downloading https://files.pythonhosted.org/packages/b1/72/d52e9ca81caef056062d71991b0e9b1d16af042245627c5d0e4916a36c4f/pyproj-3.0.1-cp37-cp37m-manylinux2010_x86_64.whl (6.5MB)\n",
            "\u001b[K     |████████████████████████████████| 6.5MB 35.1MB/s \n",
            "\u001b[?25hCollecting fiona>=1.8\n",
            "\u001b[?25l  Downloading https://files.pythonhosted.org/packages/ea/2a/404b22883298a3efe9c6ef8d67acbf2c38443fa366ee9cd4cd34e17626ea/Fiona-1.8.19-cp37-cp37m-manylinux1_x86_64.whl (15.3MB)\n",
            "\u001b[K     |████████████████████████████████| 15.3MB 220kB/s \n",
            "\u001b[?25hRequirement already satisfied: pandas>=0.24.0 in /usr/local/lib/python3.7/dist-packages (from geopandas) (1.1.5)\n",
            "Requirement already satisfied: shapely>=1.6 in /usr/local/lib/python3.7/dist-packages (from geopandas) (1.7.1)\n",
            "Requirement already satisfied: certifi in /usr/local/lib/python3.7/dist-packages (from pyproj>=2.2.0->geopandas) (2020.12.5)\n",
            "Collecting click-plugins>=1.0\n",
            "  Downloading https://files.pythonhosted.org/packages/e9/da/824b92d9942f4e472702488857914bdd50f73021efea15b4cad9aca8ecef/click_plugins-1.1.1-py2.py3-none-any.whl\n",
            "Collecting cligj>=0.5\n",
            "  Downloading https://files.pythonhosted.org/packages/42/1e/947eadf10d6804bf276eb8a038bd5307996dceaaa41cfd21b7a15ec62f5d/cligj-0.7.1-py3-none-any.whl\n",
            "Requirement already satisfied: six>=1.7 in /usr/local/lib/python3.7/dist-packages (from fiona>=1.8->geopandas) (1.15.0)\n",
            "Requirement already satisfied: attrs>=17 in /usr/local/lib/python3.7/dist-packages (from fiona>=1.8->geopandas) (20.3.0)\n",
            "Requirement already satisfied: click<8,>=4.0 in /usr/local/lib/python3.7/dist-packages (from fiona>=1.8->geopandas) (7.1.2)\n",
            "Collecting munch\n",
            "  Downloading https://files.pythonhosted.org/packages/cc/ab/85d8da5c9a45e072301beb37ad7f833cd344e04c817d97e0cc75681d248f/munch-2.5.0-py2.py3-none-any.whl\n",
            "Requirement already satisfied: pytz>=2017.2 in /usr/local/lib/python3.7/dist-packages (from pandas>=0.24.0->geopandas) (2018.9)\n",
            "Requirement already satisfied: numpy>=1.15.4 in /usr/local/lib/python3.7/dist-packages (from pandas>=0.24.0->geopandas) (1.19.5)\n",
            "Requirement already satisfied: python-dateutil>=2.7.3 in /usr/local/lib/python3.7/dist-packages (from pandas>=0.24.0->geopandas) (2.8.1)\n",
            "Installing collected packages: pyproj, click-plugins, cligj, munch, fiona, geopandas\n",
            "Successfully installed click-plugins-1.1.1 cligj-0.7.1 fiona-1.8.19 geopandas-0.9.0 munch-2.5.0 pyproj-3.0.1\n"
          ],
          "name": "stdout"
        }
      ]
    },
    {
      "cell_type": "code",
      "metadata": {
        "colab": {
          "base_uri": "https://localhost:8080/",
          "height": 204
        },
        "id": "KFohKYOIYtTp",
        "outputId": "f6220bd8-2b0e-48f7-c1ab-3c63f988689c"
      },
      "source": [
        "import geopandas as gpd\n",
        "\n",
        "url_geojson = \"peru_departamental_simple.geojson\"\n",
        "\n",
        "region_geojson = gpd.read_file(url_geojson)\n",
        "region_geojson.head()\n"
      ],
      "execution_count": null,
      "outputs": [
        {
          "output_type": "execute_result",
          "data": {
            "text/html": [
              "<div>\n",
              "<style scoped>\n",
              "    .dataframe tbody tr th:only-of-type {\n",
              "        vertical-align: middle;\n",
              "    }\n",
              "\n",
              "    .dataframe tbody tr th {\n",
              "        vertical-align: top;\n",
              "    }\n",
              "\n",
              "    .dataframe thead th {\n",
              "        text-align: right;\n",
              "    }\n",
              "</style>\n",
              "<table border=\"1\" class=\"dataframe\">\n",
              "  <thead>\n",
              "    <tr style=\"text-align: right;\">\n",
              "      <th></th>\n",
              "      <th>NOMBDEP</th>\n",
              "      <th>COUNT</th>\n",
              "      <th>FIRST_IDDP</th>\n",
              "      <th>HECTARES</th>\n",
              "      <th>geometry</th>\n",
              "    </tr>\n",
              "  </thead>\n",
              "  <tbody>\n",
              "    <tr>\n",
              "      <th>0</th>\n",
              "      <td>AMAZONAS</td>\n",
              "      <td>84</td>\n",
              "      <td>01</td>\n",
              "      <td>3930646.567</td>\n",
              "      <td>POLYGON ((-77.75893 -6.96451, -77.84586 -6.976...</td>\n",
              "    </tr>\n",
              "    <tr>\n",
              "      <th>1</th>\n",
              "      <td>ANCASH</td>\n",
              "      <td>166</td>\n",
              "      <td>02</td>\n",
              "      <td>3596224.600</td>\n",
              "      <td>POLYGON ((-77.31749 -8.53015, -77.28903 -8.589...</td>\n",
              "    </tr>\n",
              "    <tr>\n",
              "      <th>2</th>\n",
              "      <td>APURIMAC</td>\n",
              "      <td>80</td>\n",
              "      <td>03</td>\n",
              "      <td>2111415.170</td>\n",
              "      <td>POLYGON ((-72.47177 -14.66140, -72.57725 -14.6...</td>\n",
              "    </tr>\n",
              "    <tr>\n",
              "      <th>3</th>\n",
              "      <td>AREQUIPA</td>\n",
              "      <td>109</td>\n",
              "      <td>04</td>\n",
              "      <td>6325588.935</td>\n",
              "      <td>POLYGON ((-75.07333 -15.44294, -75.04965 -15.4...</td>\n",
              "    </tr>\n",
              "    <tr>\n",
              "      <th>4</th>\n",
              "      <td>AYACUCHO</td>\n",
              "      <td>111</td>\n",
              "      <td>05</td>\n",
              "      <td>4350381.783</td>\n",
              "      <td>POLYGON ((-74.34595 -12.17374, -74.32187 -12.2...</td>\n",
              "    </tr>\n",
              "  </tbody>\n",
              "</table>\n",
              "</div>"
            ],
            "text/plain": [
              "    NOMBDEP  ...                                           geometry\n",
              "0  AMAZONAS  ...  POLYGON ((-77.75893 -6.96451, -77.84586 -6.976...\n",
              "1    ANCASH  ...  POLYGON ((-77.31749 -8.53015, -77.28903 -8.589...\n",
              "2  APURIMAC  ...  POLYGON ((-72.47177 -14.66140, -72.57725 -14.6...\n",
              "3  AREQUIPA  ...  POLYGON ((-75.07333 -15.44294, -75.04965 -15.4...\n",
              "4  AYACUCHO  ...  POLYGON ((-74.34595 -12.17374, -74.32187 -12.2...\n",
              "\n",
              "[5 rows x 5 columns]"
            ]
          },
          "metadata": {
            "tags": []
          },
          "execution_count": 84
        }
      ]
    },
    {
      "cell_type": "code",
      "metadata": {
        "colab": {
          "base_uri": "https://localhost:8080/",
          "height": 824
        },
        "id": "JpBd6_RBbvqd",
        "outputId": "1ac9494c-d03e-4096-a1e9-d40ce3da6a48"
      },
      "source": [
        "#Dosis por region Ahora(EXPERIMENTACION)\n",
        "\n",
        "cont_pais_gen = df.groupby(['DEPARTAMENTO']).sum().reset_index() \n",
        "\n",
        "cont_pais_gen.head(26)\n"
      ],
      "execution_count": null,
      "outputs": [
        {
          "output_type": "execute_result",
          "data": {
            "text/html": [
              "<div>\n",
              "<style scoped>\n",
              "    .dataframe tbody tr th:only-of-type {\n",
              "        vertical-align: middle;\n",
              "    }\n",
              "\n",
              "    .dataframe tbody tr th {\n",
              "        vertical-align: top;\n",
              "    }\n",
              "\n",
              "    .dataframe thead th {\n",
              "        text-align: right;\n",
              "    }\n",
              "</style>\n",
              "<table border=\"1\" class=\"dataframe\">\n",
              "  <thead>\n",
              "    <tr style=\"text-align: right;\">\n",
              "      <th></th>\n",
              "      <th>DEPARTAMENTO</th>\n",
              "      <th>FECHA_CORTE</th>\n",
              "      <th>EDAD</th>\n",
              "      <th>FECHA_VACUNACION</th>\n",
              "      <th>DOSIS</th>\n",
              "    </tr>\n",
              "  </thead>\n",
              "  <tbody>\n",
              "    <tr>\n",
              "      <th>0</th>\n",
              "      <td>AMAZONAS</td>\n",
              "      <td>371489274024</td>\n",
              "      <td>954582.0</td>\n",
              "      <td>371486507739</td>\n",
              "      <td>23777</td>\n",
              "    </tr>\n",
              "    <tr>\n",
              "      <th>1</th>\n",
              "      <td>ANCASH</td>\n",
              "      <td>873012930784</td>\n",
              "      <td>1981844.0</td>\n",
              "      <td>873005792255</td>\n",
              "      <td>60518</td>\n",
              "    </tr>\n",
              "    <tr>\n",
              "      <th>2</th>\n",
              "      <td>APURIMAC</td>\n",
              "      <td>650171913680</td>\n",
              "      <td>1798343.0</td>\n",
              "      <td>650167502754</td>\n",
              "      <td>39566</td>\n",
              "    </tr>\n",
              "    <tr>\n",
              "      <th>3</th>\n",
              "      <td>AREQUIPA</td>\n",
              "      <td>1554753651712</td>\n",
              "      <td>3852757.0</td>\n",
              "      <td>1554740603141</td>\n",
              "      <td>109148</td>\n",
              "    </tr>\n",
              "    <tr>\n",
              "      <th>4</th>\n",
              "      <td>AYACUCHO</td>\n",
              "      <td>896194378872</td>\n",
              "      <td>2701036.0</td>\n",
              "      <td>896188593829</td>\n",
              "      <td>53603</td>\n",
              "    </tr>\n",
              "    <tr>\n",
              "      <th>5</th>\n",
              "      <td>CAJAMARCA</td>\n",
              "      <td>740856445128</td>\n",
              "      <td>1767371.0</td>\n",
              "      <td>740850155984</td>\n",
              "      <td>50851</td>\n",
              "    </tr>\n",
              "    <tr>\n",
              "      <th>6</th>\n",
              "      <td>CALLAO</td>\n",
              "      <td>3074623973520</td>\n",
              "      <td>7190879.0</td>\n",
              "      <td>3074601723500</td>\n",
              "      <td>209138</td>\n",
              "    </tr>\n",
              "    <tr>\n",
              "      <th>7</th>\n",
              "      <td>CUSCO</td>\n",
              "      <td>710015216024</td>\n",
              "      <td>1762489.0</td>\n",
              "      <td>710008632584</td>\n",
              "      <td>49009</td>\n",
              "    </tr>\n",
              "    <tr>\n",
              "      <th>8</th>\n",
              "      <td>HUANCAVELICA</td>\n",
              "      <td>584305881144</td>\n",
              "      <td>1600623.0</td>\n",
              "      <td>584302134012</td>\n",
              "      <td>34763</td>\n",
              "    </tr>\n",
              "    <tr>\n",
              "      <th>9</th>\n",
              "      <td>HUANUCO</td>\n",
              "      <td>698010176648</td>\n",
              "      <td>1886822.0</td>\n",
              "      <td>698005316123</td>\n",
              "      <td>43773</td>\n",
              "    </tr>\n",
              "    <tr>\n",
              "      <th>10</th>\n",
              "      <td>ICA</td>\n",
              "      <td>841282439504</td>\n",
              "      <td>1983195.0</td>\n",
              "      <td>841275819938</td>\n",
              "      <td>57632</td>\n",
              "    </tr>\n",
              "    <tr>\n",
              "      <th>11</th>\n",
              "      <td>JUNIN</td>\n",
              "      <td>834107710584</td>\n",
              "      <td>1995260.0</td>\n",
              "      <td>834099998348</td>\n",
              "      <td>59124</td>\n",
              "    </tr>\n",
              "    <tr>\n",
              "      <th>12</th>\n",
              "      <td>LA LIBERTAD</td>\n",
              "      <td>1428458212216</td>\n",
              "      <td>3832643.0</td>\n",
              "      <td>1428446202324</td>\n",
              "      <td>98318</td>\n",
              "    </tr>\n",
              "    <tr>\n",
              "      <th>13</th>\n",
              "      <td>LAMBAYEQUE</td>\n",
              "      <td>706175220264</td>\n",
              "      <td>1691458.0</td>\n",
              "      <td>706168437229</td>\n",
              "      <td>48529</td>\n",
              "    </tr>\n",
              "    <tr>\n",
              "      <th>14</th>\n",
              "      <td>LIMA</td>\n",
              "      <td>18663693076360</td>\n",
              "      <td>43707181.0</td>\n",
              "      <td>18663560564977</td>\n",
              "      <td>1235904</td>\n",
              "    </tr>\n",
              "    <tr>\n",
              "      <th>15</th>\n",
              "      <td>LORETO</td>\n",
              "      <td>846638223064</td>\n",
              "      <td>2249183.0</td>\n",
              "      <td>846632055774</td>\n",
              "      <td>57562</td>\n",
              "    </tr>\n",
              "    <tr>\n",
              "      <th>16</th>\n",
              "      <td>MADRE DE DIOS</td>\n",
              "      <td>150750149336</td>\n",
              "      <td>360538.0</td>\n",
              "      <td>150748982454</td>\n",
              "      <td>9775</td>\n",
              "    </tr>\n",
              "    <tr>\n",
              "      <th>17</th>\n",
              "      <td>MOQUEGUA</td>\n",
              "      <td>215100394072</td>\n",
              "      <td>486975.0</td>\n",
              "      <td>215098327660</td>\n",
              "      <td>14860</td>\n",
              "    </tr>\n",
              "    <tr>\n",
              "      <th>18</th>\n",
              "      <td>PASCO</td>\n",
              "      <td>272942856520</td>\n",
              "      <td>746551.0</td>\n",
              "      <td>272940930184</td>\n",
              "      <td>17096</td>\n",
              "    </tr>\n",
              "    <tr>\n",
              "      <th>19</th>\n",
              "      <td>PIURA</td>\n",
              "      <td>1096763420568</td>\n",
              "      <td>2630517.0</td>\n",
              "      <td>1096754371250</td>\n",
              "      <td>73715</td>\n",
              "    </tr>\n",
              "    <tr>\n",
              "      <th>20</th>\n",
              "      <td>PUNO</td>\n",
              "      <td>583073040400</td>\n",
              "      <td>1375061.0</td>\n",
              "      <td>583067840170</td>\n",
              "      <td>38959</td>\n",
              "    </tr>\n",
              "    <tr>\n",
              "      <th>21</th>\n",
              "      <td>SAN MARTIN</td>\n",
              "      <td>628809410952</td>\n",
              "      <td>1589666.0</td>\n",
              "      <td>628803669061</td>\n",
              "      <td>44440</td>\n",
              "    </tr>\n",
              "    <tr>\n",
              "      <th>22</th>\n",
              "      <td>TACNA</td>\n",
              "      <td>334443420192</td>\n",
              "      <td>750450.0</td>\n",
              "      <td>334440750937</td>\n",
              "      <td>22992</td>\n",
              "    </tr>\n",
              "    <tr>\n",
              "      <th>23</th>\n",
              "      <td>TUMBES</td>\n",
              "      <td>338990783592</td>\n",
              "      <td>831063.0</td>\n",
              "      <td>338988525819</td>\n",
              "      <td>21331</td>\n",
              "    </tr>\n",
              "    <tr>\n",
              "      <th>24</th>\n",
              "      <td>UCAYALI</td>\n",
              "      <td>435516150696</td>\n",
              "      <td>1088588.0</td>\n",
              "      <td>435512945363</td>\n",
              "      <td>27100</td>\n",
              "    </tr>\n",
              "  </tbody>\n",
              "</table>\n",
              "</div>"
            ],
            "text/plain": [
              "     DEPARTAMENTO     FECHA_CORTE        EDAD  FECHA_VACUNACION    DOSIS\n",
              "0        AMAZONAS    371489274024    954582.0      371486507739    23777\n",
              "1          ANCASH    873012930784   1981844.0      873005792255    60518\n",
              "2        APURIMAC    650171913680   1798343.0      650167502754    39566\n",
              "3        AREQUIPA   1554753651712   3852757.0     1554740603141   109148\n",
              "4        AYACUCHO    896194378872   2701036.0      896188593829    53603\n",
              "5       CAJAMARCA    740856445128   1767371.0      740850155984    50851\n",
              "6          CALLAO   3074623973520   7190879.0     3074601723500   209138\n",
              "7           CUSCO    710015216024   1762489.0      710008632584    49009\n",
              "8    HUANCAVELICA    584305881144   1600623.0      584302134012    34763\n",
              "9         HUANUCO    698010176648   1886822.0      698005316123    43773\n",
              "10            ICA    841282439504   1983195.0      841275819938    57632\n",
              "11          JUNIN    834107710584   1995260.0      834099998348    59124\n",
              "12    LA LIBERTAD   1428458212216   3832643.0     1428446202324    98318\n",
              "13     LAMBAYEQUE    706175220264   1691458.0      706168437229    48529\n",
              "14           LIMA  18663693076360  43707181.0    18663560564977  1235904\n",
              "15         LORETO    846638223064   2249183.0      846632055774    57562\n",
              "16  MADRE DE DIOS    150750149336    360538.0      150748982454     9775\n",
              "17       MOQUEGUA    215100394072    486975.0      215098327660    14860\n",
              "18          PASCO    272942856520    746551.0      272940930184    17096\n",
              "19          PIURA   1096763420568   2630517.0     1096754371250    73715\n",
              "20           PUNO    583073040400   1375061.0      583067840170    38959\n",
              "21     SAN MARTIN    628809410952   1589666.0      628803669061    44440\n",
              "22          TACNA    334443420192    750450.0      334440750937    22992\n",
              "23         TUMBES    338990783592    831063.0      338988525819    21331\n",
              "24        UCAYALI    435516150696   1088588.0      435512945363    27100"
            ]
          },
          "metadata": {
            "tags": []
          },
          "execution_count": 86
        }
      ]
    },
    {
      "cell_type": "code",
      "metadata": {
        "colab": {
          "base_uri": "https://localhost:8080/",
          "height": 824
        },
        "id": "QzMrK087hb31",
        "outputId": "b125c027-a636-4cb3-b40d-2d764aae24fa"
      },
      "source": [
        "#DOSIS POR REGION\n",
        "suma_edad_df = df.groupby(['DEPARTAMENTO']).sum().reset_index() \n",
        "\n",
        "region_geojson['COUNT']=suma_edad_df['DOSIS']\n",
        "region_geojson"
      ],
      "execution_count": null,
      "outputs": [
        {
          "output_type": "execute_result",
          "data": {
            "text/html": [
              "<div>\n",
              "<style scoped>\n",
              "    .dataframe tbody tr th:only-of-type {\n",
              "        vertical-align: middle;\n",
              "    }\n",
              "\n",
              "    .dataframe tbody tr th {\n",
              "        vertical-align: top;\n",
              "    }\n",
              "\n",
              "    .dataframe thead th {\n",
              "        text-align: right;\n",
              "    }\n",
              "</style>\n",
              "<table border=\"1\" class=\"dataframe\">\n",
              "  <thead>\n",
              "    <tr style=\"text-align: right;\">\n",
              "      <th></th>\n",
              "      <th>NOMBDEP</th>\n",
              "      <th>COUNT</th>\n",
              "      <th>FIRST_IDDP</th>\n",
              "      <th>HECTARES</th>\n",
              "      <th>geometry</th>\n",
              "    </tr>\n",
              "  </thead>\n",
              "  <tbody>\n",
              "    <tr>\n",
              "      <th>0</th>\n",
              "      <td>AMAZONAS</td>\n",
              "      <td>23777</td>\n",
              "      <td>01</td>\n",
              "      <td>3.930647e+06</td>\n",
              "      <td>POLYGON ((-77.75893 -6.96451, -77.84586 -6.976...</td>\n",
              "    </tr>\n",
              "    <tr>\n",
              "      <th>1</th>\n",
              "      <td>ANCASH</td>\n",
              "      <td>60518</td>\n",
              "      <td>02</td>\n",
              "      <td>3.596225e+06</td>\n",
              "      <td>POLYGON ((-77.31749 -8.53015, -77.28903 -8.589...</td>\n",
              "    </tr>\n",
              "    <tr>\n",
              "      <th>2</th>\n",
              "      <td>APURIMAC</td>\n",
              "      <td>39566</td>\n",
              "      <td>03</td>\n",
              "      <td>2.111415e+06</td>\n",
              "      <td>POLYGON ((-72.47177 -14.66140, -72.57725 -14.6...</td>\n",
              "    </tr>\n",
              "    <tr>\n",
              "      <th>3</th>\n",
              "      <td>AREQUIPA</td>\n",
              "      <td>109148</td>\n",
              "      <td>04</td>\n",
              "      <td>6.325589e+06</td>\n",
              "      <td>POLYGON ((-75.07333 -15.44294, -75.04965 -15.4...</td>\n",
              "    </tr>\n",
              "    <tr>\n",
              "      <th>4</th>\n",
              "      <td>AYACUCHO</td>\n",
              "      <td>53603</td>\n",
              "      <td>05</td>\n",
              "      <td>4.350382e+06</td>\n",
              "      <td>POLYGON ((-74.34595 -12.17374, -74.32187 -12.2...</td>\n",
              "    </tr>\n",
              "    <tr>\n",
              "      <th>5</th>\n",
              "      <td>CAJAMARCA</td>\n",
              "      <td>50851</td>\n",
              "      <td>06</td>\n",
              "      <td>3.304466e+06</td>\n",
              "      <td>POLYGON ((-79.32259 -7.02568, -79.29663 -6.999...</td>\n",
              "    </tr>\n",
              "    <tr>\n",
              "      <th>6</th>\n",
              "      <td>CALLAO</td>\n",
              "      <td>209138</td>\n",
              "      <td>07</td>\n",
              "      <td>1.414095e+04</td>\n",
              "      <td>POLYGON ((-77.18710 -11.82836, -77.12605 -11.8...</td>\n",
              "    </tr>\n",
              "    <tr>\n",
              "      <th>7</th>\n",
              "      <td>CUSCO</td>\n",
              "      <td>49009</td>\n",
              "      <td>08</td>\n",
              "      <td>7.207614e+06</td>\n",
              "      <td>POLYGON ((-72.47177 -14.66140, -72.46170 -14.6...</td>\n",
              "    </tr>\n",
              "    <tr>\n",
              "      <th>8</th>\n",
              "      <td>HUANCAVELICA</td>\n",
              "      <td>34763</td>\n",
              "      <td>09</td>\n",
              "      <td>2.206504e+06</td>\n",
              "      <td>POLYGON ((-75.05905 -14.12962, -75.10884 -14.0...</td>\n",
              "    </tr>\n",
              "    <tr>\n",
              "      <th>9</th>\n",
              "      <td>HUANUCO</td>\n",
              "      <td>43773</td>\n",
              "      <td>10</td>\n",
              "      <td>3.720053e+06</td>\n",
              "      <td>POLYGON ((-77.31749 -8.53015, -77.26408 -8.467...</td>\n",
              "    </tr>\n",
              "    <tr>\n",
              "      <th>10</th>\n",
              "      <td>ICA</td>\n",
              "      <td>57632</td>\n",
              "      <td>11</td>\n",
              "      <td>2.108077e+06</td>\n",
              "      <td>POLYGON ((-74.76230 -15.09805, -74.81592 -15.1...</td>\n",
              "    </tr>\n",
              "    <tr>\n",
              "      <th>11</th>\n",
              "      <td>JUNIN</td>\n",
              "      <td>59124</td>\n",
              "      <td>12</td>\n",
              "      <td>4.399729e+06</td>\n",
              "      <td>POLYGON ((-74.57300 -10.91260, -74.50838 -10.9...</td>\n",
              "    </tr>\n",
              "    <tr>\n",
              "      <th>12</th>\n",
              "      <td>LA LIBERTAD</td>\n",
              "      <td>98318</td>\n",
              "      <td>13</td>\n",
              "      <td>2.529597e+06</td>\n",
              "      <td>POLYGON ((-78.64492 -8.96923, -78.65166 -8.914...</td>\n",
              "    </tr>\n",
              "    <tr>\n",
              "      <th>13</th>\n",
              "      <td>LAMBAYEQUE</td>\n",
              "      <td>48529</td>\n",
              "      <td>14</td>\n",
              "      <td>1.434231e+06</td>\n",
              "      <td>POLYGON ((-80.62713 -6.37208, -80.37622 -6.006...</td>\n",
              "    </tr>\n",
              "    <tr>\n",
              "      <th>14</th>\n",
              "      <td>LIMA</td>\n",
              "      <td>1235904</td>\n",
              "      <td>15</td>\n",
              "      <td>3.498999e+06</td>\n",
              "      <td>POLYGON ((-76.90625 -10.27419, -76.85639 -10.3...</td>\n",
              "    </tr>\n",
              "    <tr>\n",
              "      <th>15</th>\n",
              "      <td>LORETO</td>\n",
              "      <td>57562</td>\n",
              "      <td>16</td>\n",
              "      <td>3.751160e+07</td>\n",
              "      <td>POLYGON ((-73.98303 -7.53436, -74.03380 -7.484...</td>\n",
              "    </tr>\n",
              "    <tr>\n",
              "      <th>16</th>\n",
              "      <td>MADRE DE DIOS</td>\n",
              "      <td>9775</td>\n",
              "      <td>17</td>\n",
              "      <td>8.504587e+06</td>\n",
              "      <td>POLYGON ((-70.38847 -13.19239, -70.46425 -13.1...</td>\n",
              "    </tr>\n",
              "    <tr>\n",
              "      <th>17</th>\n",
              "      <td>MOQUEGUA</td>\n",
              "      <td>14860</td>\n",
              "      <td>18</td>\n",
              "      <td>1.580731e+06</td>\n",
              "      <td>POLYGON ((-71.13944 -17.82148, -71.20565 -17.7...</td>\n",
              "    </tr>\n",
              "    <tr>\n",
              "      <th>18</th>\n",
              "      <td>PASCO</td>\n",
              "      <td>17096</td>\n",
              "      <td>19</td>\n",
              "      <td>2.411395e+06</td>\n",
              "      <td>POLYGON ((-76.27886 -10.92345, -76.24117 -11.0...</td>\n",
              "    </tr>\n",
              "    <tr>\n",
              "      <th>19</th>\n",
              "      <td>PIURA</td>\n",
              "      <td>73715</td>\n",
              "      <td>20</td>\n",
              "      <td>3.606507e+06</td>\n",
              "      <td>POLYGON ((-79.21007 -4.96524, -79.24509 -5.001...</td>\n",
              "    </tr>\n",
              "    <tr>\n",
              "      <th>20</th>\n",
              "      <td>PUNO</td>\n",
              "      <td>38959</td>\n",
              "      <td>21</td>\n",
              "      <td>6.796282e+06</td>\n",
              "      <td>MULTIPOLYGON (((-68.91839 -16.40372, -68.91840...</td>\n",
              "    </tr>\n",
              "    <tr>\n",
              "      <th>21</th>\n",
              "      <td>SAN MARTIN</td>\n",
              "      <td>44440</td>\n",
              "      <td>22</td>\n",
              "      <td>5.096126e+06</td>\n",
              "      <td>POLYGON ((-75.98496 -8.32215, -76.08718 -8.336...</td>\n",
              "    </tr>\n",
              "    <tr>\n",
              "      <th>22</th>\n",
              "      <td>TACNA</td>\n",
              "      <td>22992</td>\n",
              "      <td>23</td>\n",
              "      <td>1.608307e+06</td>\n",
              "      <td>POLYGON ((-69.64132 -17.28745, -69.57522 -17.2...</td>\n",
              "    </tr>\n",
              "    <tr>\n",
              "      <th>23</th>\n",
              "      <td>TUMBES</td>\n",
              "      <td>21331</td>\n",
              "      <td>24</td>\n",
              "      <td>4.690260e+05</td>\n",
              "      <td>POLYGON ((-80.48733 -4.08313, -80.52435 -4.107...</td>\n",
              "    </tr>\n",
              "    <tr>\n",
              "      <th>24</th>\n",
              "      <td>UCAYALI</td>\n",
              "      <td>27100</td>\n",
              "      <td>25</td>\n",
              "      <td>1.053418e+07</td>\n",
              "      <td>POLYGON ((-70.61388 -9.91686, -70.66763 -9.972...</td>\n",
              "    </tr>\n",
              "  </tbody>\n",
              "</table>\n",
              "</div>"
            ],
            "text/plain": [
              "          NOMBDEP  ...                                           geometry\n",
              "0        AMAZONAS  ...  POLYGON ((-77.75893 -6.96451, -77.84586 -6.976...\n",
              "1          ANCASH  ...  POLYGON ((-77.31749 -8.53015, -77.28903 -8.589...\n",
              "2        APURIMAC  ...  POLYGON ((-72.47177 -14.66140, -72.57725 -14.6...\n",
              "3        AREQUIPA  ...  POLYGON ((-75.07333 -15.44294, -75.04965 -15.4...\n",
              "4        AYACUCHO  ...  POLYGON ((-74.34595 -12.17374, -74.32187 -12.2...\n",
              "5       CAJAMARCA  ...  POLYGON ((-79.32259 -7.02568, -79.29663 -6.999...\n",
              "6          CALLAO  ...  POLYGON ((-77.18710 -11.82836, -77.12605 -11.8...\n",
              "7           CUSCO  ...  POLYGON ((-72.47177 -14.66140, -72.46170 -14.6...\n",
              "8    HUANCAVELICA  ...  POLYGON ((-75.05905 -14.12962, -75.10884 -14.0...\n",
              "9         HUANUCO  ...  POLYGON ((-77.31749 -8.53015, -77.26408 -8.467...\n",
              "10            ICA  ...  POLYGON ((-74.76230 -15.09805, -74.81592 -15.1...\n",
              "11          JUNIN  ...  POLYGON ((-74.57300 -10.91260, -74.50838 -10.9...\n",
              "12    LA LIBERTAD  ...  POLYGON ((-78.64492 -8.96923, -78.65166 -8.914...\n",
              "13     LAMBAYEQUE  ...  POLYGON ((-80.62713 -6.37208, -80.37622 -6.006...\n",
              "14           LIMA  ...  POLYGON ((-76.90625 -10.27419, -76.85639 -10.3...\n",
              "15         LORETO  ...  POLYGON ((-73.98303 -7.53436, -74.03380 -7.484...\n",
              "16  MADRE DE DIOS  ...  POLYGON ((-70.38847 -13.19239, -70.46425 -13.1...\n",
              "17       MOQUEGUA  ...  POLYGON ((-71.13944 -17.82148, -71.20565 -17.7...\n",
              "18          PASCO  ...  POLYGON ((-76.27886 -10.92345, -76.24117 -11.0...\n",
              "19          PIURA  ...  POLYGON ((-79.21007 -4.96524, -79.24509 -5.001...\n",
              "20           PUNO  ...  MULTIPOLYGON (((-68.91839 -16.40372, -68.91840...\n",
              "21     SAN MARTIN  ...  POLYGON ((-75.98496 -8.32215, -76.08718 -8.336...\n",
              "22          TACNA  ...  POLYGON ((-69.64132 -17.28745, -69.57522 -17.2...\n",
              "23         TUMBES  ...  POLYGON ((-80.48733 -4.08313, -80.52435 -4.107...\n",
              "24        UCAYALI  ...  POLYGON ((-70.61388 -9.91686, -70.66763 -9.972...\n",
              "\n",
              "[25 rows x 5 columns]"
            ]
          },
          "metadata": {
            "tags": []
          },
          "execution_count": 87
        }
      ]
    },
    {
      "cell_type": "code",
      "metadata": {
        "colab": {
          "base_uri": "https://localhost:8080/",
          "height": 531
        },
        "id": "e92j7t6NkTvl",
        "outputId": "a7b75008-5539-4735-d9a5-d4f4bd21bcb5"
      },
      "source": [
        "title = 'Mapa de calor de vacunación Perú'\n",
        "col = 'COUNT'\n",
        "source = 'Elaboracion Propia'\n",
        "vmin = region_geojson[col].min()\n",
        "vmax = region_geojson[col].max()\n",
        "cmap = 'tab20'\n",
        "\n",
        "# Create figure and axes for Matplotlib\n",
        "fig, ax = plt.subplots(1, figsize=(15, 8))\n",
        "\n",
        "# Remove the axis\n",
        "ax.axis('off')\n",
        "region_geojson.plot(column=col, ax=ax, edgecolor='0.8', linewidth=1, cmap=cmap)\n",
        "\n",
        "# Add a title\n",
        "loc='left'\n",
        "ax.set_title(title, fontdict={'fontsize': '20', 'fontweight': '3', 'horizontalalignment': loc})\n",
        "\n",
        "# Create an annotation for the data source\n",
        "ax.annotate(source, xy=(0.1, .08), xycoords='figure fraction', horizontalalignment='left', \n",
        "            verticalalignment='bottom', fontsize=10)\n",
        "            \n",
        "# Create colorbar as a legend\n",
        "sm = plt.cm.ScalarMappable(norm=plt.Normalize(vmin=vmin, vmax=vmax), cmap=cmap)\n",
        "\n",
        "# Empty array for the data range\n",
        "sm._A = []\n",
        "\n",
        "# Add the colorbar to the figure\n",
        "cbaxes = fig.add_axes([0.15, 0.25, 0.01, 0.4])\n",
        "cbar = fig.colorbar(sm, cax=cbaxes)\n",
        "plt.savefig(\"mapa.jpg\", bbox_inches='tight')\n",
        "plt.show"
      ],
      "execution_count": null,
      "outputs": [
        {
          "output_type": "execute_result",
          "data": {
            "text/plain": [
              "<function matplotlib.pyplot.show>"
            ]
          },
          "metadata": {
            "tags": []
          },
          "execution_count": 89
        },
        {
          "output_type": "display_data",
          "data": {
            "image/png": "[encoded data removed]",
            "text/plain": [
              "<Figure size 1080x576 with 2 Axes>"
            ]
          },
          "metadata": {
            "tags": [],
            "needs_background": "light"
          }
        }
      ]
    },
    {
      "cell_type": "markdown",
      "metadata": {
        "id": "_Mvt1SnvYLxc"
      },
      "source": [
        "### 2"
      ]
    },
    {
      "cell_type": "code",
      "metadata": {
        "id": "BZVO5V0kVHd4"
      },
      "source": [
        "#Contar por pais y Genero \n",
        "cont_pais_gen = df.groupby(['SEXO','FABRICANTE']).count().reset_index()\n",
        "cont_pais_gen['Conteo'] = cont_pais_gen['DOSIS']\n",
        "#cont_pais_gen = cont_pais_gen.drop(['edad','gasto','dia'],axis=1)\n",
        "cont_f = cont_pais_gen[cont_pais_gen['SEXO'] == 'FEMENINO']\n",
        "cont_m = cont_pais_gen[cont_pais_gen['SEXO'] == 'MASCULINO']"
      ],
      "execution_count": null,
      "outputs": []
    },
    {
      "cell_type": "markdown",
      "metadata": {
        "id": "6L9u8A_T3eHK"
      },
      "source": [
        "## Dosis totales por Fabricante\n",
        "\n"
      ]
    },
    {
      "cell_type": "code",
      "metadata": {
        "colab": {
          "base_uri": "https://localhost:8080/",
          "height": 320
        },
        "id": "JHTZobV5VMDb",
        "outputId": "90b68351-43ab-4038-a31d-5018fd4619b4"
      },
      "source": [
        "#Barras comparadas #Dosis por sexo en cada fabricante\n",
        "import numpy as np\n",
        "width = 0.35 #ancho\n",
        "labels = cont_m['FABRICANTE']\n",
        "x = np.arange(len(labels))\n",
        "\n",
        "f, ax = plt.subplots(figsize=(12,5)) # set the size that you'd like (width, height)\n",
        "plt.bar(x + width/2, cont_m['Conteo'],width,label='M')\n",
        "plt.bar(x - width/2, cont_f['Conteo'],width,label='F')\n",
        "plt.xticks(x,labels, fontsize=10)\n",
        "ax.legend(fontsize = 10)\n",
        "plt.savefig(\"porcentaje_fabricantes.jpg\", bbox_inches='tight')\n",
        "plt.show()"
      ],
      "execution_count": null,
      "outputs": [
        {
          "output_type": "display_data",
          "data": {
            "image/png": "[encoded data removed]",
            "text/plain": [
              "<Figure size 864x360 with 1 Axes>"
            ]
          },
          "metadata": {
            "tags": [],
            "needs_background": "light"
          }
        }
      ]
    },
    {
      "cell_type": "markdown",
      "metadata": {
        "id": "L7jJbprEJZHR"
      },
      "source": [
        "## Dosis totales por Grupo de riesgo y genero"
      ]
    },
    {
      "cell_type": "code",
      "metadata": {
        "id": "Tb34PCjlNMa3"
      },
      "source": [
        "#Contar por grupo de riesgo y Genero \n",
        "cont_pais_gen = df.groupby(['SEXO','GRUPO_RIESGO']).count().reset_index()\n",
        "cont_pais_gen['Conteo'] = cont_pais_gen['DOSIS']\n",
        "#cont_pais_gen = cont_pais_gen.drop(['edad','gasto','dia'],axis=1)\n",
        "cont_f = cont_pais_gen[cont_pais_gen['SEXO'] == 'FEMENINO']\n",
        "cont_m = cont_pais_gen[cont_pais_gen['SEXO'] == 'MASCULINO']"
      ],
      "execution_count": null,
      "outputs": []
    },
    {
      "cell_type": "code",
      "metadata": {
        "colab": {
          "base_uri": "https://localhost:8080/",
          "height": 317
        },
        "id": "SssF_QEsNl4X",
        "outputId": "b0c591da-2be3-4929-eabb-5ba5dd7539ae"
      },
      "source": [
        "import numpy as np\n",
        "width = 0.35 #ancho\n",
        "labels = cont_m['GRUPO_RIESGO']\n",
        "x = np.arange(len(labels))\n",
        "\n",
        "f, ax = plt.subplots(figsize=(16,5)) # set the size that you'd like (width, height)\n",
        "plt.bar(x + width/2, cont_m['Conteo'],width,label='M')\n",
        "plt.bar(x - width/2, cont_f['Conteo'],width,label='F')\n",
        "plt.xticks(x,labels, fontsize=7)\n",
        "ax.legend(fontsize = 10)\n",
        "plt.savefig(\"porcentaje_grupoDeRiesgo.jpg\", bbox_inches='tight')\n",
        "plt.show()"
      ],
      "execution_count": null,
      "outputs": [
        {
          "output_type": "display_data",
          "data": {
            "image/png": "[encoded data removed]",
            "text/plain": [
              "<Figure size 1152x360 with 1 Axes>"
            ]
          },
          "metadata": {
            "tags": [],
            "needs_background": "light"
          }
        }
      ]
    },
    {
      "cell_type": "markdown",
      "metadata": {
        "id": "nXjvMK9JYOE9"
      },
      "source": [
        "### Evolución de las Dosis de Vacunas diarias y acumuladas"
      ]
    },
    {
      "cell_type": "code",
      "metadata": {
        "id": "LB01TZzqV2Ff"
      },
      "source": [
        "format='%Y%m%d'\n",
        "\n",
        "df['FECHA_VACUNACION'] = pd.to_datetime(df['FECHA_VACUNACION'], format=format)"
      ],
      "execution_count": null,
      "outputs": []
    },
    {
      "cell_type": "code",
      "metadata": {
        "colab": {
          "base_uri": "https://localhost:8080/",
          "height": 904
        },
        "id": "GxTZ-Nr3TOh-",
        "outputId": "59d96e74-f1c7-462d-edf9-c51b3caa4d3b"
      },
      "source": [
        "#Graficando #Dosis por fecha de vacunacion\n",
        "suma_edad_df = df.groupby(['FECHA_VACUNACION']).sum().reset_index()\n",
        "\n",
        "plt.figure(figsize=(18,12))\n",
        "# Primera grafica\n",
        "plt.subplot(2,1,1)\n",
        "\n",
        "plt.plot(suma_edad_df['FECHA_VACUNACION'],suma_edad_df['DOSIS'], '-', label=\"Dosis Diarias\")\n",
        "\n",
        "plt.title(\"Evolución - Dosis de las Vacunas\")\n",
        "plt.ylabel('#Dosis')\n",
        "plt.xlabel('Mediciones Diarias')\n",
        "plt.legend()\n",
        "plt.grid()\n",
        "plt.tight_layout()\n",
        "\n",
        "# Segunda grafica\n",
        "plt.subplot(2,1,2)\n",
        "\n",
        "plt.plot(suma_edad_df['FECHA_VACUNACION'],np.cumsum(suma_edad_df['DOSIS']), '-', label=\"Dosis Acumulado\")\n",
        "\n",
        "plt.ylabel('#Dosis')\n",
        "plt.xlabel('Mediciones Diarias')\n",
        "plt.legend()\n",
        "plt.grid()\n",
        "plt.savefig(\"historial_dosis_fecha.jpg\", bbox_inches='tight')\n",
        "plt.show()"
      ],
      "execution_count": null,
      "outputs": [
        {
          "output_type": "display_data",
          "data": {
            "image/png": "[encoded data removed]",
            "text/plain": [
              "<Figure size 1296x864 with 2 Axes>"
            ]
          },
          "metadata": {
            "tags": [],
            "needs_background": "light"
          }
        }
      ]
    },
    {
      "cell_type": "markdown",
      "metadata": {
        "id": "ltobJ02USbkI"
      },
      "source": [
        "## Distribución porcentual de individuos según Dosis"
      ]
    },
    {
      "cell_type": "code",
      "metadata": {
        "id": "ZgDUjzKPHiwE"
      },
      "source": [
        "# Nos quedamos con los datos que correspondan solo a la primera dosis\n",
        "UnaDosis = df[df['DOSIS'] == 1]\n",
        "DosDosis = df[df['DOSIS'] == 2]\n"
      ],
      "execution_count": null,
      "outputs": []
    },
    {
      "cell_type": "code",
      "metadata": {
        "colab": {
          "base_uri": "https://localhost:8080/",
          "height": 248
        },
        "id": "wtQnsCbhTFrr",
        "outputId": "cb8e68b6-08a9-4d42-a1df-e6ee30542180"
      },
      "source": [
        "#Barras comparadas Dosis por sexo en cada departamento\n",
        "import numpy as np\n",
        "width = 0.5 #ancho\n",
        "labels = cont_m['DOSIS']\n",
        "x = np.arange(len(labels))\n",
        "\n",
        "labels = 'Una_Dosis', 'Dos_Dosis'\n",
        "sizes = [UnaDosis['DOSIS'].shape[0], DosDosis['DOSIS'].shape[0]]\n",
        " \n",
        "fig1, ax1 = plt.subplots()\n",
        "ax1.pie(sizes, labels=labels, autopct='%1.1f%%')\n",
        "ax1.axis('equal')  \n",
        "plt.savefig(\"porcentaje_SegunDosis.jpg\", bbox_inches='tight')\n",
        "plt.show()"
      ],
      "execution_count": null,
      "outputs": [
        {
          "output_type": "display_data",
          "data": {
            "image/png": "[encoded data removed]",
            "text/plain": [
              "<Figure size 432x288 with 1 Axes>"
            ]
          },
          "metadata": {
            "tags": []
          }
        }
      ]
    },
    {
      "cell_type": "markdown",
      "metadata": {
        "id": "sXObE9GSWovG"
      },
      "source": [
        "## Distribucion de vacunados - segunda dosis - Distrito"
      ]
    },
    {
      "cell_type": "code",
      "metadata": {
        "colab": {
          "base_uri": "https://localhost:8080/",
          "height": 204
        },
        "id": "18zDyr8sWyTQ",
        "outputId": "fdcec8a3-a0ca-4376-b709-1457c87e2f3f"
      },
      "source": [
        "url_geojson = \"peru_provincial_simple.geojson\"\n",
        "\n",
        "provincial_geojson = gpd.read_file(url_geojson)\n",
        "provincial_geojson.head()"
      ],
      "execution_count": null,
      "outputs": [
        {
          "output_type": "execute_result",
          "data": {
            "text/html": [
              "<div>\n",
              "<style scoped>\n",
              "    .dataframe tbody tr th:only-of-type {\n",
              "        vertical-align: middle;\n",
              "    }\n",
              "\n",
              "    .dataframe tbody tr th {\n",
              "        vertical-align: top;\n",
              "    }\n",
              "\n",
              "    .dataframe thead th {\n",
              "        text-align: right;\n",
              "    }\n",
              "</style>\n",
              "<table border=\"1\" class=\"dataframe\">\n",
              "  <thead>\n",
              "    <tr style=\"text-align: right;\">\n",
              "      <th></th>\n",
              "      <th>COUNT</th>\n",
              "      <th>FIRST_IDPR</th>\n",
              "      <th>NOMBPROV</th>\n",
              "      <th>FIRST_NOMB</th>\n",
              "      <th>LAST_DCTO</th>\n",
              "      <th>LAST_LEY</th>\n",
              "      <th>FIRST_FECH</th>\n",
              "      <th>LAST_FECHA</th>\n",
              "      <th>MIN_SHAPE_</th>\n",
              "      <th>ha</th>\n",
              "      <th>geometry</th>\n",
              "    </tr>\n",
              "  </thead>\n",
              "  <tbody>\n",
              "    <tr>\n",
              "      <th>0</th>\n",
              "      <td>9</td>\n",
              "      <td>0301</td>\n",
              "      <td>ABANCAY</td>\n",
              "      <td>APURIMAC</td>\n",
              "      <td>LEY</td>\n",
              "      <td>S/N</td>\n",
              "      <td>28/12/1961</td>\n",
              "      <td>21/11/1893</td>\n",
              "      <td>3.458273e+05</td>\n",
              "      <td>345827.34</td>\n",
              "      <td>POLYGON ((-72.77286 -13.44888, -72.74545 -13.4...</td>\n",
              "    </tr>\n",
              "    <tr>\n",
              "      <th>1</th>\n",
              "      <td>8</td>\n",
              "      <td>0902</td>\n",
              "      <td>ACOBAMBA</td>\n",
              "      <td>HUANCAVELICA</td>\n",
              "      <td>LEY</td>\n",
              "      <td>5292</td>\n",
              "      <td>23/11/1925</td>\n",
              "      <td>23/11/1925</td>\n",
              "      <td>9.263674e+04</td>\n",
              "      <td>92636.74</td>\n",
              "      <td>POLYGON ((-74.32362 -12.83251, -74.31945 -12.8...</td>\n",
              "    </tr>\n",
              "    <tr>\n",
              "      <th>2</th>\n",
              "      <td>7</td>\n",
              "      <td>0802</td>\n",
              "      <td>ACOMAYO</td>\n",
              "      <td>CUSCO</td>\n",
              "      <td>LEY</td>\n",
              "      <td>S/N</td>\n",
              "      <td>11/11/1964</td>\n",
              "      <td>02/01/1857</td>\n",
              "      <td>9.328581e+04</td>\n",
              "      <td>93285.81</td>\n",
              "      <td>POLYGON ((-71.51688 -13.96722, -71.44034 -14.1...</td>\n",
              "    </tr>\n",
              "    <tr>\n",
              "      <th>3</th>\n",
              "      <td>5</td>\n",
              "      <td>0202</td>\n",
              "      <td>AIJA</td>\n",
              "      <td>ANCASH</td>\n",
              "      <td>LEY</td>\n",
              "      <td>8188</td>\n",
              "      <td>21/12/1907</td>\n",
              "      <td>05/03/1936</td>\n",
              "      <td>6.963963e+04</td>\n",
              "      <td>69639.63</td>\n",
              "      <td>POLYGON ((-77.96140 -9.78024, -77.86786 -9.763...</td>\n",
              "    </tr>\n",
              "    <tr>\n",
              "      <th>4</th>\n",
              "      <td>6</td>\n",
              "      <td>1602</td>\n",
              "      <td>ALTO AMAZONAS</td>\n",
              "      <td>LORETO</td>\n",
              "      <td>LEY</td>\n",
              "      <td>S/N</td>\n",
              "      <td>08/09/1964</td>\n",
              "      <td>02/01/1857</td>\n",
              "      <td>1.917213e+06</td>\n",
              "      <td>1917212.66</td>\n",
              "      <td>POLYGON ((-76.28970 -3.69122, -76.24529 -3.751...</td>\n",
              "    </tr>\n",
              "  </tbody>\n",
              "</table>\n",
              "</div>"
            ],
            "text/plain": [
              "   COUNT  ...                                           geometry\n",
              "0      9  ...  POLYGON ((-72.77286 -13.44888, -72.74545 -13.4...\n",
              "1      8  ...  POLYGON ((-74.32362 -12.83251, -74.31945 -12.8...\n",
              "2      7  ...  POLYGON ((-71.51688 -13.96722, -71.44034 -14.1...\n",
              "3      5  ...  POLYGON ((-77.96140 -9.78024, -77.86786 -9.763...\n",
              "4      6  ...  POLYGON ((-76.28970 -3.69122, -76.24529 -3.751...\n",
              "\n",
              "[5 rows x 11 columns]"
            ]
          },
          "metadata": {
            "tags": []
          },
          "execution_count": 98
        }
      ]
    },
    {
      "cell_type": "code",
      "metadata": {
        "colab": {
          "base_uri": "https://localhost:8080/",
          "height": 419
        },
        "id": "lG_O-MxnXAc3",
        "outputId": "2574e62a-56cf-477d-9ca3-411e5c03c497"
      },
      "source": [
        "#DOSIS POR REGION\n",
        "suma_edad_df = DosDosis.groupby(['DEPARTAMENTO']).sum().reset_index() \n",
        "\n",
        "provincial_geojson['COUNT']=suma_edad_df['DOSIS']\n",
        "provincial_geojson"
      ],
      "execution_count": null,
      "outputs": [
        {
          "output_type": "execute_result",
          "data": {
            "text/html": [
              "<div>\n",
              "<style scoped>\n",
              "    .dataframe tbody tr th:only-of-type {\n",
              "        vertical-align: middle;\n",
              "    }\n",
              "\n",
              "    .dataframe tbody tr th {\n",
              "        vertical-align: top;\n",
              "    }\n",
              "\n",
              "    .dataframe thead th {\n",
              "        text-align: right;\n",
              "    }\n",
              "</style>\n",
              "<table border=\"1\" class=\"dataframe\">\n",
              "  <thead>\n",
              "    <tr style=\"text-align: right;\">\n",
              "      <th></th>\n",
              "      <th>COUNT</th>\n",
              "      <th>FIRST_IDPR</th>\n",
              "      <th>NOMBPROV</th>\n",
              "      <th>FIRST_NOMB</th>\n",
              "      <th>LAST_DCTO</th>\n",
              "      <th>LAST_LEY</th>\n",
              "      <th>FIRST_FECH</th>\n",
              "      <th>LAST_FECHA</th>\n",
              "      <th>MIN_SHAPE_</th>\n",
              "      <th>ha</th>\n",
              "      <th>geometry</th>\n",
              "    </tr>\n",
              "  </thead>\n",
              "  <tbody>\n",
              "    <tr>\n",
              "      <th>0</th>\n",
              "      <td>10792.0</td>\n",
              "      <td>0301</td>\n",
              "      <td>ABANCAY</td>\n",
              "      <td>APURIMAC</td>\n",
              "      <td>LEY</td>\n",
              "      <td>S/N</td>\n",
              "      <td>28/12/1961</td>\n",
              "      <td>21/11/1893</td>\n",
              "      <td>3.458273e+05</td>\n",
              "      <td>345827.34</td>\n",
              "      <td>POLYGON ((-72.77286 -13.44888, -72.74545 -13.4...</td>\n",
              "    </tr>\n",
              "    <tr>\n",
              "      <th>1</th>\n",
              "      <td>34644.0</td>\n",
              "      <td>0902</td>\n",
              "      <td>ACOBAMBA</td>\n",
              "      <td>HUANCAVELICA</td>\n",
              "      <td>LEY</td>\n",
              "      <td>5292</td>\n",
              "      <td>23/11/1925</td>\n",
              "      <td>23/11/1925</td>\n",
              "      <td>9.263674e+04</td>\n",
              "      <td>92636.74</td>\n",
              "      <td>POLYGON ((-74.32362 -12.83251, -74.31945 -12.8...</td>\n",
              "    </tr>\n",
              "    <tr>\n",
              "      <th>2</th>\n",
              "      <td>14792.0</td>\n",
              "      <td>0802</td>\n",
              "      <td>ACOMAYO</td>\n",
              "      <td>CUSCO</td>\n",
              "      <td>LEY</td>\n",
              "      <td>S/N</td>\n",
              "      <td>11/11/1964</td>\n",
              "      <td>02/01/1857</td>\n",
              "      <td>9.328581e+04</td>\n",
              "      <td>93285.81</td>\n",
              "      <td>POLYGON ((-71.51688 -13.96722, -71.44034 -14.1...</td>\n",
              "    </tr>\n",
              "    <tr>\n",
              "      <th>3</th>\n",
              "      <td>64440.0</td>\n",
              "      <td>0202</td>\n",
              "      <td>AIJA</td>\n",
              "      <td>ANCASH</td>\n",
              "      <td>LEY</td>\n",
              "      <td>8188</td>\n",
              "      <td>21/12/1907</td>\n",
              "      <td>05/03/1936</td>\n",
              "      <td>6.963963e+04</td>\n",
              "      <td>69639.63</td>\n",
              "      <td>POLYGON ((-77.96140 -9.78024, -77.86786 -9.763...</td>\n",
              "    </tr>\n",
              "    <tr>\n",
              "      <th>4</th>\n",
              "      <td>18520.0</td>\n",
              "      <td>1602</td>\n",
              "      <td>ALTO AMAZONAS</td>\n",
              "      <td>LORETO</td>\n",
              "      <td>LEY</td>\n",
              "      <td>S/N</td>\n",
              "      <td>08/09/1964</td>\n",
              "      <td>02/01/1857</td>\n",
              "      <td>1.917213e+06</td>\n",
              "      <td>1917212.66</td>\n",
              "      <td>POLYGON ((-76.28970 -3.69122, -76.24529 -3.751...</td>\n",
              "    </tr>\n",
              "    <tr>\n",
              "      <th>...</th>\n",
              "      <td>...</td>\n",
              "      <td>...</td>\n",
              "      <td>...</td>\n",
              "      <td>...</td>\n",
              "      <td>...</td>\n",
              "      <td>...</td>\n",
              "      <td>...</td>\n",
              "      <td>...</td>\n",
              "      <td>...</td>\n",
              "      <td>...</td>\n",
              "      <td>...</td>\n",
              "    </tr>\n",
              "    <tr>\n",
              "      <th>192</th>\n",
              "      <td>NaN</td>\n",
              "      <td>1510</td>\n",
              "      <td>YAUYOS</td>\n",
              "      <td>LIMA</td>\n",
              "      <td>LEY</td>\n",
              "      <td>12644</td>\n",
              "      <td>26/03/1965</td>\n",
              "      <td>02/02/1956</td>\n",
              "      <td>6.990514e+05</td>\n",
              "      <td>699051.38</td>\n",
              "      <td>POLYGON ((-75.96140 -13.00138, -75.95743 -12.9...</td>\n",
              "    </tr>\n",
              "    <tr>\n",
              "      <th>193</th>\n",
              "      <td>NaN</td>\n",
              "      <td>0220</td>\n",
              "      <td>YUNGAY</td>\n",
              "      <td>ANCASH</td>\n",
              "      <td>L.R.</td>\n",
              "      <td>176</td>\n",
              "      <td>02/01/1857</td>\n",
              "      <td>02/08/1920</td>\n",
              "      <td>1.364843e+05</td>\n",
              "      <td>136484.28</td>\n",
              "      <td>POLYGON ((-78.05610 -9.27470, -78.03717 -9.243...</td>\n",
              "    </tr>\n",
              "    <tr>\n",
              "      <th>194</th>\n",
              "      <td>NaN</td>\n",
              "      <td>2113</td>\n",
              "      <td>YUNGUYO</td>\n",
              "      <td>PUNO</td>\n",
              "      <td>LEY</td>\n",
              "      <td>24042</td>\n",
              "      <td>28/12/1984</td>\n",
              "      <td>28/12/1984</td>\n",
              "      <td>4.206501e+04</td>\n",
              "      <td>42065.01</td>\n",
              "      <td>MULTIPOLYGON (((-68.91839 -16.40372, -68.91840...</td>\n",
              "    </tr>\n",
              "    <tr>\n",
              "      <th>195</th>\n",
              "      <td>NaN</td>\n",
              "      <td>2403</td>\n",
              "      <td>ZARUMILLA</td>\n",
              "      <td>TUMBES</td>\n",
              "      <td>LEY</td>\n",
              "      <td>S/N</td>\n",
              "      <td>25/11/1942</td>\n",
              "      <td>12/01/1871</td>\n",
              "      <td>7.581930e+04</td>\n",
              "      <td>75819.30</td>\n",
              "      <td>POLYGON ((-80.18074 -3.92583, -80.24359 -3.897...</td>\n",
              "    </tr>\n",
              "    <tr>\n",
              "      <th>196</th>\n",
              "      <td>NaN</td>\n",
              "      <td>0104</td>\n",
              "      <td>CONDORCANQUI</td>\n",
              "      <td>AMAZONAS</td>\n",
              "      <td>LEY</td>\n",
              "      <td>23832</td>\n",
              "      <td>18/05/1984</td>\n",
              "      <td>18/05/1984</td>\n",
              "      <td>1.792724e+06</td>\n",
              "      <td>1792723.85</td>\n",
              "      <td>POLYGON ((-77.74529 -5.13302, -77.95552 -5.399...</td>\n",
              "    </tr>\n",
              "  </tbody>\n",
              "</table>\n",
              "<p>197 rows × 11 columns</p>\n",
              "</div>"
            ],
            "text/plain": [
              "       COUNT  ...                                           geometry\n",
              "0    10792.0  ...  POLYGON ((-72.77286 -13.44888, -72.74545 -13.4...\n",
              "1    34644.0  ...  POLYGON ((-74.32362 -12.83251, -74.31945 -12.8...\n",
              "2    14792.0  ...  POLYGON ((-71.51688 -13.96722, -71.44034 -14.1...\n",
              "3    64440.0  ...  POLYGON ((-77.96140 -9.78024, -77.86786 -9.763...\n",
              "4    18520.0  ...  POLYGON ((-76.28970 -3.69122, -76.24529 -3.751...\n",
              "..       ...  ...                                                ...\n",
              "192      NaN  ...  POLYGON ((-75.96140 -13.00138, -75.95743 -12.9...\n",
              "193      NaN  ...  POLYGON ((-78.05610 -9.27470, -78.03717 -9.243...\n",
              "194      NaN  ...  MULTIPOLYGON (((-68.91839 -16.40372, -68.91840...\n",
              "195      NaN  ...  POLYGON ((-80.18074 -3.92583, -80.24359 -3.897...\n",
              "196      NaN  ...  POLYGON ((-77.74529 -5.13302, -77.95552 -5.399...\n",
              "\n",
              "[197 rows x 11 columns]"
            ]
          },
          "metadata": {
            "tags": []
          },
          "execution_count": 99
        }
      ]
    },
    {
      "cell_type": "code",
      "metadata": {
        "colab": {
          "base_uri": "https://localhost:8080/",
          "height": 531
        },
        "id": "t8d5Dx3SXFsk",
        "outputId": "4f01203d-39e0-4dcb-8563-1581397324ee"
      },
      "source": [
        "title = 'Mapa de calor de vacunación Perú - Provincias'\n",
        "col = 'COUNT'\n",
        "source = 'Elaboracion Propia'\n",
        "vmin = provincial_geojson[col].min()\n",
        "vmax = provincial_geojson[col].max()\n",
        "cmap = 'tab20'\n",
        "\n",
        "# Create figure and axes for Matplotlib\n",
        "fig, ax = plt.subplots(1, figsize=(15, 8))\n",
        "\n",
        "# Remove the axis\n",
        "ax.axis('off')\n",
        "provincial_geojson.plot(column=col, ax=ax, edgecolor='0.8', linewidth=1, cmap=cmap)\n",
        "\n",
        "# Add a title\n",
        "loc='left'\n",
        "ax.set_title(title, fontdict={'fontsize': '20', 'fontweight': '3', 'horizontalalignment': loc})\n",
        "\n",
        "# Create an annotation for the data source\n",
        "ax.annotate(source, xy=(0.1, .08), xycoords='figure fraction', horizontalalignment='left', \n",
        "            verticalalignment='bottom', fontsize=10)\n",
        "            \n",
        "# Create colorbar as a legend\n",
        "sm = plt.cm.ScalarMappable(norm=plt.Normalize(vmin=vmin, vmax=vmax), cmap=cmap)\n",
        "\n",
        "# Empty array for the data range\n",
        "sm._A = []\n",
        "\n",
        "# Add the colorbar to the figure\n",
        "cbaxes = fig.add_axes([0.15, 0.25, 0.01, 0.4])\n",
        "cbar = fig.colorbar(sm, cax=cbaxes)\n",
        "#plt.savefig(\"mapa.jpg\", bbox_inches='tight')\n",
        "plt.show"
      ],
      "execution_count": null,
      "outputs": [
        {
          "output_type": "execute_result",
          "data": {
            "text/plain": [
              "<function matplotlib.pyplot.show>"
            ]
          },
          "metadata": {
            "tags": []
          },
          "execution_count": 100
        },
        {
          "output_type": "display_data",
          "data": {
            "image/png": "[encoded data removed]",
            "text/plain": [
              "<Figure size 1080x576 with 2 Axes>"
            ]
          },
          "metadata": {
            "tags": [],
            "needs_background": "light"
          }
        }
      ]
    }
  ]
}